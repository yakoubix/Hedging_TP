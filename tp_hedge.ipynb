{
 "cells": [
  {
   "cell_type": "code",
   "execution_count": 1,
   "metadata": {},
   "outputs": [],
   "source": [
    "import numpy as np\n",
    "from scipy.stats import norm\n",
    "import matplotlib.pyplot as plt"
   ]
  },
  {
   "cell_type": "markdown",
   "metadata": {},
   "source": [
    "# Create data"
   ]
  },
  {
   "cell_type": "code",
   "execution_count": 2,
   "metadata": {},
   "outputs": [],
   "source": [
    "spot_init=100\n",
    "\n",
    "int_rate = 2/100\n",
    "volatility=15/100\n",
    "maturity=1\n",
    "nb_step=12\n",
    "time_step = maturity/nb_step\n",
    "nb_path=20\n",
    "nb_seed=20191008"
   ]
  },
  {
   "cell_type": "code",
   "execution_count": 3,
   "metadata": {},
   "outputs": [],
   "source": [
    "drift_mod = (int_rate-0.5*volatility**2)*time_step\n",
    "mat_drift = drift_mod*np.cumsum(np.ones((nb_path,nb_step)),axis=1)"
   ]
  },
  {
   "cell_type": "code",
   "execution_count": 4,
   "metadata": {},
   "outputs": [],
   "source": [
    "volat_mod = volatility*np.sqrt(time_step)\n"
   ]
  },
  {
   "cell_type": "code",
   "execution_count": 5,
   "metadata": {},
   "outputs": [],
   "source": [
    "np.random.seed(nb_seed)"
   ]
  },
  {
   "cell_type": "code",
   "execution_count": 6,
   "metadata": {},
   "outputs": [],
   "source": [
    "mat_shock = np.random.standard_normal((nb_path,nb_step))"
   ]
  },
  {
   "cell_type": "code",
   "execution_count": 7,
   "metadata": {},
   "outputs": [],
   "source": [
    "mat_shock_cum = np.cumsum(mat_shock,axis=1)"
   ]
  },
  {
   "cell_type": "code",
   "execution_count": 8,
   "metadata": {},
   "outputs": [],
   "source": [
    "mat_volatility = volat_mod*mat_shock_cum"
   ]
  },
  {
   "cell_type": "code",
   "execution_count": 9,
   "metadata": {},
   "outputs": [
    {
     "data": {
      "text/plain": [
       "(20, 12)"
      ]
     },
     "execution_count": 9,
     "metadata": {},
     "output_type": "execute_result"
    }
   ],
   "source": [
    "mat_volatility.shape"
   ]
  },
  {
   "cell_type": "code",
   "execution_count": 10,
   "metadata": {},
   "outputs": [],
   "source": [
    "mat_log_spot= mat_drift + mat_volatility\n"
   ]
  },
  {
   "cell_type": "code",
   "execution_count": 11,
   "metadata": {},
   "outputs": [],
   "source": [
    "mat_spot_init = spot_init*np.ones((nb_path,nb_step))"
   ]
  },
  {
   "cell_type": "code",
   "execution_count": 12,
   "metadata": {},
   "outputs": [],
   "source": [
    "mat_spot_fut = mat_spot_init*np.exp(mat_log_spot)"
   ]
  },
  {
   "cell_type": "code",
   "execution_count": 13,
   "metadata": {},
   "outputs": [],
   "source": [
    "vec_spot_init = spot_init*np.ones((nb_path,1))"
   ]
  },
  {
   "cell_type": "code",
   "execution_count": 14,
   "metadata": {},
   "outputs": [],
   "source": [
    "mat_path_spot_fut = np.concatenate((vec_spot_init,np.round(mat_spot_fut,3)),axis=1)"
   ]
  },
  {
   "cell_type": "code",
   "execution_count": 15,
   "metadata": {},
   "outputs": [
    {
     "data": {
      "text/plain": [
       "(20, 13)"
      ]
     },
     "execution_count": 15,
     "metadata": {},
     "output_type": "execute_result"
    }
   ],
   "source": [
    "mat_path_spot_fut.shape"
   ]
  },
  {
   "cell_type": "code",
   "execution_count": 16,
   "metadata": {},
   "outputs": [
    {
     "data": {
      "text/plain": [
       "array([[100.   ,  96.217,  94.804,  92.972,  94.336, 100.207,  98.783,\n",
       "        105.671, 114.904, 117.715, 108.745, 106.763, 101.06 ],\n",
       "       [100.   , 100.255,  98.843,  96.419,  87.737,  88.071,  80.193,\n",
       "         79.617,  72.863,  70.423,  71.093,  68.658,  72.335],\n",
       "       [100.   ,  92.977,  93.2  ,  98.233,  96.448,  90.172,  96.604,\n",
       "         99.474, 103.68 , 108.957, 115.239, 121.766, 120.964],\n",
       "       [100.   , 103.328, 104.628, 103.017, 104.118, 104.356,  98.255,\n",
       "         99.214,  97.686,  90.776,  87.869,  92.36 ,  98.698],\n",
       "       [100.   ,  97.092,  87.424,  85.111,  84.29 ,  85.676,  79.933,\n",
       "         85.14 ,  82.265,  85.025,  85.433,  84.65 ,  89.611],\n",
       "       [100.   , 101.153, 100.056,  94.879,  94.155,  86.617,  88.317,\n",
       "         87.081,  86.166,  85.632,  86.074,  88.473,  95.124],\n",
       "       [100.   ,  98.82 ,  98.829,  95.025,  96.193,  95.001, 104.095,\n",
       "        105.52 , 114.331, 111.126, 107.262, 111.02 , 116.898],\n",
       "       [100.   , 102.279, 101.214, 103.897, 105.819, 102.648, 101.251,\n",
       "         93.887,  96.596, 100.591,  98.146,  94.079, 100.339],\n",
       "       [100.   ,  93.826,  96.729,  95.89 ,  93.335,  92.008, 102.422,\n",
       "        101.627,  95.585,  89.71 ,  91.648,  94.863,  90.46 ],\n",
       "       [100.   ,  98.075, 106.112, 109.313, 105.564, 113.913, 119.491,\n",
       "        116.376, 109.115, 111.004, 107.928, 107.214,  99.332],\n",
       "       [100.   ,  94.32 ,  92.053,  90.885,  89.607,  91.764,  94.649,\n",
       "         89.145,  80.765,  85.638,  81.008,  78.442,  78.454],\n",
       "       [100.   ,  99.217,  97.068,  95.739,  88.869,  82.66 ,  79.013,\n",
       "         78.416,  75.85 ,  81.38 ,  75.7  ,  82.321,  86.593],\n",
       "       [100.   ,  99.936,  97.566,  95.958,  93.097,  92.028,  94.466,\n",
       "         94.099,  98.527,  96.571,  92.657,  86.894,  87.298],\n",
       "       [100.   , 106.292, 107.999, 106.948, 112.162, 101.884,  99.58 ,\n",
       "         99.397,  93.849,  90.882,  96.909,  97.625,  97.248],\n",
       "       [100.   ,  99.248,  91.224,  90.631,  87.724,  83.884,  82.953,\n",
       "         81.132,  83.948,  82.629,  84.293,  80.522,  78.843],\n",
       "       [100.   , 100.099,  93.971,  95.801,  94.101,  99.431, 102.908,\n",
       "        105.381, 108.716, 118.121, 116.522, 118.266, 119.664],\n",
       "       [100.   ,  98.283, 104.007, 108.23 , 116.247, 115.378, 114.203,\n",
       "        112.12 , 116.674, 113.487, 108.254, 111.899, 113.83 ],\n",
       "       [100.   , 105.044, 102.931,  98.781,  91.572,  88.514,  92.534,\n",
       "         95.502,  95.052,  94.387,  95.994,  97.852, 102.223],\n",
       "       [100.   , 106.877, 108.078, 105.769, 101.536, 101.389, 107.505,\n",
       "         98.717, 101.206, 101.019, 105.696, 109.37 , 105.659],\n",
       "       [100.   , 100.902, 102.682, 102.156,  94.903,  89.573,  87.695,\n",
       "         85.991,  96.411, 103.029, 106.336, 113.289, 126.16 ]])"
      ]
     },
     "execution_count": 16,
     "metadata": {},
     "output_type": "execute_result"
    }
   ],
   "source": [
    "mat_path_spot_fut"
   ]
  },
  {
   "cell_type": "code",
   "execution_count": 17,
   "metadata": {},
   "outputs": [],
   "source": [
    "def vol_maltz(strike, spot, int_rate, time_to_maturity):\n",
    "    sigma0 = 0.15\n",
    "    alpha1 = 0.58\n",
    "    alpha2 = -0.35\n",
    "    a = np.log(spot * np.exp(int_rate * time_to_maturity) / strike) / np.sqrt(time_to_maturity)\n",
    "    vol = sigma0 + alpha1 * a + alpha2 * a**2\n",
    "    return max(0.05, vol)\n",
    "    "
   ]
  },
  {
   "cell_type": "code",
   "execution_count": 18,
   "metadata": {},
   "outputs": [],
   "source": [
    "def psi(N, Ci):\n",
    "    return 0.2 * 10**(-2) * N * Ci"
   ]
  },
  {
   "cell_type": "code",
   "execution_count": 19,
   "metadata": {},
   "outputs": [],
   "source": [
    "def phi(Ci):\n",
    "    return 0.5 * 10**(-2) * Ci"
   ]
  },
  {
   "cell_type": "markdown",
   "metadata": {},
   "source": [
    "# Question 1"
   ]
  },
  {
   "cell_type": "code",
   "execution_count": 20,
   "metadata": {},
   "outputs": [],
   "source": [
    "def call_price_t(spot, strike, int_rate, time_to_maturity):\n",
    "    if time_to_maturity == 0:\n",
    "        return(max(spot - strike, 0))\n",
    "    else :\n",
    "        exp_rate = np.exp(-int_rate * time_to_maturity)\n",
    "        volatility = vol_maltz(strike, spot, int_rate, time_to_maturity)\n",
    "        vol_mod = volatility*np.sqrt(time_to_maturity)\n",
    "        d1 = (np.log(spot/strike) + (int_rate + 0.5 * volatility**2) * time_to_maturity)\n",
    "        d1 = d1 / vol_mod\n",
    "        d2 = d1 - vol_mod\n",
    "        Nd1 = norm.cdf(d1)\n",
    "        Nd2 = norm.cdf(d2)\n",
    "        price = spot * Nd1 - strike * exp_rate * Nd2\n",
    "        return price\n",
    "    "
   ]
  },
  {
   "cell_type": "code",
   "execution_count": 21,
   "metadata": {},
   "outputs": [
    {
     "data": {
      "text/plain": [
       "(20, 13)"
      ]
     },
     "execution_count": 21,
     "metadata": {},
     "output_type": "execute_result"
    }
   ],
   "source": [
    "mat_call_price = np.zeros(((nb_path,nb_step + 1)))\n",
    "mat_call_price.shape\n"
   ]
  },
  {
   "cell_type": "code",
   "execution_count": 22,
   "metadata": {},
   "outputs": [],
   "source": [
    "strike = spot_init\n",
    "\n",
    "for j in range(mat_call_price.shape[0]):\n",
    "    for t in range(mat_call_price.shape[1]):\n",
    "        spot = mat_path_spot_fut[j,t]\n",
    "        time_to_maturity = nb_step - t\n",
    "        mat_call_price[j,t] = call_price_t(spot, strike, int_rate,time_to_maturity)\n",
    "        mat_call_price[j,t] = round(mat_call_price[j,t],2)\n"
   ]
  },
  {
   "cell_type": "code",
   "execution_count": 23,
   "metadata": {},
   "outputs": [
    {
     "data": {
      "text/plain": [
       "array([[3.500e+01, 2.968e+01, 2.649e+01, 2.289e+01, 2.203e+01, 2.502e+01,\n",
       "        2.143e+01, 2.505e+01, 3.073e+01, 3.033e+01, 1.883e+01, 1.315e+01,\n",
       "        1.060e+00],\n",
       "       [3.500e+01, 3.336e+01, 3.014e+01, 2.595e+01, 1.639e+01, 1.460e+01,\n",
       "        6.610e+00, 4.360e+00, 3.300e-01, 0.000e+00, 0.000e+00, 0.000e+00,\n",
       "        0.000e+00],\n",
       "       [3.500e+01, 2.676e+01, 2.506e+01, 2.757e+01, 2.389e+01, 1.633e+01,\n",
       "        1.954e+01, 1.957e+01, 2.058e+01, 2.233e+01, 2.473e+01, 2.692e+01,\n",
       "        2.096e+01],\n",
       "       [3.500e+01, 3.620e+01, 3.544e+01, 3.191e+01, 3.078e+01, 2.875e+01,\n",
       "        2.097e+01, 1.934e+01, 1.540e+01, 7.170e+00, 2.600e+00, 2.080e+00,\n",
       "        0.000e+00],\n",
       "       [3.500e+01, 3.047e+01, 2.001e+01, 1.617e+01, 1.357e+01, 1.267e+01,\n",
       "        6.440e+00, 8.000e+00, 3.970e+00, 3.420e+00, 1.440e+00, 1.000e-02,\n",
       "        0.000e+00],\n",
       "       [3.500e+01, 3.419e+01, 3.124e+01, 2.458e+01, 2.187e+01, 1.342e+01,\n",
       "        1.263e+01, 9.420e+00, 6.450e+00, 3.770e+00, 1.710e+00, 4.700e-01,\n",
       "        0.000e+00],\n",
       "       [3.500e+01, 3.205e+01, 3.012e+01, 2.471e+01, 2.366e+01, 2.044e+01,\n",
       "        2.615e+01, 2.491e+01, 3.020e+01, 2.429e+01, 1.751e+01, 1.696e+01,\n",
       "        1.690e+01],\n",
       "       [3.500e+01, 3.523e+01, 3.230e+01, 3.272e+01, 3.234e+01, 2.721e+01,\n",
       "        2.361e+01, 1.482e+01, 1.449e+01, 1.499e+01, 9.750e+00, 3.090e+00,\n",
       "        3.400e-01],\n",
       "       [3.500e+01, 2.752e+01, 2.822e+01, 2.547e+01, 2.116e+01, 1.787e+01,\n",
       "        2.465e+01, 2.145e+01, 1.365e+01, 6.410e+00, 4.900e+00, 3.600e+00,\n",
       "        0.000e+00],\n",
       "       [3.500e+01, 3.137e+01, 3.681e+01, 3.772e+01, 3.210e+01, 3.754e+01,\n",
       "        4.032e+01, 3.484e+01, 2.544e+01, 2.418e+01, 1.810e+01, 1.355e+01,\n",
       "        0.000e+00],\n",
       "       [3.500e+01, 2.797e+01, 2.405e+01, 2.107e+01, 1.796e+01, 1.767e+01,\n",
       "        1.786e+01, 1.100e+01, 3.140e+00, 3.770e+00, 2.100e-01, 0.000e+00,\n",
       "        0.000e+00],\n",
       "       [3.500e+01, 3.241e+01, 2.853e+01, 2.534e+01, 1.733e+01, 1.033e+01,\n",
       "        5.840e+00, 3.670e+00, 1.040e+00, 1.630e+00, 0.000e+00, 0.000e+00,\n",
       "        0.000e+00],\n",
       "       [3.500e+01, 3.307e+01, 2.898e+01, 2.553e+01, 2.095e+01, 1.789e+01,\n",
       "        1.770e+01, 1.499e+01, 1.611e+01, 1.164e+01, 5.590e+00, 1.600e-01,\n",
       "        0.000e+00],\n",
       "       [3.500e+01, 3.895e+01, 3.856e+01, 3.553e+01, 3.820e+01, 2.652e+01,\n",
       "        2.213e+01, 1.950e+01, 1.223e+01, 7.250e+00, 8.760e+00, 5.560e+00,\n",
       "        0.000e+00],\n",
       "       [3.500e+01, 3.244e+01, 2.332e+01, 2.085e+01, 1.638e+01, 1.127e+01,\n",
       "        8.540e+00, 5.280e+00, 4.990e+00, 2.180e+00, 1.000e+00, 0.000e+00,\n",
       "        0.000e+00],\n",
       "       [3.500e+01, 3.322e+01, 2.575e+01, 2.539e+01, 2.182e+01, 2.433e+01,\n",
       "        2.508e+01, 2.479e+01, 2.508e+01, 3.071e+01, 2.591e+01, 2.364e+01,\n",
       "        1.966e+01],\n",
       "       [3.500e+01, 3.156e+01, 3.486e+01, 3.671e+01, 4.201e+01, 3.890e+01,\n",
       "        3.539e+01, 3.091e+01, 3.236e+01, 2.644e+01, 1.839e+01, 1.776e+01,\n",
       "        1.383e+01],\n",
       "       [3.500e+01, 3.779e+01, 3.387e+01, 2.807e+01, 1.963e+01, 1.496e+01,\n",
       "        1.607e+01, 1.617e+01, 1.321e+01, 9.900e+00, 8.050e+00, 5.730e+00,\n",
       "        2.220e+00],\n",
       "       [3.500e+01, 3.950e+01, 3.864e+01, 3.444e+01, 2.844e+01, 2.608e+01,\n",
       "        2.923e+01, 1.891e+01, 1.841e+01, 1.535e+01, 1.613e+01, 1.547e+01,\n",
       "        5.660e+00],\n",
       "       [3.500e+01, 3.396e+01, 3.364e+01, 3.113e+01, 2.252e+01, 1.583e+01,\n",
       "        1.214e+01, 8.610e+00, 1.433e+01, 1.708e+01, 1.669e+01, 1.904e+01,\n",
       "        2.616e+01]])"
      ]
     },
     "execution_count": 23,
     "metadata": {},
     "output_type": "execute_result"
    }
   ],
   "source": [
    "mat_call_price"
   ]
  },
  {
   "cell_type": "markdown",
   "metadata": {},
   "source": [
    "# Question 2"
   ]
  },
  {
   "cell_type": "code",
   "execution_count": 25,
   "metadata": {},
   "outputs": [
    {
     "data": {
      "text/plain": [
       "(20, 13)"
      ]
     },
     "execution_count": 25,
     "metadata": {},
     "output_type": "execute_result"
    }
   ],
   "source": [
    "mat_call_price.shape"
   ]
  },
  {
   "cell_type": "code",
   "execution_count": 26,
   "metadata": {},
   "outputs": [],
   "source": [
    "N = 10000\n",
    "pnl_wo_cov = np.zeros(nb_path)\n",
    "for i in range(nb_path):\n",
    "    b0 = N * mat_call_price[i,0] - psi(N, mat_call_price[i,0])\n",
    "    b = [b0]\n",
    "    pnl_wo_cov[i] = N * (mat_call_price[i,0] - mat_call_price[i,-1]) + int_rate * time_step * b0\n",
    "    for j in range(1, 12):\n",
    "        bm = N * (mat_call_price[i,j-1] - mat_call_price[i,j]) + int_rate * time_step * b[-1]\n",
    "        b.append(bm)\n",
    "        pnl_wo_cov[i] += int_rate * time_step * bm\n",
    "    if strike < mat_path_spot_fut[i,-1]:\n",
    "        pnl_wo_cov[i] -= (phi(N  * strike) + N * mat_path_spot_fut[i,-1] + phi(N * mat_path_spot_fut[i,-1]))\n",
    "        pnl_wo_cov[i] = round(pnl_wo_cov[i], 2)\n",
    "    else:\n",
    "        pnl_wo_cov[i] = round(pnl_wo_cov[i], 2)"
   ]
  },
  {
   "cell_type": "code",
   "execution_count": 27,
   "metadata": {},
   "outputs": [
    {
     "data": {
      "text/plain": [
       "array([ -680305.25,   351167.45, -1079570.11,   351132.71,   351167.24,\n",
       "         351159.56,  -997940.61,  -665691.28,   351107.31,   350941.11,\n",
       "         351167.44,   351167.45,   351164.62,   351074.54,   351167.42,\n",
       "       -1053450.48,  -936420.57,  -703469.43,  -772563.79, -1183658.35])"
      ]
     },
     "execution_count": 27,
     "metadata": {},
     "output_type": "execute_result"
    }
   ],
   "source": [
    "pnl_wo_cov"
   ]
  },
  {
   "cell_type": "markdown",
   "metadata": {},
   "source": [
    "# Question 3"
   ]
  },
  {
   "cell_type": "code",
   "execution_count": 28,
   "metadata": {},
   "outputs": [],
   "source": [
    "def delta( time_to_maturity, spot ):\n",
    "    if time_to_maturity == 0:\n",
    "        if spot > strike:\n",
    "            return 1\n",
    "        else: \n",
    "            return 0\n",
    "    else :\n",
    "        volatility = vol_maltz(strike, spot, int_rate, time_to_maturity)\n",
    "        vol_mod = volatility*np.sqrt(time_to_maturity)\n",
    "        d1 = (np.log(spot/strike) + (int_rate + 0.5 * volatility**2) * time_to_maturity)\n",
    "        d1 = d1 / vol_mod\n",
    "        Nd1 = norm.cdf(d1)\n",
    "        return Nd1"
   ]
  },
  {
   "cell_type": "code",
   "execution_count": 44,
   "metadata": {},
   "outputs": [
    {
     "data": {
      "text/plain": [
       "(20, 13)"
      ]
     },
     "execution_count": 44,
     "metadata": {},
     "output_type": "execute_result"
    }
   ],
   "source": [
    "mat_delta = np.zeros((nb_path,nb_step +1))\n",
    "mat_delta.shape"
   ]
  },
  {
   "cell_type": "code",
   "execution_count": 45,
   "metadata": {},
   "outputs": [
    {
     "data": {
      "text/plain": [
       "(20, 13)"
      ]
     },
     "execution_count": 45,
     "metadata": {},
     "output_type": "execute_result"
    }
   ],
   "source": [
    "mat_path_spot_fut.shape"
   ]
  },
  {
   "cell_type": "code",
   "execution_count": 46,
   "metadata": {},
   "outputs": [
    {
     "data": {
      "text/plain": [
       "array([[0.756, 0.727, 0.706, 0.679, 0.674, 0.704, 0.679, 0.719, 0.768,\n",
       "        0.782, 0.72 , 0.703, 1.   ],\n",
       "       [0.756, 0.748, 0.731, 0.704, 0.613, 0.593, 0.431, 0.357, 0.071,\n",
       "        0.   , 0.   , 0.   , 0.   ],\n",
       "       [0.756, 0.707, 0.695, 0.716, 0.691, 0.617, 0.66 , 0.669, 0.692,\n",
       "        0.725, 0.771, 0.833, 1.   ],\n",
       "       [0.756, 0.763, 0.76 , 0.743, 0.74 , 0.731, 0.675, 0.667, 0.632,\n",
       "        0.486, 0.314, 0.322, 0.   ],\n",
       "       [0.756, 0.732, 0.65 , 0.607, 0.573, 0.562, 0.426, 0.479, 0.351,\n",
       "        0.339, 0.222, 0.006, 0.   ],\n",
       "       [0.756, 0.753, 0.737, 0.693, 0.673, 0.575, 0.568, 0.514, 0.446,\n",
       "        0.357, 0.247, 0.128, 0.   ],\n",
       "       [0.756, 0.741, 0.731, 0.694, 0.689, 0.663, 0.719, 0.718, 0.765,\n",
       "        0.741, 0.705, 0.753, 1.   ],\n",
       "       [0.756, 0.758, 0.744, 0.748, 0.749, 0.72 , 0.699, 0.611, 0.619,\n",
       "        0.644, 0.582, 0.396, 1.   ],\n",
       "       [0.756, 0.712, 0.718, 0.7  , 0.666, 0.636, 0.707, 0.688, 0.606,\n",
       "        0.462, 0.435, 0.427, 0.   ],\n",
       "       [0.756, 0.737, 0.767, 0.773, 0.747, 0.779, 0.796, 0.779, 0.733,\n",
       "        0.741, 0.712, 0.709, 0.   ],\n",
       "       [0.756, 0.715, 0.687, 0.662, 0.632, 0.633, 0.642, 0.547, 0.309,\n",
       "        0.357, 0.06 , 0.   , 0.   ],\n",
       "       [0.756, 0.743, 0.72 , 0.699, 0.625, 0.518, 0.406, 0.326, 0.157,\n",
       "        0.221, 0.   , 0.   , 0.   ],\n",
       "       [0.756, 0.747, 0.723, 0.701, 0.664, 0.636, 0.64 , 0.613, 0.641,\n",
       "        0.59 , 0.462, 0.058, 0.   ],\n",
       "       [0.756, 0.775, 0.775, 0.763, 0.778, 0.716, 0.686, 0.669, 0.582,\n",
       "        0.488, 0.559, 0.519, 0.   ],\n",
       "       [0.756, 0.743, 0.681, 0.66 , 0.613, 0.537, 0.484, 0.394, 0.394,\n",
       "        0.263, 0.177, 0.   , 0.   ],\n",
       "       [0.756, 0.747, 0.7  , 0.7  , 0.672, 0.699, 0.711, 0.717, 0.73 ,\n",
       "        0.784, 0.779, 0.812, 1.   ],\n",
       "       [0.756, 0.738, 0.757, 0.768, 0.794, 0.785, 0.774, 0.758, 0.777,\n",
       "        0.757, 0.715, 0.761, 1.   ],\n",
       "       [0.756, 0.77 , 0.752, 0.719, 0.651, 0.598, 0.619, 0.629, 0.599,\n",
       "        0.555, 0.54 , 0.525, 1.   ],\n",
       "       [0.756, 0.778, 0.775, 0.757, 0.725, 0.712, 0.74 , 0.662, 0.669,\n",
       "        0.649, 0.689, 0.735, 1.   ],\n",
       "       [0.756, 0.751, 0.751, 0.739, 0.679, 0.61 , 0.559, 0.494, 0.616,\n",
       "        0.672, 0.696, 0.774, 1.   ]])"
      ]
     },
     "execution_count": 46,
     "metadata": {},
     "output_type": "execute_result"
    }
   ],
   "source": [
    "strike = spot_init\n",
    "\n",
    "for j in range(mat_delta.shape[0]):\n",
    "    for t in range(mat_delta.shape[1] ):\n",
    "        spot = mat_path_spot_fut[j,t]\n",
    "        time_to_maturity = nb_step - t\n",
    "        mat_delta[j,t] = delta(time_to_maturity, spot)\n",
    "        mat_delta[j,t] = round(mat_delta[j,t],3)\n",
    "mat_delta"
   ]
  },
  {
   "cell_type": "markdown",
   "metadata": {},
   "source": [
    "# Question 4"
   ]
  },
  {
   "cell_type": "code",
   "execution_count": 47,
   "metadata": {},
   "outputs": [
    {
     "data": {
      "text/plain": [
       "(20, 13)"
      ]
     },
     "execution_count": 47,
     "metadata": {},
     "output_type": "execute_result"
    }
   ],
   "source": [
    "mat_delta.shape"
   ]
  },
  {
   "cell_type": "code",
   "execution_count": 48,
   "metadata": {},
   "outputs": [
    {
     "data": {
      "text/plain": [
       "array([[ 7560.,  7270.,  7060.,  6790.,  6740.,  7040.,  6790.,  7190.,\n",
       "         7680.,  7820.,  7200.,  7030., 10000.],\n",
       "       [ 7560.,  7480.,  7310.,  7040.,  6130.,  5930.,  4310.,  3570.,\n",
       "          710.,     0.,     0.,     0.,     0.],\n",
       "       [ 7560.,  7070.,  6950.,  7160.,  6910.,  6170.,  6600.,  6690.,\n",
       "         6920.,  7250.,  7710.,  8330., 10000.],\n",
       "       [ 7560.,  7630.,  7600.,  7430.,  7400.,  7310.,  6750.,  6670.,\n",
       "         6320.,  4860.,  3140.,  3220.,     0.],\n",
       "       [ 7560.,  7320.,  6500.,  6070.,  5730.,  5620.,  4260.,  4790.,\n",
       "         3510.,  3390.,  2220.,    60.,     0.],\n",
       "       [ 7560.,  7530.,  7370.,  6930.,  6730.,  5750.,  5680.,  5140.,\n",
       "         4460.,  3570.,  2470.,  1280.,     0.],\n",
       "       [ 7560.,  7410.,  7310.,  6940.,  6890.,  6630.,  7190.,  7180.,\n",
       "         7650.,  7410.,  7050.,  7530., 10000.],\n",
       "       [ 7560.,  7580.,  7440.,  7480.,  7490.,  7200.,  6990.,  6110.,\n",
       "         6190.,  6440.,  5820.,  3960., 10000.],\n",
       "       [ 7560.,  7120.,  7180.,  7000.,  6660.,  6360.,  7070.,  6880.,\n",
       "         6060.,  4620.,  4350.,  4270.,     0.],\n",
       "       [ 7560.,  7370.,  7670.,  7730.,  7470.,  7790.,  7960.,  7790.,\n",
       "         7330.,  7410.,  7120.,  7090.,     0.],\n",
       "       [ 7560.,  7150.,  6870.,  6620.,  6320.,  6330.,  6420.,  5470.,\n",
       "         3090.,  3570.,   600.,     0.,     0.],\n",
       "       [ 7560.,  7430.,  7200.,  6990.,  6250.,  5180.,  4060.,  3260.,\n",
       "         1570.,  2210.,     0.,     0.,     0.],\n",
       "       [ 7560.,  7470.,  7230.,  7010.,  6640.,  6360.,  6400.,  6130.,\n",
       "         6410.,  5900.,  4620.,   580.,     0.],\n",
       "       [ 7560.,  7750.,  7750.,  7630.,  7780.,  7160.,  6860.,  6690.,\n",
       "         5820.,  4880.,  5590.,  5190.,     0.],\n",
       "       [ 7560.,  7430.,  6810.,  6600.,  6130.,  5370.,  4840.,  3940.,\n",
       "         3940.,  2630.,  1770.,     0.,     0.],\n",
       "       [ 7560.,  7470.,  7000.,  7000.,  6720.,  6990.,  7110.,  7170.,\n",
       "         7300.,  7840.,  7790.,  8120., 10000.],\n",
       "       [ 7560.,  7380.,  7570.,  7680.,  7940.,  7850.,  7740.,  7580.,\n",
       "         7770.,  7570.,  7150.,  7610., 10000.],\n",
       "       [ 7560.,  7700.,  7520.,  7190.,  6510.,  5980.,  6190.,  6290.,\n",
       "         5990.,  5550.,  5400.,  5250., 10000.],\n",
       "       [ 7560.,  7780.,  7750.,  7570.,  7250.,  7120.,  7400.,  6620.,\n",
       "         6690.,  6490.,  6890.,  7350., 10000.],\n",
       "       [ 7560.,  7510.,  7510.,  7390.,  6790.,  6100.,  5590.,  4940.,\n",
       "         6160.,  6720.,  6960.,  7740., 10000.]])"
      ]
     },
     "execution_count": 48,
     "metadata": {},
     "output_type": "execute_result"
    }
   ],
   "source": [
    "mat_titre = np.zeros((nb_path,nb_step+1))\n",
    "\n",
    "for t in range( nb_step+1):\n",
    "    mat_titre[:,t] = N * mat_delta[:,t]\n",
    "    mat_titre[:,t] = np.round(mat_titre[:,t], 0)\n",
    "\n",
    "mat_titre"
   ]
  },
  {
   "cell_type": "markdown",
   "metadata": {},
   "source": [
    "# Question 5"
   ]
  },
  {
   "cell_type": "code",
   "execution_count": 49,
   "metadata": {},
   "outputs": [],
   "source": [
    "pnl_covered = np.zeros(nb_path)"
   ]
  },
  {
   "cell_type": "code",
   "execution_count": 50,
   "metadata": {},
   "outputs": [],
   "source": [
    "for i in range(nb_path):\n",
    "    b0 = N * mat_call_price[i,0] - psi(N, mat_call_price[i,0]) - (mat_titre[i,0] * mat_path_spot_fut[i,0] + phi(mat_titre[i,0] * mat_path_spot_fut[i,0]))\n",
    "    b = [b0]\n",
    "    pnl_covered[i] = N * (mat_call_price[i,0] - mat_call_price[i,-1]) + int_rate * time_step * b0 + mat_titre[i,0] * (mat_path_spot_fut[i,1] - mat_path_spot_fut[i,0])\n",
    "    for j in range(1, 12):\n",
    "        bm = N * (mat_call_price[i,j-1] - mat_call_price[i,j]) + int_rate * time_step * b[-1] +  mat_titre[i,j-1] * (mat_path_spot_fut[i,j] - mat_path_spot_fut[i,j-1])\n",
    "        bm += (mat_path_spot_fut[i,j] * ( mat_titre[i,j-1] -  mat_titre[i,j]) - phi(np.abs(mat_titre[i,j-1] -  mat_titre[i,j]) * mat_path_spot_fut[i,j] ))\n",
    "        b.append(bm)\n",
    "        pnl_covered[i] += (int_rate * time_step * bm + mat_titre[i,j] * (mat_path_spot_fut[i,j+1] - mat_path_spot_fut[i,j]))\n",
    "    if strike < mat_path_spot_fut[i,-1]:\n",
    "        pnl_covered[i] -= (phi(N  * strike) + ( N - mat_titre[i,-2])  * mat_path_spot_fut[i,-1] + phi((N - mat_titre[i,-2]) * mat_path_spot_fut[i,-1]))\n",
    "        pnl_covered[i] = round(pnl_covered[i], 2)\n",
    "    else :\n",
    "        pnl_covered[i] -= phi( mat_titre[i,-2] * mat_path_spot_fut[i,-1])\n",
    "        pnl_covered[i] = round(pnl_covered[i], 2)\n",
    "                          \n",
    "                        "
   ]
  },
  {
   "cell_type": "code",
   "execution_count": 51,
   "metadata": {},
   "outputs": [
    {
     "data": {
      "text/plain": [
       "array([ 2.9797960e+04,  1.9014983e+05,  7.1667960e+04,  3.1001025e+05,\n",
       "        2.3165510e+05,  2.6828932e+05,  1.7137000e+02, -2.8226168e+05,\n",
       "        2.7714072e+05,  3.4111035e+05,  2.2280230e+05,  1.9881422e+05,\n",
       "        2.7186271e+05,  3.1940037e+05,  2.2846671e+05,  6.0449730e+04,\n",
       "        3.4471020e+04, -1.6865875e+05,  3.9223570e+04, -3.5599620e+04])"
      ]
     },
     "execution_count": 51,
     "metadata": {},
     "output_type": "execute_result"
    }
   ],
   "source": [
    "pnl_covered"
   ]
  },
  {
   "cell_type": "code",
   "execution_count": 52,
   "metadata": {},
   "outputs": [
    {
     "data": {
      "text/plain": [
       "<matplotlib.legend.Legend at 0x2068061b4f0>"
      ]
     },
     "execution_count": 52,
     "metadata": {},
     "output_type": "execute_result"
    },
    {
     "data": {
      "image/png": "[encoded data removed]",
      "text/plain": [
       "<Figure size 432x288 with 1 Axes>"
      ]
     },
     "metadata": {
      "needs_background": "light"
     },
     "output_type": "display_data"
    }
   ],
   "source": [
    "plt.figure()\n",
    "plt.plot(pnl_covered)\n",
    "plt.plot(pnl_wo_cov)\n",
    "plt.legend(['with coverage','wo coverage'])\n"
   ]
  },
  {
   "cell_type": "markdown",
   "metadata": {},
   "source": [
    "# Question 6"
   ]
  },
  {
   "cell_type": "code",
   "execution_count": null,
   "metadata": {},
   "outputs": [],
   "source": []
  }
 ],
 "metadata": {
  "kernelspec": {
   "display_name": "Python 3",
   "language": "python",
   "name": "python3"
  },
  "language_info": {
   "codemirror_mode": {
    "name": "ipython",
    "version": 3
   },
   "file_extension": ".py",
   "mimetype": "text/x-python",
   "name": "python",
   "nbconvert_exporter": "python",
   "pygments_lexer": "ipython3",
   "version": "3.8.3"
  }
 },
 "nbformat": 4,
 "nbformat_minor": 4
}
