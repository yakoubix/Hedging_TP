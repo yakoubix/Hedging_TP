{
 "cells": [
  {
   "cell_type": "code",
   "execution_count": 61,
   "metadata": {},
   "outputs": [],
   "source": [
    "import numpy as np\n",
    "from scipy.stats import norm"
   ]
  },
  {
   "cell_type": "markdown",
   "metadata": {},
   "source": [
    "# Create data"
   ]
  },
  {
   "cell_type": "code",
   "execution_count": 2,
   "metadata": {},
   "outputs": [],
   "source": [
    "spot_init=100\n",
    "\n",
    "int_rate = 2/100\n",
    "volatility=15/100\n",
    "maturity=1\n",
    "nb_step=12\n",
    "time_step = maturity/nb_step\n",
    "nb_path=20\n",
    "nb_seed=20191008"
   ]
  },
  {
   "cell_type": "code",
   "execution_count": 3,
   "metadata": {},
   "outputs": [],
   "source": [
    "drift_mod = (int_rate-0.5*volatility**2)*time_step\n",
    "mat_drift = drift_mod*np.cumsum(np.ones((nb_path,nb_step)),baxis=1)"
   ]
  },
  {
   "cell_type": "code",
   "execution_count": 9,
   "metadata": {},
   "outputs": [],
   "source": [
    "volat_mod = volatility*np.sqrt(time_step)\n"
   ]
  },
  {
   "cell_type": "code",
   "execution_count": 27,
   "metadata": {},
   "outputs": [],
   "source": [
    "np.random.seed(nb_seed)"
   ]
  },
  {
   "cell_type": "code",
   "execution_count": 28,
   "metadata": {},
   "outputs": [],
   "source": [
    "mat_shock = np.random.standard_normal((nb_path,nb_step))"
   ]
  },
  {
   "cell_type": "code",
   "execution_count": 30,
   "metadata": {},
   "outputs": [],
   "source": [
    "mat_shock_cum = np.cumsum(mat_shock,axis=1)"
   ]
  },
  {
   "cell_type": "code",
   "execution_count": 31,
   "metadata": {},
   "outputs": [],
   "source": [
    "mat_volatility = volat_mod*mat_shock_cum"
   ]
  },
  {
   "cell_type": "code",
   "execution_count": 41,
   "metadata": {},
   "outputs": [
    {
     "data": {
      "text/plain": [
       "(20, 12)"
      ]
     },
     "execution_count": 41,
     "metadata": {},
     "output_type": "execute_result"
    }
   ],
   "source": [
    "mat_volatility.shape"
   ]
  },
  {
   "cell_type": "code",
   "execution_count": 33,
   "metadata": {},
   "outputs": [],
   "source": [
    "mat_log_spot= mat_drift + mat_volatility\n"
   ]
  },
  {
   "cell_type": "code",
   "execution_count": 34,
   "metadata": {},
   "outputs": [],
   "source": [
    "mat_spot_init = spot_init*np.ones((nb_path,nb_step))"
   ]
  },
  {
   "cell_type": "code",
   "execution_count": 35,
   "metadata": {},
   "outputs": [],
   "source": [
    "mat_spot_fut = mat_spot_init*np.exp(mat_log_spot)"
   ]
  },
  {
   "cell_type": "code",
   "execution_count": 36,
   "metadata": {},
   "outputs": [],
   "source": [
    "vec_spot_init = spot_init*np.ones((nb_path,1))"
   ]
  },
  {
   "cell_type": "code",
   "execution_count": 37,
   "metadata": {},
   "outputs": [],
   "source": [
    "mat_path_spot_fut = np.concatenate((vec_spot_init,np.round(mat_spot_fut,3)),axis=1)"
   ]
  },
  {
   "cell_type": "code",
   "execution_count": 39,
   "metadata": {},
   "outputs": [
    {
     "data": {
      "text/plain": [
       "(20, 13)"
      ]
     },
     "execution_count": 39,
     "metadata": {},
     "output_type": "execute_result"
    }
   ],
   "source": [
    "mat_path_spot_fut.shape"
   ]
  },
  {
   "cell_type": "code",
   "execution_count": 49,
   "metadata": {},
   "outputs": [
    {
     "data": {
      "text/plain": [
       "array([[100.   ,  96.217,  94.804,  92.972,  94.336, 100.207,  98.783,\n",
       "        105.671, 114.904, 117.715, 108.745, 106.763, 101.06 ],\n",
       "       [100.   , 100.255,  98.843,  96.419,  87.737,  88.071,  80.193,\n",
       "         79.617,  72.863,  70.423,  71.093,  68.658,  72.335],\n",
       "       [100.   ,  92.977,  93.2  ,  98.233,  96.448,  90.172,  96.604,\n",
       "         99.474, 103.68 , 108.957, 115.239, 121.766, 120.964],\n",
       "       [100.   , 103.328, 104.628, 103.017, 104.118, 104.356,  98.255,\n",
       "         99.214,  97.686,  90.776,  87.869,  92.36 ,  98.698],\n",
       "       [100.   ,  97.092,  87.424,  85.111,  84.29 ,  85.676,  79.933,\n",
       "         85.14 ,  82.265,  85.025,  85.433,  84.65 ,  89.611],\n",
       "       [100.   , 101.153, 100.056,  94.879,  94.155,  86.617,  88.317,\n",
       "         87.081,  86.166,  85.632,  86.074,  88.473,  95.124],\n",
       "       [100.   ,  98.82 ,  98.829,  95.025,  96.193,  95.001, 104.095,\n",
       "        105.52 , 114.331, 111.126, 107.262, 111.02 , 116.898],\n",
       "       [100.   , 102.279, 101.214, 103.897, 105.819, 102.648, 101.251,\n",
       "         93.887,  96.596, 100.591,  98.146,  94.079, 100.339],\n",
       "       [100.   ,  93.826,  96.729,  95.89 ,  93.335,  92.008, 102.422,\n",
       "        101.627,  95.585,  89.71 ,  91.648,  94.863,  90.46 ],\n",
       "       [100.   ,  98.075, 106.112, 109.313, 105.564, 113.913, 119.491,\n",
       "        116.376, 109.115, 111.004, 107.928, 107.214,  99.332],\n",
       "       [100.   ,  94.32 ,  92.053,  90.885,  89.607,  91.764,  94.649,\n",
       "         89.145,  80.765,  85.638,  81.008,  78.442,  78.454],\n",
       "       [100.   ,  99.217,  97.068,  95.739,  88.869,  82.66 ,  79.013,\n",
       "         78.416,  75.85 ,  81.38 ,  75.7  ,  82.321,  86.593],\n",
       "       [100.   ,  99.936,  97.566,  95.958,  93.097,  92.028,  94.466,\n",
       "         94.099,  98.527,  96.571,  92.657,  86.894,  87.298],\n",
       "       [100.   , 106.292, 107.999, 106.948, 112.162, 101.884,  99.58 ,\n",
       "         99.397,  93.849,  90.882,  96.909,  97.625,  97.248],\n",
       "       [100.   ,  99.248,  91.224,  90.631,  87.724,  83.884,  82.953,\n",
       "         81.132,  83.948,  82.629,  84.293,  80.522,  78.843],\n",
       "       [100.   , 100.099,  93.971,  95.801,  94.101,  99.431, 102.908,\n",
       "        105.381, 108.716, 118.121, 116.522, 118.266, 119.664],\n",
       "       [100.   ,  98.283, 104.007, 108.23 , 116.247, 115.378, 114.203,\n",
       "        112.12 , 116.674, 113.487, 108.254, 111.899, 113.83 ],\n",
       "       [100.   , 105.044, 102.931,  98.781,  91.572,  88.514,  92.534,\n",
       "         95.502,  95.052,  94.387,  95.994,  97.852, 102.223],\n",
       "       [100.   , 106.877, 108.078, 105.769, 101.536, 101.389, 107.505,\n",
       "         98.717, 101.206, 101.019, 105.696, 109.37 , 105.659],\n",
       "       [100.   , 100.902, 102.682, 102.156,  94.903,  89.573,  87.695,\n",
       "         85.991,  96.411, 103.029, 106.336, 113.289, 126.16 ]])"
      ]
     },
     "execution_count": 49,
     "metadata": {},
     "output_type": "execute_result"
    }
   ],
   "source": [
    "mat_path_spot_fut"
   ]
  },
  {
   "cell_type": "markdown",
   "metadata": {},
   "source": [
    "# Question 1"
   ]
  },
  {
   "cell_type": "code",
   "execution_count": 82,
   "metadata": {},
   "outputs": [],
   "source": [
    "def call_price_t(spot, strike, int_rate,time_to_maturity):\n",
    "    exp_rate = np.exp(-int_rate * time_to_maturity)\n",
    "    vol_mod = volatility*np.sqrt(time_to_maturity)\n",
    "    d1 = (np.log(spot/strike) + (int_rate + 0.5 * volatility**2) * time_to_maturity)\n",
    "    d1 = d1 / vol_mod\n",
    "    d2 = d1 - vol_mod\n",
    "    Nd1 = norm.cdf(d1)\n",
    "    Nd2 = norm.cdf(d2)\n",
    "    price = spot * Nd1 - strike * exp_rate * Nd2\n",
    "    return price\n",
    "    "
   ]
  },
  {
   "cell_type": "code",
   "execution_count": 83,
   "metadata": {},
   "outputs": [
    {
     "data": {
      "text/plain": [
       "(20, 13)"
      ]
     },
     "execution_count": 83,
     "metadata": {},
     "output_type": "execute_result"
    }
   ],
   "source": [
    "mat_call_price = np.zeros(((nb_path,nb_step + 1)))\n",
    "mat_call_price.shape\n"
   ]
  },
  {
   "cell_type": "code",
   "execution_count": 84,
   "metadata": {},
   "outputs": [
    {
     "name": "stderr",
     "output_type": "stream",
     "text": [
      "<ipython-input-82-8b6b53d0ab09>:5: RuntimeWarning: divide by zero encountered in double_scalars\n",
      "  d1 = d1 / vol_mod\n"
     ]
    }
   ],
   "source": [
    "strike = spot_init\n",
    "\n",
    "for j in range(mat_call_price.shape[0]):\n",
    "    for t in range(mat_call_price.shape[1]):\n",
    "        spot = mat_path_spot_fut[j,t]\n",
    "        time_to_maturity = nb_step - t\n",
    "        mat_call_price[j,t] = call_price_t(spot, strike, int_rate,time_to_maturity)\n",
    "        mat_call_price[j,t] = round(mat_call_price[j,t],2)\n"
   ]
  },
  {
   "cell_type": "code",
   "execution_count": 85,
   "metadata": {},
   "outputs": [
    {
     "data": {
      "text/plain": [
       "array([[30.85, 26.43, 23.8 , 20.87, 20.07, 22.27, 19.28, 22.01, 26.76,\n",
       "        26.49, 16.41, 11.46,  1.06],\n",
       "       [30.85, 29.43, 26.71, 23.26, 15.82, 14.34,  8.51,  6.7 ,  3.  ,\n",
       "         1.39,  0.61,  0.04,  0.  ],\n",
       "       [30.85, 24.1 , 22.67, 24.55, 21.51, 15.61, 17.82, 17.64, 18.23,\n",
       "        19.49, 21.57, 24.29, 20.96],\n",
       "       [30.85, 31.79, 31.09, 28.08, 27.06, 25.29, 18.93, 17.47, 14.21,\n",
       "         7.95,  4.34,  3.3 ,  0.  ],\n",
       "       [30.85, 27.07, 18.79, 15.82, 13.78, 12.95,  8.39,  9.21,  6.14,\n",
       "         5.39,  3.48,  1.19,  0.  ],\n",
       "       [30.85, 30.11, 27.61, 22.18, 19.95, 13.49, 12.71, 10.2 ,  7.84,\n",
       "         5.63,  3.7 ,  2.05,  0.  ],\n",
       "       [30.85, 28.35, 26.7 , 22.28, 21.33, 18.69, 23.05, 21.9 , 26.3 ,\n",
       "        21.15, 15.31, 14.78, 16.9 ],\n",
       "       [30.85, 30.98, 28.48, 28.75, 28.35, 24.03, 21.  , 14.05, 13.53,\n",
       "        13.59,  9.28,  3.99,  0.34],\n",
       "       [30.85, 24.7 , 25.17, 22.88, 19.4 , 16.75, 21.83, 19.12, 12.91,\n",
       "         7.43,  5.91,  4.32,  0.  ],\n",
       "       [30.85, 27.8 , 32.25, 32.97, 28.16, 32.74, 35.21, 30.37, 22.21,\n",
       "        21.05, 15.8 , 11.79,  0.  ],\n",
       "       [30.85, 25.06, 21.88, 19.47, 16.98, 16.6 , 16.55, 11.3 ,  5.54,\n",
       "         5.63,  2.23,  0.4 ,  0.  ],\n",
       "       [30.85, 28.65, 25.42, 22.78, 16.52, 11.31,  7.97,  6.21,  3.85,\n",
       "         4.06,  1.18,  0.81,  0.  ],\n",
       "       [30.85, 29.19, 25.78, 22.93, 19.24, 16.76, 16.43, 14.18, 14.75,\n",
       "        11.1 ,  6.38,  1.65,  0.  ],\n",
       "       [30.85, 34.11, 33.73, 31.1 , 33.34, 23.48, 19.83, 17.59, 11.88,\n",
       "         8.01,  8.57,  5.65,  0.  ],\n",
       "       [30.85, 28.67, 21.31, 19.3 , 15.81, 11.96,  9.84,  7.35,  6.84,\n",
       "         4.49,  3.12,  0.59,  0.  ],\n",
       "       [30.85, 29.31, 23.21, 22.82, 19.91, 21.72, 22.18, 21.8 , 21.91,\n",
       "        26.83, 22.65, 21.06, 19.66],\n",
       "       [30.85, 27.95, 30.61, 32.11, 36.67, 33.93, 30.85, 26.94, 28.21,\n",
       "        23.02, 16.04, 15.5 , 13.83],\n",
       "       [30.85, 33.13, 29.78, 24.95, 18.24, 14.6 , 15.22, 15.05, 12.59,\n",
       "         9.85,  8.07,  5.77,  2.22],\n",
       "       [30.85, 34.57, 33.8 , 30.19, 25.14, 23.12, 25.59, 17.13, 16.52,\n",
       "        13.87, 14.17, 13.45,  5.66],\n",
       "       [30.85, 29.92, 29.59, 27.44, 20.45, 15.24, 12.36,  9.64, 13.42,\n",
       "        15.22, 14.63, 16.67, 26.16]])"
      ]
     },
     "execution_count": 85,
     "metadata": {},
     "output_type": "execute_result"
    }
   ],
   "source": [
    "mat_call_price"
   ]
  },
  {
   "cell_type": "markdown",
   "metadata": {},
   "source": [
    "# Question 2"
   ]
  },
  {
   "cell_type": "code",
   "execution_count": 101,
   "metadata": {},
   "outputs": [
    {
     "data": {
      "text/plain": [
       "array([29.79 , 58.515,  9.886, 32.152, 41.239, 35.726, 13.952, 30.511,\n",
       "       40.39 , 31.518, 52.396, 44.257, 43.552, 33.602, 52.007, 11.186,\n",
       "       17.02 , 28.627, 25.191,  4.69 ])"
      ]
     },
     "execution_count": 101,
     "metadata": {},
     "output_type": "execute_result"
    }
   ],
   "source": [
    "pnl = np.zeros(nb_path)\n",
    "for j in range(len(pnl)):\n",
    "    pnl[j] = mat_call_price[j,0] - np.max(mat_path_spot_fut[j,-1] - mat_spot_init[j,0],0)\n",
    "pnl"
   ]
  },
  {
   "cell_type": "code",
   "execution_count": null,
   "metadata": {},
   "outputs": [],
   "source": []
  },
  {
   "cell_type": "code",
   "execution_count": 100,
   "metadata": {},
   "outputs": [
    {
     "data": {
      "text/plain": [
       "array([29.79, 30.85,  9.89, 30.85, 30.85, 30.85, 13.95, 30.51, 30.85,\n",
       "       30.85, 30.85, 30.85, 30.85, 30.85, 30.85, 11.19, 17.02, 28.63,\n",
       "       25.19,  4.69])"
      ]
     },
     "execution_count": 100,
     "metadata": {},
     "output_type": "execute_result"
    }
   ],
   "source": [
    "pnl = np.zeros(nb_path)\n",
    "for j in range(len(pnl)):\n",
    "    pnl[j] = mat_call_price[j,0] - mat_call_price[j,-1]\n",
    "pnl"
   ]
  },
  {
   "cell_type": "markdown",
   "metadata": {},
   "source": [
    "# Question 3"
   ]
  },
  {
   "cell_type": "code",
   "execution_count": 107,
   "metadata": {},
   "outputs": [],
   "source": [
    "def delta( time_to_maturity, spot ):\n",
    "    vol_mod = volatility*np.sqrt(time_to_maturity)\n",
    "    d1 = (np.log(spot/strike) + (int_rate + 0.5 * volatility**2) * time_to_maturity)\n",
    "    d1 = d1 / vol_mod\n",
    "    Nd1 = norm.cdf(d1)\n",
    "    return Nd1"
   ]
  },
  {
   "cell_type": "code",
   "execution_count": 105,
   "metadata": {},
   "outputs": [
    {
     "data": {
      "text/plain": [
       "(20, 12)"
      ]
     },
     "execution_count": 105,
     "metadata": {},
     "output_type": "execute_result"
    }
   ],
   "source": [
    "mat_delta = np.zeros((nb_path,nb_step))\n",
    "mat_delta.shape"
   ]
  },
  {
   "cell_type": "code",
   "execution_count": 110,
   "metadata": {},
   "outputs": [
    {
     "data": {
      "text/plain": [
       "array([[0.765, 0.73 , 0.708, 0.678, 0.674, 0.711, 0.683, 0.736, 0.811,\n",
       "        0.839, 0.755, 0.74 ],\n",
       "       [0.765, 0.757, 0.737, 0.707, 0.611, 0.591, 0.464, 0.415, 0.262,\n",
       "        0.161, 0.094, 0.011],\n",
       "       [0.765, 0.707, 0.695, 0.721, 0.693, 0.614, 0.661, 0.674, 0.704,\n",
       "        0.755, 0.832, 0.936],\n",
       "       [0.765, 0.775, 0.775, 0.755, 0.753, 0.745, 0.678, 0.671, 0.633,\n",
       "        0.495, 0.376, 0.374],\n",
       "       [0.765, 0.736, 0.646, 0.605, 0.574, 0.564, 0.46 , 0.495, 0.407,\n",
       "        0.396, 0.327, 0.183],\n",
       "       [0.765, 0.762, 0.745, 0.694, 0.673, 0.575, 0.568, 0.521, 0.468,\n",
       "        0.407, 0.34 , 0.272],\n",
       "       [0.765, 0.748, 0.737, 0.696, 0.691, 0.663, 0.732, 0.734, 0.806,\n",
       "        0.778, 0.734, 0.817],\n",
       "       [0.765, 0.769, 0.753, 0.761, 0.765, 0.731, 0.707, 0.609, 0.618,\n",
       "        0.649, 0.582, 0.421],\n",
       "       [0.765, 0.713, 0.722, 0.703, 0.665, 0.634, 0.718, 0.696, 0.605,\n",
       "        0.477, 0.454, 0.443],\n",
       "       [0.765, 0.743, 0.783, 0.795, 0.763, 0.81 , 0.84 , 0.821, 0.76 ,\n",
       "        0.777, 0.744, 0.749],\n",
       "       [0.765, 0.717, 0.686, 0.66 , 0.63 , 0.631, 0.641, 0.549, 0.384,\n",
       "        0.407, 0.243, 0.079],\n",
       "       [0.765, 0.75 , 0.724, 0.701, 0.622, 0.528, 0.448, 0.398, 0.307,\n",
       "        0.333, 0.154, 0.138],\n",
       "       [0.765, 0.755, 0.728, 0.703, 0.663, 0.634, 0.639, 0.612, 0.643,\n",
       "        0.59 , 0.474, 0.233],\n",
       "       [0.765, 0.792, 0.794, 0.781, 0.805, 0.725, 0.691, 0.673, 0.581,\n",
       "        0.497, 0.558, 0.519],\n",
       "       [0.765, 0.75 , 0.679, 0.658, 0.61 , 0.543, 0.501, 0.437, 0.434,\n",
       "        0.354, 0.305, 0.108],\n",
       "       [0.765, 0.756, 0.701, 0.702, 0.672, 0.704, 0.722, 0.733, 0.757,\n",
       "        0.842, 0.845, 0.908],\n",
       "       [0.765, 0.744, 0.771, 0.788, 0.827, 0.819, 0.808, 0.79 , 0.824,\n",
       "        0.802, 0.748, 0.831],\n",
       "       [0.765, 0.785, 0.764, 0.725, 0.649, 0.596, 0.618, 0.629, 0.598,\n",
       "        0.555, 0.541, 0.525],\n",
       "       [0.765, 0.795, 0.795, 0.773, 0.734, 0.721, 0.76 , 0.665, 0.676,\n",
       "        0.655, 0.711, 0.79 ],\n",
       "       [0.765, 0.761, 0.763, 0.749, 0.679, 0.608, 0.561, 0.506, 0.616,\n",
       "        0.683, 0.72 , 0.851]])"
      ]
     },
     "execution_count": 110,
     "metadata": {},
     "output_type": "execute_result"
    }
   ],
   "source": [
    "strike = spot_init\n",
    "\n",
    "for j in range(mat_delta.shape[0]):\n",
    "    for t in range(mat_delta.shape[1]):\n",
    "        spot = mat_path_spot_fut[j,t]\n",
    "        time_to_maturity = nb_step - t\n",
    "        mat_delta[j,t] = delta(time_to_maturity, spot)\n",
    "        mat_delta[j,t] = round(mat_delta[j,t],3)\n",
    "mat_delta"
   ]
  },
  {
   "cell_type": "markdown",
   "metadata": {},
   "source": [
    "# Question 4"
   ]
  },
  {
   "cell_type": "code",
   "execution_count": 111,
   "metadata": {},
   "outputs": [
    {
     "data": {
      "text/plain": [
       "(20, 12)"
      ]
     },
     "execution_count": 111,
     "metadata": {},
     "output_type": "execute_result"
    }
   ],
   "source": [
    "mat_delta.shape"
   ]
  },
  {
   "cell_type": "code",
   "execution_count": 118,
   "metadata": {},
   "outputs": [
    {
     "data": {
      "text/plain": [
       "array([[1.0000e+02, 7.3000e+01, 5.1684e+01, 3.5042e+01, 2.3618e+01,\n",
       "        1.6792e+01, 1.1469e+01, 8.4410e+00, 6.8460e+00, 5.7440e+00,\n",
       "        4.3370e+00, 3.2090e+00],\n",
       "       [1.0000e+02, 7.5700e+01, 5.5791e+01, 3.9444e+01, 2.4100e+01,\n",
       "        1.4243e+01, 6.6090e+00, 2.7430e+00, 7.1900e-01, 1.1600e-01,\n",
       "        1.1000e-02, 0.0000e+00],\n",
       "       [1.0000e+02, 7.0700e+01, 4.9136e+01, 3.5427e+01, 2.4551e+01,\n",
       "        1.5074e+01, 9.9640e+00, 6.7160e+00, 4.7280e+00, 3.5700e+00,\n",
       "        2.9700e+00, 2.7800e+00],\n",
       "       [1.0000e+02, 7.7500e+01, 6.0062e+01, 4.5347e+01, 3.4146e+01,\n",
       "        2.5439e+01, 1.7248e+01, 1.1573e+01, 7.3260e+00, 3.6260e+00,\n",
       "        1.3630e+00, 5.1000e-01],\n",
       "       [1.0000e+02, 7.3600e+01, 4.7546e+01, 2.8765e+01, 1.6511e+01,\n",
       "        9.3120e+00, 4.2840e+00, 2.1210e+00, 8.6300e-01, 3.4200e-01,\n",
       "        1.1200e-01, 2.0000e-02],\n",
       "       [1.0000e+02, 7.6200e+01, 5.6769e+01, 3.9398e+01, 2.6515e+01,\n",
       "        1.5246e+01, 8.6600e+00, 4.5120e+00, 2.1120e+00, 8.6000e-01,\n",
       "        2.9200e-01, 7.9000e-02],\n",
       "       [1.0000e+02, 7.4800e+01, 5.5128e+01, 3.8369e+01, 2.6513e+01,\n",
       "        1.7578e+01, 1.2867e+01, 9.4440e+00, 7.6120e+00, 5.9220e+00,\n",
       "        4.3470e+00, 3.5510e+00],\n",
       "       [1.0000e+02, 7.6900e+01, 5.7906e+01, 4.4066e+01, 3.3710e+01,\n",
       "        2.4642e+01, 1.7422e+01, 1.0610e+01, 6.5570e+00, 4.2550e+00,\n",
       "        2.4760e+00, 1.0420e+00],\n",
       "       [1.0000e+02, 7.1300e+01, 5.1479e+01, 3.6190e+01, 2.4066e+01,\n",
       "        1.5258e+01, 1.0955e+01, 7.6250e+00, 4.6130e+00, 2.2000e+00,\n",
       "        9.9900e-01, 4.4300e-01],\n",
       "       [1.0000e+02, 7.4300e+01, 5.8177e+01, 4.6251e+01, 3.5290e+01,\n",
       "        2.8585e+01, 2.4011e+01, 1.9713e+01, 1.4982e+01, 1.1641e+01,\n",
       "        8.6610e+00, 6.4870e+00],\n",
       "       [1.0000e+02, 7.1700e+01, 4.9186e+01, 3.2463e+01, 2.0452e+01,\n",
       "        1.2905e+01, 8.2720e+00, 4.5410e+00, 1.7440e+00, 7.1000e-01,\n",
       "        1.7300e-01, 1.4000e-02],\n",
       "       [1.0000e+02, 7.5000e+01, 5.4300e+01, 3.8064e+01, 2.3676e+01,\n",
       "        1.2501e+01, 5.6000e+00, 2.2290e+00, 6.8400e-01, 2.2800e-01,\n",
       "        3.5000e-02, 5.0000e-03],\n",
       "       [1.0000e+02, 7.5500e+01, 5.4964e+01, 3.8640e+01, 2.5618e+01,\n",
       "        1.6242e+01, 1.0379e+01, 6.3520e+00, 4.0840e+00, 2.4100e+00,\n",
       "        1.1420e+00, 2.6600e-01],\n",
       "       [1.0000e+02, 7.9200e+01, 6.2885e+01, 4.9113e+01, 3.9536e+01,\n",
       "        2.8664e+01, 1.9807e+01, 1.3330e+01, 7.7450e+00, 3.8490e+00,\n",
       "        2.1480e+00, 1.1150e+00],\n",
       "       [1.0000e+02, 7.5000e+01, 5.0925e+01, 3.3509e+01, 2.0440e+01,\n",
       "        1.1099e+01, 5.5610e+00, 2.4300e+00, 1.0550e+00, 3.7300e-01,\n",
       "        1.1400e-01, 1.2000e-02],\n",
       "       [1.0000e+02, 7.5600e+01, 5.2996e+01, 3.7203e+01, 2.5000e+01,\n",
       "        1.7600e+01, 1.2707e+01, 9.3140e+00, 7.0510e+00, 5.9370e+00,\n",
       "        5.0170e+00, 4.5550e+00],\n",
       "       [1.0000e+02, 7.4400e+01, 5.7362e+01, 4.5201e+01, 3.7381e+01,\n",
       "        3.0615e+01, 2.4737e+01, 1.9542e+01, 1.6103e+01, 1.2915e+01,\n",
       "        9.6600e+00, 8.0270e+00],\n",
       "       [1.0000e+02, 7.8500e+01, 5.9974e+01, 4.3481e+01, 2.8219e+01,\n",
       "        1.6819e+01, 1.0394e+01, 6.5380e+00, 3.9100e+00, 2.1700e+00,\n",
       "        1.1740e+00, 6.1600e-01],\n",
       "       [1.0000e+02, 7.9500e+01, 6.3202e+01, 4.8855e+01, 3.5860e+01,\n",
       "        2.5855e+01, 1.9650e+01, 1.3067e+01, 8.8330e+00, 5.7860e+00,\n",
       "        4.1140e+00, 3.2500e+00],\n",
       "       [1.0000e+02, 7.6100e+01, 5.8064e+01, 4.3490e+01, 2.9530e+01,\n",
       "        1.7954e+01, 1.0072e+01, 5.0960e+00, 3.1390e+00, 2.1440e+00,\n",
       "        1.5440e+00, 1.3140e+00]])"
      ]
     },
     "execution_count": 118,
     "metadata": {},
     "output_type": "execute_result"
    }
   ],
   "source": [
    "N = 100\n",
    "\n",
    "\n",
    "mat_titre = np.zeros((nb_path,nb_step))\n",
    "mat_titre[:,0] = N0\n",
    "\n",
    "for t in range(1, nb_step):\n",
    "    mat_titre[:,t] = mat_titre[:,t-1] * mat_delta[:,t]\n",
    "    mat_titre[:,t] = np.round(mat_titre[:,t],3)\n",
    "\n",
    "mat_titre"
   ]
  },
  {
   "cell_type": "markdown",
   "metadata": {},
   "source": [
    "# Question 5"
   ]
  },
  {
   "cell_type": "code",
   "execution_count": 119,
   "metadata": {},
   "outputs": [],
   "source": [
    "pnl_covered = np.zeros(nb_path)"
   ]
  },
  {
   "cell_type": "code",
   "execution_count": null,
   "metadata": {},
   "outputs": [],
   "source": []
  }
 ],
 "metadata": {
  "kernelspec": {
   "display_name": "Python 3",
   "language": "python",
   "name": "python3"
  },
  "language_info": {
   "codemirror_mode": {
    "name": "ipython",
    "version": 3
   },
   "file_extension": ".py",
   "mimetype": "text/x-python",
   "name": "python",
   "nbconvert_exporter": "python",
   "pygments_lexer": "ipython3",
   "version": "3.8.3"
  }
 },
 "nbformat": 4,
 "nbformat_minor": 4
}
