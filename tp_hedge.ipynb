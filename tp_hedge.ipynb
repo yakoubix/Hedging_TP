{
 "cells": [
  {
   "cell_type": "markdown",
   "metadata": {},
   "source": [
    "# Import librairies"
   ]
  },
  {
   "cell_type": "code",
   "execution_count": 86,
   "metadata": {},
   "outputs": [],
   "source": [
    "import numpy as np\n",
    "from scipy.stats import norm\n",
    "import matplotlib.pyplot as plt\n",
    "import pandas as pd"
   ]
  },
  {
   "cell_type": "markdown",
   "metadata": {},
   "source": [
    "# Create data"
   ]
  },
  {
   "cell_type": "code",
   "execution_count": 2,
   "metadata": {},
   "outputs": [],
   "source": [
    "spot_init=100                      #S0 qui est aussi le prix d'exercie\n",
    "\n",
    "int_rate = 2/100                   #Taux d'interet sans risque\n",
    "volatility=15/100                  #Volatilité historique\n",
    "maturity=1                         #maturité en année\n",
    "nb_step=12                         #Décomposition de l'année en mois\n",
    "time_step = maturity/nb_step       #delta\n",
    "nb_path=20                         #Nombre de trajectoires\n",
    "nb_seed=20191008"
   ]
  },
  {
   "cell_type": "code",
   "execution_count": 3,
   "metadata": {},
   "outputs": [],
   "source": [
    "drift_mod = (int_rate-0.5*volatility**2)*time_step\n",
    "mat_drift = drift_mod*np.cumsum(np.ones((nb_path,nb_step)),axis=1)"
   ]
  },
  {
   "cell_type": "code",
   "execution_count": 4,
   "metadata": {},
   "outputs": [],
   "source": [
    "volat_mod = volatility*np.sqrt(time_step)\n"
   ]
  },
  {
   "cell_type": "code",
   "execution_count": 5,
   "metadata": {},
   "outputs": [],
   "source": [
    "np.random.seed(nb_seed)"
   ]
  },
  {
   "cell_type": "code",
   "execution_count": 6,
   "metadata": {},
   "outputs": [],
   "source": [
    "mat_shock = np.random.standard_normal((nb_path,nb_step))"
   ]
  },
  {
   "cell_type": "code",
   "execution_count": 7,
   "metadata": {},
   "outputs": [],
   "source": [
    "mat_shock_cum = np.cumsum(mat_shock,axis=1)"
   ]
  },
  {
   "cell_type": "code",
   "execution_count": 8,
   "metadata": {},
   "outputs": [],
   "source": [
    "mat_volatility = volat_mod*mat_shock_cum"
   ]
  },
  {
   "cell_type": "code",
   "execution_count": 9,
   "metadata": {},
   "outputs": [
    {
     "data": {
      "text/plain": [
       "(20, 12)"
      ]
     },
     "execution_count": 9,
     "metadata": {},
     "output_type": "execute_result"
    }
   ],
   "source": [
    "mat_volatility.shape"
   ]
  },
  {
   "cell_type": "code",
   "execution_count": 10,
   "metadata": {},
   "outputs": [],
   "source": [
    "mat_log_spot= mat_drift + mat_volatility\n"
   ]
  },
  {
   "cell_type": "code",
   "execution_count": 11,
   "metadata": {},
   "outputs": [],
   "source": [
    "mat_spot_init = spot_init*np.ones((nb_path,nb_step))"
   ]
  },
  {
   "cell_type": "code",
   "execution_count": 12,
   "metadata": {},
   "outputs": [],
   "source": [
    "mat_spot_fut = mat_spot_init*np.exp(mat_log_spot)"
   ]
  },
  {
   "cell_type": "code",
   "execution_count": 13,
   "metadata": {},
   "outputs": [],
   "source": [
    "vec_spot_init = spot_init*np.ones((nb_path,1))"
   ]
  },
  {
   "cell_type": "code",
   "execution_count": 14,
   "metadata": {},
   "outputs": [],
   "source": [
    "mat_path_spot_fut = np.concatenate((vec_spot_init,np.round(mat_spot_fut,3)),axis=1)"
   ]
  },
  {
   "cell_type": "code",
   "execution_count": 15,
   "metadata": {},
   "outputs": [
    {
     "data": {
      "text/plain": [
       "(20, 13)"
      ]
     },
     "execution_count": 15,
     "metadata": {},
     "output_type": "execute_result"
    }
   ],
   "source": [
    "mat_path_spot_fut.shape"
   ]
  },
  {
   "cell_type": "code",
   "execution_count": 177,
   "metadata": {},
   "outputs": [
    {
     "name": "stdout",
     "output_type": "stream",
     "text": [
      "20 trajectoires du spot pour un an (13 pas)\n"
     ]
    },
    {
     "data": {
      "text/html": [
       "<div>\n",
       "<style scoped>\n",
       "    .dataframe tbody tr th:only-of-type {\n",
       "        vertical-align: middle;\n",
       "    }\n",
       "\n",
       "    .dataframe tbody tr th {\n",
       "        vertical-align: top;\n",
       "    }\n",
       "\n",
       "    .dataframe thead th {\n",
       "        text-align: right;\n",
       "    }\n",
       "</style>\n",
       "<table border=\"1\" class=\"dataframe\">\n",
       "  <thead>\n",
       "    <tr style=\"text-align: right;\">\n",
       "      <th></th>\n",
       "      <th>temps_0</th>\n",
       "      <th>temps_1</th>\n",
       "      <th>temps_2</th>\n",
       "      <th>temps_3</th>\n",
       "      <th>temps_4</th>\n",
       "      <th>temps_5</th>\n",
       "      <th>temps_6</th>\n",
       "      <th>temps_7</th>\n",
       "      <th>temps_8</th>\n",
       "      <th>temps_9</th>\n",
       "      <th>temps_10</th>\n",
       "      <th>temps_11</th>\n",
       "      <th>temps_12</th>\n",
       "    </tr>\n",
       "  </thead>\n",
       "  <tbody>\n",
       "    <tr>\n",
       "      <th>trajectoire_0</th>\n",
       "      <td>100.0</td>\n",
       "      <td>96.217</td>\n",
       "      <td>94.804</td>\n",
       "      <td>92.972</td>\n",
       "      <td>94.336</td>\n",
       "      <td>100.207</td>\n",
       "      <td>98.783</td>\n",
       "      <td>105.671</td>\n",
       "      <td>114.904</td>\n",
       "      <td>117.715</td>\n",
       "      <td>108.745</td>\n",
       "      <td>106.763</td>\n",
       "      <td>101.060</td>\n",
       "    </tr>\n",
       "    <tr>\n",
       "      <th>trajectoire_1</th>\n",
       "      <td>100.0</td>\n",
       "      <td>100.255</td>\n",
       "      <td>98.843</td>\n",
       "      <td>96.419</td>\n",
       "      <td>87.737</td>\n",
       "      <td>88.071</td>\n",
       "      <td>80.193</td>\n",
       "      <td>79.617</td>\n",
       "      <td>72.863</td>\n",
       "      <td>70.423</td>\n",
       "      <td>71.093</td>\n",
       "      <td>68.658</td>\n",
       "      <td>72.335</td>\n",
       "    </tr>\n",
       "    <tr>\n",
       "      <th>trajectoire_2</th>\n",
       "      <td>100.0</td>\n",
       "      <td>92.977</td>\n",
       "      <td>93.200</td>\n",
       "      <td>98.233</td>\n",
       "      <td>96.448</td>\n",
       "      <td>90.172</td>\n",
       "      <td>96.604</td>\n",
       "      <td>99.474</td>\n",
       "      <td>103.680</td>\n",
       "      <td>108.957</td>\n",
       "      <td>115.239</td>\n",
       "      <td>121.766</td>\n",
       "      <td>120.964</td>\n",
       "    </tr>\n",
       "    <tr>\n",
       "      <th>trajectoire_3</th>\n",
       "      <td>100.0</td>\n",
       "      <td>103.328</td>\n",
       "      <td>104.628</td>\n",
       "      <td>103.017</td>\n",
       "      <td>104.118</td>\n",
       "      <td>104.356</td>\n",
       "      <td>98.255</td>\n",
       "      <td>99.214</td>\n",
       "      <td>97.686</td>\n",
       "      <td>90.776</td>\n",
       "      <td>87.869</td>\n",
       "      <td>92.360</td>\n",
       "      <td>98.698</td>\n",
       "    </tr>\n",
       "    <tr>\n",
       "      <th>trajectoire_4</th>\n",
       "      <td>100.0</td>\n",
       "      <td>97.092</td>\n",
       "      <td>87.424</td>\n",
       "      <td>85.111</td>\n",
       "      <td>84.290</td>\n",
       "      <td>85.676</td>\n",
       "      <td>79.933</td>\n",
       "      <td>85.140</td>\n",
       "      <td>82.265</td>\n",
       "      <td>85.025</td>\n",
       "      <td>85.433</td>\n",
       "      <td>84.650</td>\n",
       "      <td>89.611</td>\n",
       "    </tr>\n",
       "    <tr>\n",
       "      <th>trajectoire_5</th>\n",
       "      <td>100.0</td>\n",
       "      <td>101.153</td>\n",
       "      <td>100.056</td>\n",
       "      <td>94.879</td>\n",
       "      <td>94.155</td>\n",
       "      <td>86.617</td>\n",
       "      <td>88.317</td>\n",
       "      <td>87.081</td>\n",
       "      <td>86.166</td>\n",
       "      <td>85.632</td>\n",
       "      <td>86.074</td>\n",
       "      <td>88.473</td>\n",
       "      <td>95.124</td>\n",
       "    </tr>\n",
       "    <tr>\n",
       "      <th>trajectoire_6</th>\n",
       "      <td>100.0</td>\n",
       "      <td>98.820</td>\n",
       "      <td>98.829</td>\n",
       "      <td>95.025</td>\n",
       "      <td>96.193</td>\n",
       "      <td>95.001</td>\n",
       "      <td>104.095</td>\n",
       "      <td>105.520</td>\n",
       "      <td>114.331</td>\n",
       "      <td>111.126</td>\n",
       "      <td>107.262</td>\n",
       "      <td>111.020</td>\n",
       "      <td>116.898</td>\n",
       "    </tr>\n",
       "    <tr>\n",
       "      <th>trajectoire_7</th>\n",
       "      <td>100.0</td>\n",
       "      <td>102.279</td>\n",
       "      <td>101.214</td>\n",
       "      <td>103.897</td>\n",
       "      <td>105.819</td>\n",
       "      <td>102.648</td>\n",
       "      <td>101.251</td>\n",
       "      <td>93.887</td>\n",
       "      <td>96.596</td>\n",
       "      <td>100.591</td>\n",
       "      <td>98.146</td>\n",
       "      <td>94.079</td>\n",
       "      <td>100.339</td>\n",
       "    </tr>\n",
       "    <tr>\n",
       "      <th>trajectoire_8</th>\n",
       "      <td>100.0</td>\n",
       "      <td>93.826</td>\n",
       "      <td>96.729</td>\n",
       "      <td>95.890</td>\n",
       "      <td>93.335</td>\n",
       "      <td>92.008</td>\n",
       "      <td>102.422</td>\n",
       "      <td>101.627</td>\n",
       "      <td>95.585</td>\n",
       "      <td>89.710</td>\n",
       "      <td>91.648</td>\n",
       "      <td>94.863</td>\n",
       "      <td>90.460</td>\n",
       "    </tr>\n",
       "    <tr>\n",
       "      <th>trajectoire_9</th>\n",
       "      <td>100.0</td>\n",
       "      <td>98.075</td>\n",
       "      <td>106.112</td>\n",
       "      <td>109.313</td>\n",
       "      <td>105.564</td>\n",
       "      <td>113.913</td>\n",
       "      <td>119.491</td>\n",
       "      <td>116.376</td>\n",
       "      <td>109.115</td>\n",
       "      <td>111.004</td>\n",
       "      <td>107.928</td>\n",
       "      <td>107.214</td>\n",
       "      <td>99.332</td>\n",
       "    </tr>\n",
       "    <tr>\n",
       "      <th>trajectoire_10</th>\n",
       "      <td>100.0</td>\n",
       "      <td>94.320</td>\n",
       "      <td>92.053</td>\n",
       "      <td>90.885</td>\n",
       "      <td>89.607</td>\n",
       "      <td>91.764</td>\n",
       "      <td>94.649</td>\n",
       "      <td>89.145</td>\n",
       "      <td>80.765</td>\n",
       "      <td>85.638</td>\n",
       "      <td>81.008</td>\n",
       "      <td>78.442</td>\n",
       "      <td>78.454</td>\n",
       "    </tr>\n",
       "    <tr>\n",
       "      <th>trajectoire_11</th>\n",
       "      <td>100.0</td>\n",
       "      <td>99.217</td>\n",
       "      <td>97.068</td>\n",
       "      <td>95.739</td>\n",
       "      <td>88.869</td>\n",
       "      <td>82.660</td>\n",
       "      <td>79.013</td>\n",
       "      <td>78.416</td>\n",
       "      <td>75.850</td>\n",
       "      <td>81.380</td>\n",
       "      <td>75.700</td>\n",
       "      <td>82.321</td>\n",
       "      <td>86.593</td>\n",
       "    </tr>\n",
       "    <tr>\n",
       "      <th>trajectoire_12</th>\n",
       "      <td>100.0</td>\n",
       "      <td>99.936</td>\n",
       "      <td>97.566</td>\n",
       "      <td>95.958</td>\n",
       "      <td>93.097</td>\n",
       "      <td>92.028</td>\n",
       "      <td>94.466</td>\n",
       "      <td>94.099</td>\n",
       "      <td>98.527</td>\n",
       "      <td>96.571</td>\n",
       "      <td>92.657</td>\n",
       "      <td>86.894</td>\n",
       "      <td>87.298</td>\n",
       "    </tr>\n",
       "    <tr>\n",
       "      <th>trajectoire_13</th>\n",
       "      <td>100.0</td>\n",
       "      <td>106.292</td>\n",
       "      <td>107.999</td>\n",
       "      <td>106.948</td>\n",
       "      <td>112.162</td>\n",
       "      <td>101.884</td>\n",
       "      <td>99.580</td>\n",
       "      <td>99.397</td>\n",
       "      <td>93.849</td>\n",
       "      <td>90.882</td>\n",
       "      <td>96.909</td>\n",
       "      <td>97.625</td>\n",
       "      <td>97.248</td>\n",
       "    </tr>\n",
       "    <tr>\n",
       "      <th>trajectoire_14</th>\n",
       "      <td>100.0</td>\n",
       "      <td>99.248</td>\n",
       "      <td>91.224</td>\n",
       "      <td>90.631</td>\n",
       "      <td>87.724</td>\n",
       "      <td>83.884</td>\n",
       "      <td>82.953</td>\n",
       "      <td>81.132</td>\n",
       "      <td>83.948</td>\n",
       "      <td>82.629</td>\n",
       "      <td>84.293</td>\n",
       "      <td>80.522</td>\n",
       "      <td>78.843</td>\n",
       "    </tr>\n",
       "    <tr>\n",
       "      <th>trajectoire_15</th>\n",
       "      <td>100.0</td>\n",
       "      <td>100.099</td>\n",
       "      <td>93.971</td>\n",
       "      <td>95.801</td>\n",
       "      <td>94.101</td>\n",
       "      <td>99.431</td>\n",
       "      <td>102.908</td>\n",
       "      <td>105.381</td>\n",
       "      <td>108.716</td>\n",
       "      <td>118.121</td>\n",
       "      <td>116.522</td>\n",
       "      <td>118.266</td>\n",
       "      <td>119.664</td>\n",
       "    </tr>\n",
       "    <tr>\n",
       "      <th>trajectoire_16</th>\n",
       "      <td>100.0</td>\n",
       "      <td>98.283</td>\n",
       "      <td>104.007</td>\n",
       "      <td>108.230</td>\n",
       "      <td>116.247</td>\n",
       "      <td>115.378</td>\n",
       "      <td>114.203</td>\n",
       "      <td>112.120</td>\n",
       "      <td>116.674</td>\n",
       "      <td>113.487</td>\n",
       "      <td>108.254</td>\n",
       "      <td>111.899</td>\n",
       "      <td>113.830</td>\n",
       "    </tr>\n",
       "    <tr>\n",
       "      <th>trajectoire_17</th>\n",
       "      <td>100.0</td>\n",
       "      <td>105.044</td>\n",
       "      <td>102.931</td>\n",
       "      <td>98.781</td>\n",
       "      <td>91.572</td>\n",
       "      <td>88.514</td>\n",
       "      <td>92.534</td>\n",
       "      <td>95.502</td>\n",
       "      <td>95.052</td>\n",
       "      <td>94.387</td>\n",
       "      <td>95.994</td>\n",
       "      <td>97.852</td>\n",
       "      <td>102.223</td>\n",
       "    </tr>\n",
       "    <tr>\n",
       "      <th>trajectoire_18</th>\n",
       "      <td>100.0</td>\n",
       "      <td>106.877</td>\n",
       "      <td>108.078</td>\n",
       "      <td>105.769</td>\n",
       "      <td>101.536</td>\n",
       "      <td>101.389</td>\n",
       "      <td>107.505</td>\n",
       "      <td>98.717</td>\n",
       "      <td>101.206</td>\n",
       "      <td>101.019</td>\n",
       "      <td>105.696</td>\n",
       "      <td>109.370</td>\n",
       "      <td>105.659</td>\n",
       "    </tr>\n",
       "    <tr>\n",
       "      <th>trajectoire_19</th>\n",
       "      <td>100.0</td>\n",
       "      <td>100.902</td>\n",
       "      <td>102.682</td>\n",
       "      <td>102.156</td>\n",
       "      <td>94.903</td>\n",
       "      <td>89.573</td>\n",
       "      <td>87.695</td>\n",
       "      <td>85.991</td>\n",
       "      <td>96.411</td>\n",
       "      <td>103.029</td>\n",
       "      <td>106.336</td>\n",
       "      <td>113.289</td>\n",
       "      <td>126.160</td>\n",
       "    </tr>\n",
       "  </tbody>\n",
       "</table>\n",
       "</div>"
      ],
      "text/plain": [
       "                temps_0  temps_1  temps_2  temps_3  temps_4  temps_5  temps_6  \\\n",
       "trajectoire_0     100.0   96.217   94.804   92.972   94.336  100.207   98.783   \n",
       "trajectoire_1     100.0  100.255   98.843   96.419   87.737   88.071   80.193   \n",
       "trajectoire_2     100.0   92.977   93.200   98.233   96.448   90.172   96.604   \n",
       "trajectoire_3     100.0  103.328  104.628  103.017  104.118  104.356   98.255   \n",
       "trajectoire_4     100.0   97.092   87.424   85.111   84.290   85.676   79.933   \n",
       "trajectoire_5     100.0  101.153  100.056   94.879   94.155   86.617   88.317   \n",
       "trajectoire_6     100.0   98.820   98.829   95.025   96.193   95.001  104.095   \n",
       "trajectoire_7     100.0  102.279  101.214  103.897  105.819  102.648  101.251   \n",
       "trajectoire_8     100.0   93.826   96.729   95.890   93.335   92.008  102.422   \n",
       "trajectoire_9     100.0   98.075  106.112  109.313  105.564  113.913  119.491   \n",
       "trajectoire_10    100.0   94.320   92.053   90.885   89.607   91.764   94.649   \n",
       "trajectoire_11    100.0   99.217   97.068   95.739   88.869   82.660   79.013   \n",
       "trajectoire_12    100.0   99.936   97.566   95.958   93.097   92.028   94.466   \n",
       "trajectoire_13    100.0  106.292  107.999  106.948  112.162  101.884   99.580   \n",
       "trajectoire_14    100.0   99.248   91.224   90.631   87.724   83.884   82.953   \n",
       "trajectoire_15    100.0  100.099   93.971   95.801   94.101   99.431  102.908   \n",
       "trajectoire_16    100.0   98.283  104.007  108.230  116.247  115.378  114.203   \n",
       "trajectoire_17    100.0  105.044  102.931   98.781   91.572   88.514   92.534   \n",
       "trajectoire_18    100.0  106.877  108.078  105.769  101.536  101.389  107.505   \n",
       "trajectoire_19    100.0  100.902  102.682  102.156   94.903   89.573   87.695   \n",
       "\n",
       "                temps_7  temps_8  temps_9  temps_10  temps_11  temps_12  \n",
       "trajectoire_0   105.671  114.904  117.715   108.745   106.763   101.060  \n",
       "trajectoire_1    79.617   72.863   70.423    71.093    68.658    72.335  \n",
       "trajectoire_2    99.474  103.680  108.957   115.239   121.766   120.964  \n",
       "trajectoire_3    99.214   97.686   90.776    87.869    92.360    98.698  \n",
       "trajectoire_4    85.140   82.265   85.025    85.433    84.650    89.611  \n",
       "trajectoire_5    87.081   86.166   85.632    86.074    88.473    95.124  \n",
       "trajectoire_6   105.520  114.331  111.126   107.262   111.020   116.898  \n",
       "trajectoire_7    93.887   96.596  100.591    98.146    94.079   100.339  \n",
       "trajectoire_8   101.627   95.585   89.710    91.648    94.863    90.460  \n",
       "trajectoire_9   116.376  109.115  111.004   107.928   107.214    99.332  \n",
       "trajectoire_10   89.145   80.765   85.638    81.008    78.442    78.454  \n",
       "trajectoire_11   78.416   75.850   81.380    75.700    82.321    86.593  \n",
       "trajectoire_12   94.099   98.527   96.571    92.657    86.894    87.298  \n",
       "trajectoire_13   99.397   93.849   90.882    96.909    97.625    97.248  \n",
       "trajectoire_14   81.132   83.948   82.629    84.293    80.522    78.843  \n",
       "trajectoire_15  105.381  108.716  118.121   116.522   118.266   119.664  \n",
       "trajectoire_16  112.120  116.674  113.487   108.254   111.899   113.830  \n",
       "trajectoire_17   95.502   95.052   94.387    95.994    97.852   102.223  \n",
       "trajectoire_18   98.717  101.206  101.019   105.696   109.370   105.659  \n",
       "trajectoire_19   85.991   96.411  103.029   106.336   113.289   126.160  "
      ]
     },
     "execution_count": 177,
     "metadata": {},
     "output_type": "execute_result"
    }
   ],
   "source": [
    "print(\"20 trajectoires du spot pour un an (13 pas)\")\n",
    "df_spot = pd.DataFrame(mat_path_spot_fut)\n",
    "np.round(df_spot,3).add_prefix('temps_').set_index('trajectoire_' + df_spot.index.astype(str))"
   ]
  },
  {
   "cell_type": "code",
   "execution_count": 17,
   "metadata": {},
   "outputs": [],
   "source": [
    "def vol_maltz(strike, spot, int_rate, time_to_maturity):\n",
    "    \n",
    "    \"\"\"Arguments: \n",
    "                - strike (float): prix d'exercice \n",
    "                - spot (float): prix du sous jacent à l'instant t\n",
    "                - int_rate (float) : taux d'intêret de l'actif sans risque\n",
    "                - time_to_maturity (float): le temps restant avant d'arriver à la maturité\n",
    "        Return:\n",
    "                - (float) le maximum entre 5% et la volatilité implicite de Maltz\"\"\"\n",
    "    \n",
    "    sigma0 = 0.15\n",
    "    alpha1 = 0.58\n",
    "    alpha2 = -0.35\n",
    "    a = np.log(spot * np.exp(int_rate * time_to_maturity) / strike) / np.sqrt(time_to_maturity)\n",
    "    vol = sigma0 + alpha1 * a + alpha2 * a**2\n",
    "    return max(0.05, vol)\n",
    "    "
   ]
  },
  {
   "cell_type": "code",
   "execution_count": 18,
   "metadata": {},
   "outputs": [],
   "source": [
    "def psi(N, Ci):\n",
    "    \n",
    "    \"\"\"Arguments:\n",
    "                - N (float): nombre de calls\n",
    "                - Ci (float): prix du call à l'instant i\n",
    "        Return:\n",
    "                - (float) les frais de transaction pour le produit dérivé  \"\"\"     \n",
    "    \n",
    "    return 0.2 * 10**(-2) * N * Ci"
   ]
  },
  {
   "cell_type": "code",
   "execution_count": 19,
   "metadata": {},
   "outputs": [],
   "source": [
    "def phi(Ci):\n",
    "    \n",
    "    \"\"\"Arguments:\n",
    "                - Ci (float): prix du call à l'instant i\n",
    "        Return:\n",
    "                - (float) les frais de transaction pour le sous jacent  \"\"\" \n",
    "    \n",
    "    return 0.5 * 10**(-2) * Ci"
   ]
  },
  {
   "cell_type": "markdown",
   "metadata": {},
   "source": [
    "# Question 1"
   ]
  },
  {
   "cell_type": "code",
   "execution_count": 20,
   "metadata": {},
   "outputs": [],
   "source": [
    "def call_price_t(spot, strike, int_rate, time_to_maturity):\n",
    "    \n",
    "     \"\"\"Arguments: \n",
    "                - strike (float): prix d'exercice \n",
    "                - spot (float): prix du sous jacent à l'instant t\n",
    "                - int_rate (float) : taux d'intêret de l'actif sans risque\n",
    "                - time_to_maturity (float): le temps restant avant d'arriver à la maturité\n",
    "        Return:\n",
    "                - (float) le prix du call à l'instant t\"\"\"\n",
    "        \n",
    "    if time_to_maturity == 0:\n",
    "        return(max(spot - strike, 0))\n",
    "    else :\n",
    "        exp_rate = np.exp(-int_rate * time_to_maturity)\n",
    "        volatility = vol_maltz(strike, spot, int_rate, time_to_maturity)\n",
    "        vol_mod = volatility*np.sqrt(time_to_maturity)\n",
    "        d1 = (np.log(spot/strike) + (int_rate + 0.5 * volatility**2) * time_to_maturity)\n",
    "        d1 = d1 / vol_mod\n",
    "        d2 = d1 - vol_mod\n",
    "        Nd1 = norm.cdf(d1)\n",
    "        Nd2 = norm.cdf(d2)\n",
    "        price = spot * Nd1 - strike * exp_rate * Nd2\n",
    "        return price\n",
    "    "
   ]
  },
  {
   "cell_type": "code",
   "execution_count": 21,
   "metadata": {},
   "outputs": [
    {
     "data": {
      "text/plain": [
       "(20, 13)"
      ]
     },
     "execution_count": 21,
     "metadata": {},
     "output_type": "execute_result"
    }
   ],
   "source": [
    "mat_call_price = np.zeros(((nb_path,nb_step + 1)))\n",
    "mat_call_price.shape\n"
   ]
  },
  {
   "cell_type": "code",
   "execution_count": 22,
   "metadata": {},
   "outputs": [],
   "source": [
    "strike = spot_init\n",
    "\n",
    "for j in range(mat_call_price.shape[0]):\n",
    "    for t in range(mat_call_price.shape[1]):\n",
    "        spot = mat_path_spot_fut[j,t]\n",
    "        time_to_maturity = nb_step - t\n",
    "        mat_call_price[j,t] = call_price_t(spot, strike, int_rate,time_to_maturity)\n",
    "        mat_call_price[j,t] = round(mat_call_price[j,t],2)\n"
   ]
  },
  {
   "cell_type": "code",
   "execution_count": 23,
   "metadata": {},
   "outputs": [
    {
     "data": {
      "text/plain": [
       "array([[3.500e+01, 2.968e+01, 2.649e+01, 2.289e+01, 2.203e+01, 2.502e+01,\n",
       "        2.143e+01, 2.505e+01, 3.073e+01, 3.033e+01, 1.883e+01, 1.315e+01,\n",
       "        1.060e+00],\n",
       "       [3.500e+01, 3.336e+01, 3.014e+01, 2.595e+01, 1.639e+01, 1.460e+01,\n",
       "        6.610e+00, 4.360e+00, 3.300e-01, 0.000e+00, 0.000e+00, 0.000e+00,\n",
       "        0.000e+00],\n",
       "       [3.500e+01, 2.676e+01, 2.506e+01, 2.757e+01, 2.389e+01, 1.633e+01,\n",
       "        1.954e+01, 1.957e+01, 2.058e+01, 2.233e+01, 2.473e+01, 2.692e+01,\n",
       "        2.096e+01],\n",
       "       [3.500e+01, 3.620e+01, 3.544e+01, 3.191e+01, 3.078e+01, 2.875e+01,\n",
       "        2.097e+01, 1.934e+01, 1.540e+01, 7.170e+00, 2.600e+00, 2.080e+00,\n",
       "        0.000e+00],\n",
       "       [3.500e+01, 3.047e+01, 2.001e+01, 1.617e+01, 1.357e+01, 1.267e+01,\n",
       "        6.440e+00, 8.000e+00, 3.970e+00, 3.420e+00, 1.440e+00, 1.000e-02,\n",
       "        0.000e+00],\n",
       "       [3.500e+01, 3.419e+01, 3.124e+01, 2.458e+01, 2.187e+01, 1.342e+01,\n",
       "        1.263e+01, 9.420e+00, 6.450e+00, 3.770e+00, 1.710e+00, 4.700e-01,\n",
       "        0.000e+00],\n",
       "       [3.500e+01, 3.205e+01, 3.012e+01, 2.471e+01, 2.366e+01, 2.044e+01,\n",
       "        2.615e+01, 2.491e+01, 3.020e+01, 2.429e+01, 1.751e+01, 1.696e+01,\n",
       "        1.690e+01],\n",
       "       [3.500e+01, 3.523e+01, 3.230e+01, 3.272e+01, 3.234e+01, 2.721e+01,\n",
       "        2.361e+01, 1.482e+01, 1.449e+01, 1.499e+01, 9.750e+00, 3.090e+00,\n",
       "        3.400e-01],\n",
       "       [3.500e+01, 2.752e+01, 2.822e+01, 2.547e+01, 2.116e+01, 1.787e+01,\n",
       "        2.465e+01, 2.145e+01, 1.365e+01, 6.410e+00, 4.900e+00, 3.600e+00,\n",
       "        0.000e+00],\n",
       "       [3.500e+01, 3.137e+01, 3.681e+01, 3.772e+01, 3.210e+01, 3.754e+01,\n",
       "        4.032e+01, 3.484e+01, 2.544e+01, 2.418e+01, 1.810e+01, 1.355e+01,\n",
       "        0.000e+00],\n",
       "       [3.500e+01, 2.797e+01, 2.405e+01, 2.107e+01, 1.796e+01, 1.767e+01,\n",
       "        1.786e+01, 1.100e+01, 3.140e+00, 3.770e+00, 2.100e-01, 0.000e+00,\n",
       "        0.000e+00],\n",
       "       [3.500e+01, 3.241e+01, 2.853e+01, 2.534e+01, 1.733e+01, 1.033e+01,\n",
       "        5.840e+00, 3.670e+00, 1.040e+00, 1.630e+00, 0.000e+00, 0.000e+00,\n",
       "        0.000e+00],\n",
       "       [3.500e+01, 3.307e+01, 2.898e+01, 2.553e+01, 2.095e+01, 1.789e+01,\n",
       "        1.770e+01, 1.499e+01, 1.611e+01, 1.164e+01, 5.590e+00, 1.600e-01,\n",
       "        0.000e+00],\n",
       "       [3.500e+01, 3.895e+01, 3.856e+01, 3.553e+01, 3.820e+01, 2.652e+01,\n",
       "        2.213e+01, 1.950e+01, 1.223e+01, 7.250e+00, 8.760e+00, 5.560e+00,\n",
       "        0.000e+00],\n",
       "       [3.500e+01, 3.244e+01, 2.332e+01, 2.085e+01, 1.638e+01, 1.127e+01,\n",
       "        8.540e+00, 5.280e+00, 4.990e+00, 2.180e+00, 1.000e+00, 0.000e+00,\n",
       "        0.000e+00],\n",
       "       [3.500e+01, 3.322e+01, 2.575e+01, 2.539e+01, 2.182e+01, 2.433e+01,\n",
       "        2.508e+01, 2.479e+01, 2.508e+01, 3.071e+01, 2.591e+01, 2.364e+01,\n",
       "        1.966e+01],\n",
       "       [3.500e+01, 3.156e+01, 3.486e+01, 3.671e+01, 4.201e+01, 3.890e+01,\n",
       "        3.539e+01, 3.091e+01, 3.236e+01, 2.644e+01, 1.839e+01, 1.776e+01,\n",
       "        1.383e+01],\n",
       "       [3.500e+01, 3.779e+01, 3.387e+01, 2.807e+01, 1.963e+01, 1.496e+01,\n",
       "        1.607e+01, 1.617e+01, 1.321e+01, 9.900e+00, 8.050e+00, 5.730e+00,\n",
       "        2.220e+00],\n",
       "       [3.500e+01, 3.950e+01, 3.864e+01, 3.444e+01, 2.844e+01, 2.608e+01,\n",
       "        2.923e+01, 1.891e+01, 1.841e+01, 1.535e+01, 1.613e+01, 1.547e+01,\n",
       "        5.660e+00],\n",
       "       [3.500e+01, 3.396e+01, 3.364e+01, 3.113e+01, 2.252e+01, 1.583e+01,\n",
       "        1.214e+01, 8.610e+00, 1.433e+01, 1.708e+01, 1.669e+01, 1.904e+01,\n",
       "        2.616e+01]])"
      ]
     },
     "execution_count": 23,
     "metadata": {},
     "output_type": "execute_result"
    }
   ],
   "source": [
    "mat_call_price"
   ]
  },
  {
   "cell_type": "markdown",
   "metadata": {},
   "source": [
    "# Question 2"
   ]
  },
  {
   "cell_type": "code",
   "execution_count": 25,
   "metadata": {},
   "outputs": [
    {
     "data": {
      "text/plain": [
       "(20, 13)"
      ]
     },
     "execution_count": 25,
     "metadata": {},
     "output_type": "execute_result"
    }
   ],
   "source": [
    "mat_call_price.shape"
   ]
  },
  {
   "cell_type": "code",
   "execution_count": 179,
   "metadata": {},
   "outputs": [],
   "source": [
    "time_step = 1/12"
   ]
  },
  {
   "cell_type": "code",
   "execution_count": 143,
   "metadata": {},
   "outputs": [],
   "source": [
    "N = 10000\n",
    "pnl_wo_cov = np.zeros(nb_path)\n",
    "\n",
    "for i in range(nb_path):\n",
    "    \n",
    "    b0 = N * mat_call_price[i,0] - psi(N, mat_call_price[i,0])\n",
    "    b = [b0]\n",
    "    pnl_wo_cov[i] = N * (mat_call_price[i,0] - mat_call_price[i,-1]) + int_rate * time_step * b0\n",
    "    \n",
    "    for j in range(1, 12):\n",
    "        \n",
    "        bm = N * (mat_call_price[i,j-1] - mat_call_price[i,j]) + int_rate * time_step * b[-1]\n",
    "        b.append(bm)\n",
    "        pnl_wo_cov[i] += int_rate * time_step * bm\n",
    "        \n",
    "    if strike < mat_path_spot_fut[i,-1]:\n",
    "        \n",
    "        pnl_wo_cov[i] -= (phi(N  * strike) + N * mat_path_spot_fut[i,-1] + phi(N * mat_path_spot_fut[i,-1]))\n",
    "        pnl_wo_cov[i] = round(pnl_wo_cov[i], 2)\n",
    "        \n",
    "    else:\n",
    "        \n",
    "        pnl_wo_cov[i] = round(pnl_wo_cov[i], 2)"
   ]
  },
  {
   "cell_type": "code",
   "execution_count": 144,
   "metadata": {},
   "outputs": [
    {
     "data": {
      "text/plain": [
       "array([ -669689.37,   364271.43, -1071501.51,   363844.43,   364263.39,\n",
       "         364170.28,  -988017.5 ,  -653193.74,   363531.29,   361487.05,\n",
       "         364270.28,   364271.3 ,   364216.11,   363123.79,   364267.25,\n",
       "       -1044785.91,  -926647.8 ,  -691448.74,  -762361.3 , -1174112.72])"
      ]
     },
     "execution_count": 144,
     "metadata": {},
     "output_type": "execute_result"
    }
   ],
   "source": [
    "pnl_wo_cov"
   ]
  },
  {
   "cell_type": "markdown",
   "metadata": {},
   "source": [
    "# Question 3"
   ]
  },
  {
   "cell_type": "code",
   "execution_count": 145,
   "metadata": {},
   "outputs": [],
   "source": [
    "def delta( time_to_maturity, spot ):\n",
    "    \n",
    "     \"\"\"Arguments: \n",
    "                - spot (float): prix du sous jacent à l'instant t\n",
    "                - time_to_maturity (float): le temps restant avant d'arriver à la maturité\n",
    "        Return:\n",
    "                - (float) le delta du call\"\"\"\n",
    "        \n",
    "    if time_to_maturity == 0:\n",
    "        \n",
    "        if spot > strike:\n",
    "            return 1\n",
    "        else: \n",
    "            return 0\n",
    "        \n",
    "    else :\n",
    "        \n",
    "        volatility = vol_maltz(strike, spot, int_rate, time_to_maturity)\n",
    "        vol_mod = volatility*np.sqrt(time_to_maturity)\n",
    "        d1 = (np.log(spot/strike) + (int_rate + 0.5 * volatility**2) * time_to_maturity)\n",
    "        d1 = d1 / vol_mod\n",
    "        Nd1 = norm.cdf(d1)\n",
    "        \n",
    "        return Nd1"
   ]
  },
  {
   "cell_type": "code",
   "execution_count": 169,
   "metadata": {},
   "outputs": [
    {
     "data": {
      "text/plain": [
       "(20, 13)"
      ]
     },
     "execution_count": 169,
     "metadata": {},
     "output_type": "execute_result"
    }
   ],
   "source": [
    "mat_delta = np.zeros((nb_path,nb_step+1))\n",
    "mat_delta.shape"
   ]
  },
  {
   "cell_type": "code",
   "execution_count": 170,
   "metadata": {},
   "outputs": [
    {
     "data": {
      "text/plain": [
       "(20, 13)"
      ]
     },
     "execution_count": 170,
     "metadata": {},
     "output_type": "execute_result"
    }
   ],
   "source": [
    "mat_path_spot_fut.shape"
   ]
  },
  {
   "cell_type": "code",
   "execution_count": 171,
   "metadata": {},
   "outputs": [
    {
     "data": {
      "text/plain": [
       "array([[0.756, 0.727, 0.706, 0.679, 0.674, 0.704, 0.679, 0.719, 0.768,\n",
       "        0.782, 0.72 , 0.703, 1.   ],\n",
       "       [0.756, 0.748, 0.731, 0.704, 0.613, 0.593, 0.431, 0.357, 0.071,\n",
       "        0.   , 0.   , 0.   , 0.   ],\n",
       "       [0.756, 0.707, 0.695, 0.716, 0.691, 0.617, 0.66 , 0.669, 0.692,\n",
       "        0.725, 0.771, 0.833, 1.   ],\n",
       "       [0.756, 0.763, 0.76 , 0.743, 0.74 , 0.731, 0.675, 0.667, 0.632,\n",
       "        0.486, 0.314, 0.322, 0.   ],\n",
       "       [0.756, 0.732, 0.65 , 0.607, 0.573, 0.562, 0.426, 0.479, 0.351,\n",
       "        0.339, 0.222, 0.006, 0.   ],\n",
       "       [0.756, 0.753, 0.737, 0.693, 0.673, 0.575, 0.568, 0.514, 0.446,\n",
       "        0.357, 0.247, 0.128, 0.   ],\n",
       "       [0.756, 0.741, 0.731, 0.694, 0.689, 0.663, 0.719, 0.718, 0.765,\n",
       "        0.741, 0.705, 0.753, 1.   ],\n",
       "       [0.756, 0.758, 0.744, 0.748, 0.749, 0.72 , 0.699, 0.611, 0.619,\n",
       "        0.644, 0.582, 0.396, 1.   ],\n",
       "       [0.756, 0.712, 0.718, 0.7  , 0.666, 0.636, 0.707, 0.688, 0.606,\n",
       "        0.462, 0.435, 0.427, 0.   ],\n",
       "       [0.756, 0.737, 0.767, 0.773, 0.747, 0.779, 0.796, 0.779, 0.733,\n",
       "        0.741, 0.712, 0.709, 0.   ],\n",
       "       [0.756, 0.715, 0.687, 0.662, 0.632, 0.633, 0.642, 0.547, 0.309,\n",
       "        0.357, 0.06 , 0.   , 0.   ],\n",
       "       [0.756, 0.743, 0.72 , 0.699, 0.625, 0.518, 0.406, 0.326, 0.157,\n",
       "        0.221, 0.   , 0.   , 0.   ],\n",
       "       [0.756, 0.747, 0.723, 0.701, 0.664, 0.636, 0.64 , 0.613, 0.641,\n",
       "        0.59 , 0.462, 0.058, 0.   ],\n",
       "       [0.756, 0.775, 0.775, 0.763, 0.778, 0.716, 0.686, 0.669, 0.582,\n",
       "        0.488, 0.559, 0.519, 0.   ],\n",
       "       [0.756, 0.743, 0.681, 0.66 , 0.613, 0.537, 0.484, 0.394, 0.394,\n",
       "        0.263, 0.177, 0.   , 0.   ],\n",
       "       [0.756, 0.747, 0.7  , 0.7  , 0.672, 0.699, 0.711, 0.717, 0.73 ,\n",
       "        0.784, 0.779, 0.812, 1.   ],\n",
       "       [0.756, 0.738, 0.757, 0.768, 0.794, 0.785, 0.774, 0.758, 0.777,\n",
       "        0.757, 0.715, 0.761, 1.   ],\n",
       "       [0.756, 0.77 , 0.752, 0.719, 0.651, 0.598, 0.619, 0.629, 0.599,\n",
       "        0.555, 0.54 , 0.525, 1.   ],\n",
       "       [0.756, 0.778, 0.775, 0.757, 0.725, 0.712, 0.74 , 0.662, 0.669,\n",
       "        0.649, 0.689, 0.735, 1.   ],\n",
       "       [0.756, 0.751, 0.751, 0.739, 0.679, 0.61 , 0.559, 0.494, 0.616,\n",
       "        0.672, 0.696, 0.774, 1.   ]])"
      ]
     },
     "execution_count": 171,
     "metadata": {},
     "output_type": "execute_result"
    }
   ],
   "source": [
    "strike = spot_init\n",
    "\n",
    "for j in range(mat_delta.shape[0]):\n",
    "    \n",
    "    for t in range(mat_delta.shape[1] ):\n",
    "        \n",
    "        spot = mat_path_spot_fut[j,t]\n",
    "        time_to_maturity = nb_step - t\n",
    "        mat_delta[j,t] = delta(time_to_maturity, spot)\n",
    "        mat_delta[j,t] = round(mat_delta[j,t],3)\n",
    "        \n",
    "mat_delta"
   ]
  },
  {
   "cell_type": "markdown",
   "metadata": {},
   "source": [
    "# Question 4"
   ]
  },
  {
   "cell_type": "code",
   "execution_count": 172,
   "metadata": {},
   "outputs": [
    {
     "data": {
      "text/plain": [
       "(20, 13)"
      ]
     },
     "execution_count": 172,
     "metadata": {},
     "output_type": "execute_result"
    }
   ],
   "source": [
    "mat_delta.shape"
   ]
  },
  {
   "cell_type": "code",
   "execution_count": 181,
   "metadata": {},
   "outputs": [
    {
     "data": {
      "text/plain": [
       "array([[7560., 7270., 7060., 6790., 6740., 7040., 6790., 7190., 7680.,\n",
       "        7820., 7200., 7030.],\n",
       "       [7560., 7480., 7310., 7040., 6130., 5930., 4310., 3570.,  710.,\n",
       "           0.,    0.,    0.],\n",
       "       [7560., 7070., 6950., 7160., 6910., 6170., 6600., 6690., 6920.,\n",
       "        7250., 7710., 8330.],\n",
       "       [7560., 7630., 7600., 7430., 7400., 7310., 6750., 6670., 6320.,\n",
       "        4860., 3140., 3220.],\n",
       "       [7560., 7320., 6500., 6070., 5730., 5620., 4260., 4790., 3510.,\n",
       "        3390., 2220.,   60.],\n",
       "       [7560., 7530., 7370., 6930., 6730., 5750., 5680., 5140., 4460.,\n",
       "        3570., 2470., 1280.],\n",
       "       [7560., 7410., 7310., 6940., 6890., 6630., 7190., 7180., 7650.,\n",
       "        7410., 7050., 7530.],\n",
       "       [7560., 7580., 7440., 7480., 7490., 7200., 6990., 6110., 6190.,\n",
       "        6440., 5820., 3960.],\n",
       "       [7560., 7120., 7180., 7000., 6660., 6360., 7070., 6880., 6060.,\n",
       "        4620., 4350., 4270.],\n",
       "       [7560., 7370., 7670., 7730., 7470., 7790., 7960., 7790., 7330.,\n",
       "        7410., 7120., 7090.],\n",
       "       [7560., 7150., 6870., 6620., 6320., 6330., 6420., 5470., 3090.,\n",
       "        3570.,  600.,    0.],\n",
       "       [7560., 7430., 7200., 6990., 6250., 5180., 4060., 3260., 1570.,\n",
       "        2210.,    0.,    0.],\n",
       "       [7560., 7470., 7230., 7010., 6640., 6360., 6400., 6130., 6410.,\n",
       "        5900., 4620.,  580.],\n",
       "       [7560., 7750., 7750., 7630., 7780., 7160., 6860., 6690., 5820.,\n",
       "        4880., 5590., 5190.],\n",
       "       [7560., 7430., 6810., 6600., 6130., 5370., 4840., 3940., 3940.,\n",
       "        2630., 1770.,    0.],\n",
       "       [7560., 7470., 7000., 7000., 6720., 6990., 7110., 7170., 7300.,\n",
       "        7840., 7790., 8120.],\n",
       "       [7560., 7380., 7570., 7680., 7940., 7850., 7740., 7580., 7770.,\n",
       "        7570., 7150., 7610.],\n",
       "       [7560., 7700., 7520., 7190., 6510., 5980., 6190., 6290., 5990.,\n",
       "        5550., 5400., 5250.],\n",
       "       [7560., 7780., 7750., 7570., 7250., 7120., 7400., 6620., 6690.,\n",
       "        6490., 6890., 7350.],\n",
       "       [7560., 7510., 7510., 7390., 6790., 6100., 5590., 4940., 6160.,\n",
       "        6720., 6960., 7740.]])"
      ]
     },
     "execution_count": 181,
     "metadata": {},
     "output_type": "execute_result"
    }
   ],
   "source": [
    "mat_titre = np.zeros((nb_path,nb_step))\n",
    "\n",
    "for t in range( nb_step):\n",
    "    mat_titre[:,t] = N * mat_delta[:,t]\n",
    "    mat_titre[:,t] = np.round(mat_titre[:,t], 0)\n",
    "\n",
    "mat_titre"
   ]
  },
  {
   "cell_type": "markdown",
   "metadata": {},
   "source": [
    "# Question 5"
   ]
  },
  {
   "cell_type": "code",
   "execution_count": 182,
   "metadata": {},
   "outputs": [],
   "source": [
    "pnl_covered = np.zeros(nb_path)"
   ]
  },
  {
   "cell_type": "code",
   "execution_count": 183,
   "metadata": {},
   "outputs": [],
   "source": [
    "for i in range(nb_path):\n",
    "    \n",
    "    b0 = N * mat_call_price[i,0] - psi(N, mat_call_price[i,0]) - (mat_titre[i,0] * mat_path_spot_fut[i,0] + phi(mat_titre[i,0] * mat_path_spot_fut[i,0]))\n",
    "    b = [b0]\n",
    "    pnl_covered[i] = N * (mat_call_price[i,0] - mat_call_price[i,-1]) + int_rate * time_step * b0 + mat_titre[i,0] * (mat_path_spot_fut[i,1] - mat_path_spot_fut[i,0])\n",
    "    \n",
    "    for j in range(1, 12):\n",
    "        \n",
    "        bm = N * (mat_call_price[i,j-1] - mat_call_price[i,j]) + int_rate * time_step * b[-1] +  mat_titre[i,j-1] * (mat_path_spot_fut[i,j] - mat_path_spot_fut[i,j-1])\n",
    "        bm += (mat_path_spot_fut[i,j] * ( mat_titre[i,j-1] -  mat_titre[i,j]) - phi(np.abs(mat_titre[i,j-1] -  mat_titre[i,j]) * mat_path_spot_fut[i,j] ))\n",
    "        b.append(bm)\n",
    "        pnl_covered[i] += (int_rate * time_step * bm + mat_titre[i,j] * (mat_path_spot_fut[i,j+1] - mat_path_spot_fut[i,j]))\n",
    "    \n",
    "    if strike < mat_path_spot_fut[i,-1]:\n",
    "       \n",
    "        pnl_covered[i] -= (phi(N  * strike) + ( N - mat_titre[i,-2])  * mat_path_spot_fut[i,-1] + phi((N - mat_titre[i,-2]) * mat_path_spot_fut[i,-1]))\n",
    "        pnl_covered[i] = round(pnl_covered[i], 2)\n",
    "    \n",
    "    else :\n",
    "        \n",
    "        pnl_covered[i] -= phi( mat_titre[i,-2] * mat_path_spot_fut[i,-1])\n",
    "        pnl_covered[i] = round(pnl_covered[i], 2)\n",
    "                          \n",
    "                        "
   ]
  },
  {
   "cell_type": "code",
   "execution_count": 184,
   "metadata": {},
   "outputs": [
    {
     "data": {
      "text/plain": [
       "array([  47064.07,  190149.83,   -3704.7 ,  310049.73,  230687.3 ,\n",
       "        267723.33,  -56220.22,  -94697.99,  277104.54,  341095.45,\n",
       "        222566.93,  198814.22,  270099.29,  319205.87,  227768.95,\n",
       "         20763.16,  -18152.59, -153248.63,   -9622.58, -134496.45])"
      ]
     },
     "execution_count": 184,
     "metadata": {},
     "output_type": "execute_result"
    }
   ],
   "source": [
    "pnl_covered"
   ]
  },
  {
   "cell_type": "code",
   "execution_count": 185,
   "metadata": {
    "scrolled": true
   },
   "outputs": [
    {
     "data": {
      "text/plain": [
       "Text(0.5, 1.0, 'PnL')"
      ]
     },
     "execution_count": 185,
     "metadata": {},
     "output_type": "execute_result"
    },
    {
     "data": {
      "image/png": "[encoded data removed]",
      "text/plain": [
       "<Figure size 1080x720 with 1 Axes>"
      ]
     },
     "metadata": {
      "needs_background": "light"
     },
     "output_type": "display_data"
    }
   ],
   "source": [
    "plt.figure(figsize = (15,10))\n",
    "plt.plot(pnl_covered)\n",
    "plt.plot(pnl_wo_cov)\n",
    "plt.legend(['with coverage','wo coverage'])\n",
    "plt.title('PnL')"
   ]
  },
  {
   "cell_type": "markdown",
   "metadata": {},
   "source": [
    "# Question 6"
   ]
  },
  {
   "cell_type": "code",
   "execution_count": 155,
   "metadata": {},
   "outputs": [],
   "source": [
    "mat_titre_max = np.zeros((nb_path, nb_step))"
   ]
  },
  {
   "cell_type": "code",
   "execution_count": 224,
   "metadata": {},
   "outputs": [],
   "source": [
    "alpha1 = alpha2 = 0.01\n",
    "\n",
    "for j in range(mat_titre_max.shape[0]):\n",
    "    \n",
    "    esp_c1 = (1/nb_path) * np.sum( mat_call_price[:,1] )\n",
    "    esp_s1 = (1/nb_path) * np.sum( mat_path_spot_fut[:,1])\n",
    "    maxi = - np.inf\n",
    "    C0 = mat_call_price[j,0]\n",
    "    S0 = mat_path_spot_fut[j,0]\n",
    "    N0 = 1\n",
    "    \n",
    "    for n0 in range(1,N):\n",
    "        \n",
    "        esp = N * (C0 - esp_c1 ) + n0 * (esp_s1 - S0) + int_rate * time_step * ( N * C0 - psi(N, C0) - n0 * S0 - phi(n0 * S0) )\n",
    "        \n",
    "        if esp > maxi:\n",
    "            \n",
    "            N0 = n0\n",
    "            maxi = esp\n",
    "            \n",
    "    mat_titre_max[j,0] = int(N0)\n",
    "    \n",
    "    \n",
    "      \n",
    "    b0 = N * C0 - psi(N, C0) - ( mat_titre_max[j,0] * S0 + phi(mat_titre_max[j,0] * S0))\n",
    "    b1 = N * (C0 - mat_call_price[j,1]) + mat_titre_max[j,0] * (mat_path_spot_fut[j,1] - S0) + int_rate*time_step*b0\n",
    "    bm = [b0, b1]\n",
    "    \n",
    "    for t in range(1,mat_titre_max.shape[1] - 1):\n",
    "        \n",
    "        ksi = 0.1\n",
    "        somme = np.sum([np.exp( - ksi * np.abs(mat_path_spot_fut[k,t + 1] - mat_path_spot_fut[j,t + 1] )) for k in range(nb_path)])\n",
    "        proba = [np.exp( - ksi * np.abs(mat_path_spot_fut[l,t + 1] - mat_path_spot_fut[j,t + 1] )) / somme for l in range(nb_path)]\n",
    "        \n",
    "        \n",
    "        esp_s = np.sum([s * p  for (s,p) in zip(mat_path_spot_fut[:,t + 1],proba)])\n",
    "        esp_c = np.sum([c * p  for (c,p) in zip(mat_call_price[:,t + 1],proba)])\n",
    "        \n",
    "        S =  mat_path_spot_fut[j,t]\n",
    "        \n",
    "        maxi = -np.inf\n",
    "        Nm = 1\n",
    "\n",
    "        for k in range(1,N):\n",
    "\n",
    "            #if np.abs(int_rate * time_step * bm[t] - N * (esp_c - mat_call_price[j,t]) + k * (esp_s - S)) <= alpha2 * N * mat_call_price[j,t]:\n",
    "\n",
    "            esp = -N * (esp_c - mat_call_price[j,t]) + k * (esp_s - S) + int_rate * time_step * (bm[t] + (mat_titre_max[j,t-1] - k) * S - phi(np.abs(mat_titre_max[j,t-1] - k) * S))\n",
    "\n",
    "            if esp > maxi :\n",
    "\n",
    "                maxi = esp\n",
    "\n",
    "                Nm = k\n",
    "\n",
    "        mat_titre_max[j,t] = int(Nm)\n",
    "        \n",
    "        \n",
    "        \"\"\"\n",
    "        if esp_s - S == 0:\n",
    "            \n",
    "            maxi = -np.inf\n",
    "            Nm = 1\n",
    "            \n",
    "            for k in range(1, N):\n",
    "                \n",
    "                #if np.abs(bm[t] + (mat_titre_max[j,t-1] - k) * S - phi(np.abs((mat_titre_max[j,t-1] - k) * S)) ) <= alpha1 * S * mat_titre_max[j,t-1]:  \n",
    "                \n",
    "                esp = -N * (esp_c - mat_call_price[j,t]) + k * (esp_s - S) + int_rate * time_step * (bm[t] + (mat_titre_max[j,t-1] - k) * S - phi(np.abs(mat_titre_max[j,t-1] - k) * S))\n",
    "\n",
    "                if esp > maxi :\n",
    "\n",
    "                    maxi = esp\n",
    "                    Nm = k\n",
    "\n",
    "            mat_titre_max[j,t] = int(Nm)\n",
    "            \n",
    "        else:\n",
    "            \n",
    "            maxi = -np.inf\n",
    "            Nm = 1\n",
    "            \n",
    "            for k in range(1,N):\n",
    "                \n",
    "                #if np.abs(int_rate * time_step * bm[t] - N * (esp_c - mat_call_price[j,t]) + k * (esp_s - S)) <= alpha2 * N * mat_call_price[j,t]:\n",
    "                \n",
    "                esp = -N * (esp_c - mat_call_price[j,t]) + k * (esp_s - S) + int_rate * time_step * (bm[t] + (mat_titre_max[j,t-1] - k) * S - phi(np.abs(mat_titre_max[j,t-1] - k) * S))\n",
    "\n",
    "                if esp > maxi :\n",
    "\n",
    "                    maxi = esp\n",
    "\n",
    "                    Nm = k\n",
    "\n",
    "            mat_titre_max[j,t] = int(Nm)\n",
    "            \"\"\"\n",
    "        \n",
    "        b = bm[t] + (mat_titre_max[j,t-1] - mat_titre_max[j,t])*mat_path_spot_fut[j,t] - phi(np.abs(mat_titre_max[j,t-1] - mat_titre_max[j,t])*mat_path_spot_fut[j,t])\n",
    "        bm.append(N * (mat_call_price[j,t] - mat_call_price[j,t+1]) + mat_titre_max[j,t]  * (mat_path_spot_fut[j,t + 1] - mat_path_spot_fut[j,t]) + int_rate*time_step*b)\n",
    "\n",
    "    somme = np.sum([np.exp( - ksi * np.abs(mat_path_spot_fut[k,-1] - mat_path_spot_fut[j,-1] )) for k in range(nb_path)])\n",
    "    proba = [np.exp( - ksi * np.abs(mat_path_spot_fut[l,-1] - mat_path_spot_fut[j,-1] )) / somme for l in range(nb_path)]\n",
    "\n",
    "    esp_s = np.sum([s * p  for (s,p) in zip(mat_path_spot_fut[:,-1],proba)])\n",
    "    esp_c = np.sum([c * p  for (c,p) in zip(mat_call_price[:,-1],proba)])\n",
    "    \n",
    "    maxi = - np.inf\n",
    "    C = mat_call_price[j,-2]\n",
    "    S = mat_path_spot_fut[j,-2]\n",
    "    Nm = 1\n",
    "    \n",
    "    for n in range(1,N):\n",
    "        \n",
    "        esp_inf = np.sum([phi(n * mat_path_spot_fut[l,-1] ) * p if mat_path_spot_fut[l,-1] < strike else 0 for (l,p) in zip(range(nb_path),proba)])\n",
    "        esp_sup = np.sum([phi(N * strike ) + (N - n) * mat_path_spot_fut[l,-1] + phi(mat_path_spot_fut[l,-1] * (N - n)) if mat_path_spot_fut[l,-1] > strike else 0 for (l,p) in zip(range(nb_path),proba)]) \n",
    "        \n",
    "        esp = N * (C - esp_c) + n * (esp_s - S) + int_rate * time_step * (bm[-1] + (mat_titre_max[j,-2] - n) * mat_path_spot_fut[j,-1] - phi(np.abs(mat_titre_max[j,-2] - n) * mat_path_spot_fut[j,-1])) - esp_inf - esp_sup\n",
    "        \n",
    "        if esp > maxi:\n",
    "            \n",
    "            maxi = esp\n",
    "            Nm = n\n",
    "        \n",
    "        mat_titre_max[j,-1] = int(Nm)"
   ]
  },
  {
   "cell_type": "code",
   "execution_count": 225,
   "metadata": {},
   "outputs": [
    {
     "data": {
      "text/plain": [
       "array([[1.000e+00, 9.999e+03, 9.999e+03, 9.999e+03, 9.999e+03, 1.000e+00,\n",
       "        9.999e+03, 9.999e+03, 1.000e+00, 1.000e+00, 1.000e+00, 9.999e+03],\n",
       "       [1.000e+00, 1.000e+00, 1.000e+00, 1.000e+00, 9.999e+03, 1.000e+00,\n",
       "        9.999e+03, 9.999e+03, 9.999e+03, 9.999e+03, 9.999e+03, 9.999e+03],\n",
       "       [1.000e+00, 9.999e+03, 9.999e+03, 1.000e+00, 1.000e+00, 9.999e+03,\n",
       "        9.999e+03, 9.999e+03, 9.999e+03, 1.000e+00, 1.000e+00, 9.999e+03],\n",
       "       [1.000e+00, 1.000e+00, 1.000e+00, 1.000e+00, 1.000e+00, 1.000e+00,\n",
       "        1.000e+00, 1.000e+00, 1.000e+00, 1.000e+00, 9.999e+03, 9.999e+03],\n",
       "       [1.000e+00, 1.000e+00, 9.999e+03, 9.999e+03, 9.999e+03, 9.999e+03,\n",
       "        9.999e+03, 9.999e+03, 9.999e+03, 9.999e+03, 9.999e+03, 9.999e+03],\n",
       "       [1.000e+00, 1.000e+00, 1.000e+00, 1.000e+00, 1.000e+00, 9.999e+03,\n",
       "        9.999e+03, 9.999e+03, 9.999e+03, 9.999e+03, 9.999e+03, 9.999e+03],\n",
       "       [1.000e+00, 1.000e+00, 1.000e+00, 9.999e+03, 1.000e+00, 9.999e+03,\n",
       "        1.000e+00, 9.999e+03, 1.000e+00, 1.000e+00, 9.999e+03, 9.999e+03],\n",
       "       [1.000e+00, 1.000e+00, 1.000e+00, 1.000e+00, 1.000e+00, 1.000e+00,\n",
       "        1.000e+00, 9.999e+03, 9.999e+03, 1.000e+00, 1.000e+00, 9.999e+03],\n",
       "       [1.000e+00, 9.999e+03, 9.999e+03, 1.000e+00, 1.000e+00, 9.999e+03,\n",
       "        1.000e+00, 1.000e+00, 1.000e+00, 9.999e+03, 9.999e+03, 9.999e+03],\n",
       "       [1.000e+00, 9.999e+03, 1.000e+00, 1.000e+00, 1.000e+00, 1.000e+00,\n",
       "        1.000e+00, 1.000e+00, 1.000e+00, 1.000e+00, 1.000e+00, 9.999e+03],\n",
       "       [1.000e+00, 9.999e+03, 9.999e+03, 9.999e+03, 9.999e+03, 9.999e+03,\n",
       "        1.000e+00, 1.000e+00, 9.999e+03, 9.999e+03, 9.999e+03, 9.999e+03],\n",
       "       [1.000e+00, 1.000e+00, 1.000e+00, 1.000e+00, 9.999e+03, 9.999e+03,\n",
       "        9.999e+03, 9.999e+03, 9.999e+03, 9.999e+03, 9.999e+03, 9.999e+03],\n",
       "       [1.000e+00, 1.000e+00, 1.000e+00, 1.000e+00, 1.000e+00, 9.999e+03,\n",
       "        9.999e+03, 9.999e+03, 1.000e+00, 1.000e+00, 1.000e+00, 9.999e+03],\n",
       "       [1.000e+00, 1.000e+00, 1.000e+00, 1.000e+00, 1.000e+00, 1.000e+00,\n",
       "        1.000e+00, 1.000e+00, 1.000e+00, 9.999e+03, 9.999e+03, 9.999e+03],\n",
       "       [1.000e+00, 1.000e+00, 9.999e+03, 9.999e+03, 9.999e+03, 9.999e+03,\n",
       "        9.999e+03, 9.999e+03, 9.999e+03, 9.999e+03, 9.999e+03, 9.999e+03],\n",
       "       [1.000e+00, 1.000e+00, 9.999e+03, 1.000e+00, 9.999e+03, 9.999e+03,\n",
       "        1.000e+00, 1.000e+00, 9.999e+03, 1.000e+00, 1.000e+00, 9.999e+03],\n",
       "       [1.000e+00, 9.999e+03, 1.000e+00, 1.000e+00, 1.000e+00, 1.000e+00,\n",
       "        1.000e+00, 1.000e+00, 1.000e+00, 1.000e+00, 1.000e+00, 9.999e+03],\n",
       "       [1.000e+00, 1.000e+00, 1.000e+00, 1.000e+00, 1.000e+00, 9.999e+03,\n",
       "        9.999e+03, 9.999e+03, 1.000e+00, 9.999e+03, 9.999e+03, 9.999e+03],\n",
       "       [1.000e+00, 1.000e+00, 1.000e+00, 1.000e+00, 1.000e+00, 9.999e+03,\n",
       "        1.000e+00, 9.999e+03, 1.000e+00, 9.999e+03, 9.999e+03, 9.999e+03],\n",
       "       [1.000e+00, 1.000e+00, 1.000e+00, 1.000e+00, 1.000e+00, 9.999e+03,\n",
       "        9.999e+03, 9.999e+03, 9.999e+03, 9.999e+03, 9.999e+03, 9.999e+03]])"
      ]
     },
     "execution_count": 225,
     "metadata": {},
     "output_type": "execute_result"
    }
   ],
   "source": [
    "mat_titre_max"
   ]
  },
  {
   "cell_type": "code",
   "execution_count": 212,
   "metadata": {},
   "outputs": [],
   "source": [
    "def conditional_prob(spot,scenario_index,κ):\n",
    "    \"\"\"\n",
    "    param spot:\n",
    "    param index:\n",
    "    param κ:\n",
    "    \n",
    "    output\n",
    "    probabilities for the scenario index\n",
    "    \"\"\"\n",
    "    expo_ = np.exp(-κ * abs(spot - spot[scenario_index]))\n",
    "    num_ = expo_.sum()\n",
    "    \n",
    "    return expo_/num_"
   ]
  },
  {
   "cell_type": "code",
   "execution_count": 213,
   "metadata": {},
   "outputs": [],
   "source": [
    "def strategy(spot, call_prices, N, int_rate, time_step, fees_udl, fees_drv):\n",
    "    \"\"\"\n",
    "    param spot: spot prices function of time and scenarios\n",
    "    param call_prices: call prices function of time and scenarios\n",
    "    param N: number of calls\n",
    "    param int_rate: interest rate\n",
    "    param time_step: time between to hedges\n",
    "    param fees_udl: proportional transaction fees for underlying\n",
    "    param fees_drv: proportional transaction fees for derivatives\n",
    "    \n",
    "    output:\n",
    "    number of underlying to by indorder to maximise the PnL\n",
    "    \"\"\"\n",
    "    \n",
    "    nb_steps = np.shape(spot)[1]\n",
    "    nb_path = np.shape(spot)[0]\n",
    "    \n",
    "    nb_udl_hedge = np.zeros((nb_path, nb_steps-1))\n",
    "    expected_call_prices = np.zeros((nb_path, nb_steps))\n",
    "    expected_call_prices[:,0] = call_prices[:,0]\n",
    "    expected_spot_price = np.zeros((nb_path, nb_steps))\n",
    "    expected_spot_price[:,0] = spot[:,0]\n",
    "    \n",
    "    \n",
    "    for t in range(0,nb_steps-1):\n",
    "        mean_PnL = 0\n",
    "        for path in range(nb_path):\n",
    "            probabilities = conditional_prob(spot[:,t], path, 1) # κ=1 ???\n",
    "            expected_call_prices[path,t+1] = (call_prices[:,t+1] * probabilities).sum() \n",
    "            expected_spot_price[path,t+1] = (spot[:,t+1] * probabilities).sum()\n",
    "        \n",
    "        # PnL maximisation\n",
    "        #maxi = np.array([-1 * np.inf for j in range(nb_path)])\n",
    "        my_maxi = np.ones((nb_path,N-1)) * np.inf * (-1)\n",
    "        for i in range(1,N): # On doit détenir au moins un titre et au plus N-1 \n",
    "            # number of underlying to buy already calculated \n",
    "            nb_udl_hedge_test = nb_udl_hedge[:,:t+2].copy()\n",
    "            nb_udl_hedge_test[:,t] = i # + the one to test\n",
    "            # PnL in this test b\n",
    "            PnL = PnL_hedging(expected_spot_price[:,:t+2], expected_call_prices[:,:t+2], \n",
    "                              nb_udl_hedge_test, int_rate, time_step, N,fees_udl,fees_drv, is_maturity=t==nb_steps-2)\n",
    "            my_maxi[:,i-1] = PnL\n",
    "\n",
    "        for sc in range(nb_path):\n",
    "            nb_udl_hedge[sc,t] = my_maxi[sc].argmax(axis=0)+1\n",
    "                    \n",
    "                    \n",
    "        # actualiser expected spot and call prices en mettant les valeurs effectives et plus expected \n",
    "        expected_call_prices[:,t+1] = call_prices[:,t+1]\n",
    "        expected_spot_price[:,t+1] = spot[:,t+1]        \n",
    "                    \n",
    "    return(nb_udl_hedge)"
   ]
  },
  {
   "cell_type": "markdown",
   "metadata": {},
   "source": [
    "# Question 7"
   ]
  },
  {
   "cell_type": "code",
   "execution_count": 204,
   "metadata": {},
   "outputs": [],
   "source": [
    "pnl_covered_max = np.zeros(nb_path)"
   ]
  },
  {
   "cell_type": "code",
   "execution_count": 205,
   "metadata": {},
   "outputs": [],
   "source": [
    "for i in range(nb_path):\n",
    "    b0 = N * mat_call_price[i,0] - psi(N, mat_call_price[i,0]) - (mat_titre_max[i,0] * mat_path_spot_fut[i,0] + phi(mat_titre_max[i,0] * mat_path_spot_fut[i,0]))\n",
    "    b = [b0]\n",
    "    pnl_covered[i] = N * (mat_call_price[i,0] - mat_call_price[i,-1]) + int_rate * time_step * b0 + mat_titre_max[i,0] * (mat_path_spot_fut[i,1] - mat_path_spot_fut[i,0])\n",
    "    for j in range(1, 12):\n",
    "        bm = N * (mat_call_price[i,j-1] - mat_call_price[i,j]) + int_rate * time_step * b[-1] +  mat_titre_max[i,j-1] * (mat_path_spot_fut[i,j] - mat_path_spot_fut[i,j-1])\n",
    "        bm += (mat_path_spot_fut[i,j] * ( mat_titre_max[i,j-1] -  mat_titre_max[i,j]) - phi(np.abs(mat_titre_max[i,j-1] -  mat_titre_max[i,j]) * mat_path_spot_fut[i,j] ))\n",
    "        b.append(bm)\n",
    "        pnl_covered__max[i] += (int_rate * time_step * bm + mat_titre_max[i,j] * (mat_path_spot_fut[i,j+1] - mat_path_spot_fut[i,j]))\n",
    "    if strike < mat_path_spot_fut[i,-1]:\n",
    "        pnl_covered__max[i] -= (phi(N  * strike) + ( N - mat_titre_max[i,-2])  * mat_path_spot_fut[i,-1] + phi((N - mat_titre_max[i,-2]) * mat_path_spot_fut[i,-1]))\n",
    "        pnl_covered__max[i] = round(pnl_covered__max[i], 2)\n",
    "    else :\n",
    "        pnl_covered__max[i] -= phi( mat_titre_max[i,-2] * mat_path_spot_fut[i,-1])\n",
    "        pnl_covered__max[i] = round(pnl_covered__max[i], 2)\n",
    "                          \n",
    "                        "
   ]
  },
  {
   "cell_type": "code",
   "execution_count": 206,
   "metadata": {},
   "outputs": [
    {
     "data": {
      "text/plain": [
       "array([-1.18721334e+045,  3.84306563e+013, -5.03392486e+163,\n",
       "        8.65759869e+256,  2.07511595e+033, -1.42347341e+075,\n",
       "        2.96881511e+206,  8.31329207e+277,  9.59044251e+058,\n",
       "        1.36817106e+245,  2.86450315e+026, -2.61964121e+078,\n",
       "        5.94499520e+036,  4.17174880e+247, -3.83588495e+008,\n",
       "       -4.65871784e+164, -3.03294041e+243,  3.91605511e+221,\n",
       "       -6.99445772e+250, -1.50887715e+076])"
      ]
     },
     "execution_count": 206,
     "metadata": {},
     "output_type": "execute_result"
    }
   ],
   "source": [
    "pnl_covered__max"
   ]
  },
  {
   "cell_type": "code",
   "execution_count": 207,
   "metadata": {},
   "outputs": [
    {
     "data": {
      "text/plain": [
       "Text(0.5, 1.0, 'PnL')"
      ]
     },
     "execution_count": 207,
     "metadata": {},
     "output_type": "execute_result"
    },
    {
     "data": {
      "image/png": "[encoded data removed]",
      "text/plain": [
       "<Figure size 2160x2160 with 1 Axes>"
      ]
     },
     "metadata": {
      "needs_background": "light"
     },
     "output_type": "display_data"
    }
   ],
   "source": [
    "plt.figure(figsize = (30,30))\n",
    "plt.plot(pnl_covered)\n",
    "plt.plot(pnl_covered__max)\n",
    "plt.plot(pnl_wo_cov)\n",
    "plt.legend(['with coverage delta','with coverage max', 'wo coverage'])\n",
    "plt.title('PnL')"
   ]
  },
  {
   "cell_type": "markdown",
   "metadata": {},
   "source": [
    "# Question 8"
   ]
  },
  {
   "cell_type": "code",
   "execution_count": 162,
   "metadata": {},
   "outputs": [
    {
     "data": {
      "text/html": [
       "<div>\n",
       "<style scoped>\n",
       "    .dataframe tbody tr th:only-of-type {\n",
       "        vertical-align: middle;\n",
       "    }\n",
       "\n",
       "    .dataframe tbody tr th {\n",
       "        vertical-align: top;\n",
       "    }\n",
       "\n",
       "    .dataframe thead th {\n",
       "        text-align: right;\n",
       "    }\n",
       "</style>\n",
       "<table border=\"1\" class=\"dataframe\">\n",
       "  <thead>\n",
       "    <tr style=\"text-align: right;\">\n",
       "      <th></th>\n",
       "      <th>PNL Delta</th>\n",
       "      <th>PNL Maximisation</th>\n",
       "    </tr>\n",
       "    <tr>\n",
       "      <th>Trajectories</th>\n",
       "      <th></th>\n",
       "      <th></th>\n",
       "    </tr>\n",
       "  </thead>\n",
       "  <tbody>\n",
       "    <tr>\n",
       "      <th>0</th>\n",
       "      <td>346380.207</td>\n",
       "      <td>-1.187213e+45</td>\n",
       "    </tr>\n",
       "    <tr>\n",
       "      <th>1</th>\n",
       "      <td>356984.245</td>\n",
       "      <td>3.843066e+13</td>\n",
       "    </tr>\n",
       "    <tr>\n",
       "      <th>2</th>\n",
       "      <td>147376.967</td>\n",
       "      <td>-5.033925e+163</td>\n",
       "    </tr>\n",
       "    <tr>\n",
       "      <th>3</th>\n",
       "      <td>356987.318</td>\n",
       "      <td>8.657599e+256</td>\n",
       "    </tr>\n",
       "    <tr>\n",
       "      <th>4</th>\n",
       "      <td>356981.082</td>\n",
       "      <td>2.075116e+33</td>\n",
       "    </tr>\n",
       "    <tr>\n",
       "      <th>5</th>\n",
       "      <td>356985.143</td>\n",
       "      <td>-1.423473e+75</td>\n",
       "    </tr>\n",
       "    <tr>\n",
       "      <th>6</th>\n",
       "      <td>187982.810</td>\n",
       "      <td>2.968815e+206</td>\n",
       "    </tr>\n",
       "    <tr>\n",
       "      <th>7</th>\n",
       "      <td>353586.269</td>\n",
       "      <td>8.313292e+277</td>\n",
       "    </tr>\n",
       "    <tr>\n",
       "      <th>8</th>\n",
       "      <td>356977.816</td>\n",
       "      <td>9.590443e+58</td>\n",
       "    </tr>\n",
       "    <tr>\n",
       "      <th>9</th>\n",
       "      <td>356982.065</td>\n",
       "      <td>1.368171e+245</td>\n",
       "    </tr>\n",
       "    <tr>\n",
       "      <th>10</th>\n",
       "      <td>356978.310</td>\n",
       "      <td>2.864503e+26</td>\n",
       "    </tr>\n",
       "    <tr>\n",
       "      <th>11</th>\n",
       "      <td>356983.207</td>\n",
       "      <td>-2.619641e+78</td>\n",
       "    </tr>\n",
       "    <tr>\n",
       "      <th>12</th>\n",
       "      <td>356983.926</td>\n",
       "      <td>5.944995e+36</td>\n",
       "    </tr>\n",
       "    <tr>\n",
       "      <th>13</th>\n",
       "      <td>356990.282</td>\n",
       "      <td>4.171749e+247</td>\n",
       "    </tr>\n",
       "    <tr>\n",
       "      <th>14</th>\n",
       "      <td>356983.238</td>\n",
       "      <td>-3.835597e+08</td>\n",
       "    </tr>\n",
       "    <tr>\n",
       "      <th>15</th>\n",
       "      <td>160384.089</td>\n",
       "      <td>-4.658718e+164</td>\n",
       "    </tr>\n",
       "    <tr>\n",
       "      <th>16</th>\n",
       "      <td>218682.273</td>\n",
       "      <td>-3.032940e+243</td>\n",
       "    </tr>\n",
       "    <tr>\n",
       "      <th>17</th>\n",
       "      <td>334789.034</td>\n",
       "      <td>3.916055e+221</td>\n",
       "    </tr>\n",
       "    <tr>\n",
       "      <th>18</th>\n",
       "      <td>300390.867</td>\n",
       "      <td>-6.994458e+250</td>\n",
       "    </tr>\n",
       "    <tr>\n",
       "      <th>19</th>\n",
       "      <td>95384.892</td>\n",
       "      <td>-1.508877e+76</td>\n",
       "    </tr>\n",
       "  </tbody>\n",
       "</table>\n",
       "</div>"
      ],
      "text/plain": [
       "               PNL Delta  PNL Maximisation\n",
       "Trajectories                              \n",
       "0             346380.207     -1.187213e+45\n",
       "1             356984.245      3.843066e+13\n",
       "2             147376.967    -5.033925e+163\n",
       "3             356987.318     8.657599e+256\n",
       "4             356981.082      2.075116e+33\n",
       "5             356985.143     -1.423473e+75\n",
       "6             187982.810     2.968815e+206\n",
       "7             353586.269     8.313292e+277\n",
       "8             356977.816      9.590443e+58\n",
       "9             356982.065     1.368171e+245\n",
       "10            356978.310      2.864503e+26\n",
       "11            356983.207     -2.619641e+78\n",
       "12            356983.926      5.944995e+36\n",
       "13            356990.282     4.171749e+247\n",
       "14            356983.238     -3.835597e+08\n",
       "15            160384.089    -4.658718e+164\n",
       "16            218682.273    -3.032940e+243\n",
       "17            334789.034     3.916055e+221\n",
       "18            300390.867    -6.994458e+250\n",
       "19             95384.892     -1.508877e+76"
      ]
     },
     "execution_count": 162,
     "metadata": {},
     "output_type": "execute_result"
    }
   ],
   "source": [
    "df = pd.DataFrame()\n",
    "df['PNL Delta'] = pnl_covered\n",
    "df['PNL Maximisation'] = pnl_covered__max\n",
    "df = df.rename_axis('Trajectories')\n",
    "df"
   ]
  }
 ],
 "metadata": {
  "kernelspec": {
   "display_name": "Python 3",
   "language": "python",
   "name": "python3"
  },
  "language_info": {
   "codemirror_mode": {
    "name": "ipython",
    "version": 3
   },
   "file_extension": ".py",
   "mimetype": "text/x-python",
   "name": "python",
   "nbconvert_exporter": "python",
   "pygments_lexer": "ipython3",
   "version": "3.8.3"
  }
 },
 "nbformat": 4,
 "nbformat_minor": 4
}
