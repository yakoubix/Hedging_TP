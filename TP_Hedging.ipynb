{
 "cells": [
  {
   "cell_type": "code",
   "execution_count": 27,
   "metadata": {},
   "outputs": [],
   "source": [
    "import numpy as np\n",
    "from scipy.stats import norm\n",
    "from matplotlib import pyplot as plt\n",
    "import pandas as pd"
   ]
  },
  {
   "cell_type": "code",
   "execution_count": 2,
   "metadata": {},
   "outputs": [],
   "source": [
    "spot_init=100\n",
    "int_rate=2/100\n",
    "volatility=15/100\n",
    "maturity=1\n",
    "nb_step=12\n",
    "time_step= maturity/nb_step\n",
    "nb_path=20\n",
    "nb_seed=20191008"
   ]
  },
  {
   "cell_type": "code",
   "execution_count": 3,
   "metadata": {},
   "outputs": [],
   "source": [
    "drift_mod= (int_rate-0.5*volatility**2)*time_step\n",
    "mat_drift= drift_mod*np.cumsum(np.ones((nb_path,nb_step)),axis=1)\n",
    "volat_mod= volatility*np.sqrt(time_step)\n",
    "np.random.seed(nb_seed)\n",
    "mat_shock= np.random.standard_normal((nb_path,nb_step))\n",
    "mat_shock_cum= np.cumsum(mat_shock,axis=1)\n",
    "mat_volatility= volat_mod*mat_shock_cum\n",
    "mat_log_spot= mat_drift+mat_volatility\n",
    "mat_spot_init= spot_init*np.ones((nb_path,nb_step))\n",
    "mat_spot_fut= mat_spot_init*np.exp(mat_log_spot)\n",
    "vec_spot_init= spot_init*np.ones((nb_path,1))\n",
    "mat_path_spot_fut= np.concatenate((vec_spot_init,np.round(mat_spot_fut,3)),axis=1)"
   ]
  },
  {
   "cell_type": "code",
   "execution_count": 4,
   "metadata": {},
   "outputs": [],
   "source": [
    "mat_path_spot_fut;"
   ]
  },
  {
   "cell_type": "code",
   "execution_count": 5,
   "metadata": {},
   "outputs": [],
   "source": [
    "def implied_malz_vol(spot,tt_maturity,strike,int_rate):\n",
    "    alpha_1 = 0.58\n",
    "    alpha_2 = -0.35\n",
    "    #vol = volatility + (alpha_1/np.sqrt(tt_maturity))*np.log(spot*np.exp(int_rate*tt_maturity)/strike) + alpha_2*((1/np.sqrt(tt_maturity))*np.log(spot*np.exp(int_rate*tt_maturity)/strike))**2\n",
    "    malz_vol = volatility + (alpha_1/np.sqrt(tt_maturity))*np.log(spot*np.exp(int_rate*tt_maturity)/strike) + alpha_2*((1/np.sqrt(tt_maturity))*np.log(spot*np.exp(int_rate*tt_maturity)/strike))**2\n",
    "    return max(5/100,malz_vol)"
   ]
  },
  {
   "cell_type": "code",
   "execution_count": 6,
   "metadata": {},
   "outputs": [],
   "source": [
    "def comp_price_call(mat_spot,strike,int_rate):\n",
    "    mat_price_call = np.zeros((nb_path,nb_step+1))\n",
    "    for i in range(nb_path):\n",
    "        for j in range(nb_step+1):\n",
    "            if j == 12:\n",
    "                mat_price_call[i,j] = max(mat_spot[i,j] - strike,0)\n",
    "            else:\n",
    "                discount= np.exp(-int_rate*(nb_step-j)/nb_step)\n",
    "                volatility = implied_malz_vol(mat_spot[i,j],(nb_step-j)/nb_step,strike,int_rate)\n",
    "                volat_mod = volatility*np.sqrt((nb_step-j)/nb_step)\n",
    "                moneyness= np.log(mat_spot[i,j]/strike)\n",
    "                term_vol= (int_rate+0.5*volatility**2)*(nb_step-j)/nb_step\n",
    "                d1=(moneyness+term_vol)/volat_mod\n",
    "                d2=d1-volat_mod\n",
    "                prob_d1=norm.cdf(d1)\n",
    "                prob_d2=norm.cdf(d2)\n",
    "                mat_price_call[i,j] = mat_spot[i,j]*prob_d1-discount*strike*prob_d2\n",
    "    return mat_price_call \n",
    "\n",
    "def comp_delta_call(mat_spot,strike,int_rate):\n",
    "    mat_delta_call = np.zeros((nb_path,nb_step))\n",
    "    for i in range(nb_path):\n",
    "        for j in range(nb_step):\n",
    "            if j == 12 :\n",
    "                if mat_spot[i,j] > strike :\n",
    "                    mat_delta_call[i,j] = 1\n",
    "                else :\n",
    "                    mat_delta_call[i,j] = 0\n",
    "            else : \n",
    "                volatility = implied_malz_vol(mat_spot[i,j],(nb_step-j)/nb_step,strike,int_rate)\n",
    "                volat_mod= volatility*np.sqrt((nb_step-j)/nb_step)\n",
    "                moneyness= np.log(mat_spot[i,j]/strike)\n",
    "                term_vol= (int_rate+0.5*volatility**2)*(nb_step-j)/nb_step\n",
    "                d1=(moneyness+term_vol)/volat_mod\n",
    "                prob_d1=norm.cdf(d1)\n",
    "                mat_delta_call[i,j] =prob_d1\n",
    "    return mat_delta_call"
   ]
  },
  {
   "cell_type": "markdown",
   "metadata": {},
   "source": [
    "## Question 1 & 3"
   ]
  },
  {
   "cell_type": "code",
   "execution_count": 7,
   "metadata": {},
   "outputs": [],
   "source": [
    "mat_call_price = comp_price_call(mat_path_spot_fut,100,int_rate)\n",
    "mat_call_delta = comp_delta_call(mat_path_spot_fut,100,int_rate)"
   ]
  },
  {
   "cell_type": "code",
   "execution_count": 8,
   "metadata": {},
   "outputs": [],
   "source": [
    "mat_call_delta;"
   ]
  },
  {
   "cell_type": "code",
   "execution_count": 9,
   "metadata": {},
   "outputs": [
    {
     "data": {
      "text/plain": [
       "(20, 13)"
      ]
     },
     "execution_count": 9,
     "metadata": {},
     "output_type": "execute_result"
    }
   ],
   "source": [
    "np.shape(mat_call_price)"
   ]
  },
  {
   "cell_type": "code",
   "execution_count": 10,
   "metadata": {},
   "outputs": [],
   "source": [
    "for i in range(nb_path):\n",
    "    for j in range(nb_step+1):\n",
    "        mat_call_price[i,j] = round(mat_call_price[i,j],2)"
   ]
  },
  {
   "cell_type": "code",
   "execution_count": 11,
   "metadata": {},
   "outputs": [],
   "source": [
    "for i in range(nb_path):\n",
    "    for j in range(nb_step):\n",
    "        mat_call_delta[i,j] = round(mat_call_delta[i,j],3)"
   ]
  },
  {
   "cell_type": "code",
   "execution_count": 12,
   "metadata": {},
   "outputs": [],
   "source": [
    "mat_call_delta;"
   ]
  },
  {
   "cell_type": "markdown",
   "metadata": {},
   "source": [
    "## Question 2"
   ]
  },
  {
   "cell_type": "code",
   "execution_count": 13,
   "metadata": {},
   "outputs": [],
   "source": [
    "pnl_non_covered = np.zeros(nb_path)\n",
    "nb_calls = 10000\n",
    "for i in range(nb_path):\n",
    "    if 100 < mat_path_spot_fut[i,-1]:\n",
    "        pnl_non_covered[i] = round(nb_calls*mat_call_price[i,0]*(1-0.2/100) - nb_calls*(mat_path_spot_fut[i,-1] - 100) - nb_calls*mat_path_spot_fut[i,-1]*0.5/100 - nb_calls*100*0.5/100,2)\n",
    "    else:\n",
    "        pnl_non_covered[i] =  round(nb_calls*mat_call_price[i,0]*(1-0.2/100),2)"
   ]
  },
  {
   "cell_type": "code",
   "execution_count": 14,
   "metadata": {},
   "outputs": [
    {
     "data": {
      "text/plain": [
       "array([  53298.8 ,   73951.8 , -146736.4 ,   73951.8 ,   73951.8 ,\n",
       "         73951.8 , -105873.1 ,   60544.85,   73951.8 ,   73951.8 ,\n",
       "         73951.8 ,   73951.8 ,   73951.8 ,   73951.8 ,   73951.8 ,\n",
       "       -133671.4 ,  -75039.7 ,   41610.65,    7078.85, -198956.2 ])"
      ]
     },
     "execution_count": 14,
     "metadata": {},
     "output_type": "execute_result"
    }
   ],
   "source": [
    "pnl_non_covered"
   ]
  },
  {
   "cell_type": "markdown",
   "metadata": {},
   "source": [
    "## Question 4"
   ]
  },
  {
   "cell_type": "code",
   "execution_count": 15,
   "metadata": {},
   "outputs": [],
   "source": [
    "stocks_to_hold = np.zeros((nb_path,nb_step))\n",
    "\n",
    "for i in range(nb_path):\n",
    "    for j in range(nb_step):\n",
    "        '''if j == 0:\n",
    "            stocks_to_hold[i,j] = mat_call_price[i,j]/(mat_call_delta[i,j]*mat_spot_fut[i,j])\n",
    "        else:\n",
    "            stocks_to_hold[i,j] = round((mat_call_price[i,j] - mat_call_price[i,j-1])/(mat_call_delta[i,j]*(mat_spot_fut[i,j]-mat_spot_fut[i,j-1])))'''\n",
    "        stocks_to_hold[i,j] = round(nb_calls*mat_call_delta[i,j])"
   ]
  },
  {
   "cell_type": "code",
   "execution_count": 16,
   "metadata": {
    "scrolled": true
   },
   "outputs": [],
   "source": [
    "stocks_to_hold;"
   ]
  },
  {
   "cell_type": "markdown",
   "metadata": {},
   "source": [
    "## Question 5"
   ]
  },
  {
   "cell_type": "code",
   "execution_count": 17,
   "metadata": {},
   "outputs": [],
   "source": [
    "pnl_covered = np.zeros(nb_path)\n",
    "nb_calls = 10000\n",
    "for i in range(nb_path):\n",
    "    borrowing_init = nb_calls*mat_call_price[i,0]*(1-0.2/100) - stocks_to_hold[i,0]*mat_path_spot_fut[i,0]*(1+0.5/100)\n",
    "    borrowing = borrowing_init\n",
    "    adjustments = stocks_to_hold[i,-1]*(mat_path_spot_fut[i,-1]-mat_path_spot_fut[i,nb_step-1])\n",
    "    for j in range(1,nb_step):\n",
    "        borrowing_bar = nb_calls*(mat_call_price[i,j-1]-mat_call_price[i,j]) + stocks_to_hold[i,j-1]*(mat_path_spot_fut[i,j] - mat_path_spot_fut[i,j-1])+ time_step*int_rate*borrowing_init\n",
    "        borrowing_current = borrowing_bar + (stocks_to_hold[i,j-1]-stocks_to_hold[i,j])*mat_path_spot_fut[i,j]- abs(stocks_to_hold[i,j-1]-stocks_to_hold[i,j])*mat_path_spot_fut[i,j]*0.5/100\n",
    "        borrowing += borrowing_current\n",
    "        borrowing_init = borrowing_current\n",
    "        adjustments += stocks_to_hold[i,j-1]*(mat_path_spot_fut[i,j]-mat_path_spot_fut[i,j-1])\n",
    "    pnl_covered[i] =  round(nb_calls*(mat_call_price[i,0] - mat_call_price[i,-1]) + adjustments + time_step*int_rate*borrowing,2)\n",
    "    if 100 < mat_path_spot_fut[i,-1]:\n",
    "        pnl_covered[i] -= round(nb_calls*100*0.5/100 + (nb_calls-stocks_to_hold[i,-1])*mat_path_spot_fut[i,-1]*(1+0.5/100),2)\n",
    "    else:\n",
    "        pnl_covered[i] -= round(stocks_to_hold[i,-1]*mat_path_spot_fut[i,-1]*0.5/100,2)"
   ]
  },
  {
   "cell_type": "code",
   "execution_count": 18,
   "metadata": {},
   "outputs": [
    {
     "data": {
      "text/plain": [
       "array([-164384.32,   14959.08,  -68651.03,   25803.49,    8580.69,\n",
       "         17022.95, -135528.79, -992356.1 ,  -11031.16,   27570.12,\n",
       "         16258.51,   20006.26,   28095.34,   22864.8 ,   18933.79,\n",
       "        -62144.19, -103566.  , -745658.67, -123944.95, -144557.16])"
      ]
     },
     "execution_count": 18,
     "metadata": {},
     "output_type": "execute_result"
    }
   ],
   "source": [
    "pnl_covered"
   ]
  },
  {
   "cell_type": "code",
   "execution_count": 19,
   "metadata": {},
   "outputs": [
    {
     "data": {
      "text/plain": [
       "Text(0.5, 1.0, 'Covered and non covered strategies pnl')"
      ]
     },
     "execution_count": 19,
     "metadata": {},
     "output_type": "execute_result"
    },
    {
     "data": {
      "image/png": "[encoded data removed]",
      "text/plain": [
       "<Figure size 720x720 with 1 Axes>"
      ]
     },
     "metadata": {
      "needs_background": "light"
     },
     "output_type": "display_data"
    }
   ],
   "source": [
    "plt.figure(figsize=(10,10))\n",
    "ax1 = plt.plot(pnl_covered,label=\"PnL covered\")\n",
    "ax2 = plt.plot(pnl_non_covered,label=\"PnL non covered\")\n",
    "plt.legend(loc=\"upper left\")\n",
    "plt.title(\"Covered and non covered strategies pnl\")"
   ]
  },
  {
   "cell_type": "markdown",
   "metadata": {},
   "source": [
    "## Question 6"
   ]
  },
  {
   "cell_type": "code",
   "execution_count": 70,
   "metadata": {},
   "outputs": [],
   "source": [
    "nb_calls = 10000\n",
    "stocks_to_hold_optim = np.zeros((nb_path,nb_step))\n",
    "exp_call_zero = np.sum(mat_call_price[:,1])/20\n",
    "exp_spot_zero = np.sum(mat_path_spot_fut[:,1])/20\n",
    "\n",
    "for i in range(nb_path):\n",
    "    borrowing_bar_vect = np.zeros((nb_step+1))\n",
    "    \n",
    "    for j in range(1,nb_step+1):\n",
    "        borrowing_bar_candidates = np.zeros((nb_calls))\n",
    "        borrowing_bar_toapp = np.zeros((nb_calls))\n",
    "        borrowing_bar_candidates = [-np.inf for i in range(nb_calls)]\n",
    "        proba = [np.exp(-1*abs(mat_path_spot_fut[l,j]-mat_path_spot_fut[i,j])) for l in range(nb_path)]\n",
    "        proba /= np.sum(proba)\n",
    "        exp_call = np.sum(mat_call_price[:,j]*proba)\n",
    "        exp_spot = np.sum(mat_path_spot_fut[:,j]*proba)\n",
    "        check = 0\n",
    "        for trial in range(1,nb_calls):\n",
    "            if exp_spot - mat_path_spot_fut[i,j-1] == 0:\n",
    "                if j == 1 or j == nb_step:\n",
    "                    check = 1\n",
    "                    pass\n",
    "                else:\n",
    "                    if abs(borrowing_bar_vect[j-1] + (stocks_to_hold_optim[i,j-2] - trial)*mat_path_spot_fut[i,j-1] - abs(stocks_to_hold_optim[i,j-2] - trial)*mat_path_spot_fut[i,j-1]*0.5/100) <= mat_path_spot_fut[i,j-1]*stocks_to_hold_optim[i,j-2]*0.01 :\n",
    "                        check = 1\n",
    "                        pass\n",
    "                    else:\n",
    "                        continue\n",
    "            else : \n",
    "                if j == 1 or j == nb_step:\n",
    "                    check = 1\n",
    "                    pass\n",
    "                else:\n",
    "                    if np.abs(time_step*int_rate*borrowing_bar_vect[j-1] - nb_calls*(exp_call-mat_call_price[i,j-1]) + trial*(exp_spot-mat_path_spot_fut[i,j-1])) <= nb_calls*mat_call_price[i,j-1]*0.01 :\n",
    "                        check = 1\n",
    "                        pass\n",
    "                    else:\n",
    "                        continue\n",
    "            if j == 1:\n",
    "                borrowing_bar_candidates[trial] = nb_calls*(mat_call_price[i,j-1]-exp_call_zero) + trial*(exp_spot_zero- mat_path_spot_fut[i,j-1])+ time_step*int_rate*(nb_calls*mat_call_price[i,j-1]*(1-0.2/100)-trial*mat_path_spot_fut[i,j-1]*(1+0.5/100))\n",
    "                borrowing_bar_toapp[trial] = nb_calls*(mat_call_price[i,j-1]-mat_call_price[i,j]) + trial*(mat_path_spot_fut[i,j]- mat_path_spot_fut[i,j-1])+ time_step*int_rate*(nb_calls*mat_call_price[i,j-1]*(1-0.2/100)-trial*mat_path_spot_fut[i,j-1]*(1+0.5/100))\n",
    "\n",
    "            elif j == nb_step:\n",
    "                term1_exec = np.sum([trial*mat_path_spot_fut[o,j]*proba[o]*0.5/100 if mat_path_spot_fut[o,j] < 100 else 0 for o in range(nb_path)])\n",
    "                term2_exec = np.sum([(nb_calls*100*0.5/100 + (nb_calls-trial)*(1+0.5/100)*mat_path_spot_fut[a,j])*proba[a] if mat_path_spot_fut[a,j] > 100 else 0 for a in range(nb_path)])\n",
    "                borrowing_bar_candidates[trial] = nb_calls*(mat_call_price[i,j-1]-exp_call) + trial*(exp_spot- mat_path_spot_fut[i,j-1])+ time_step*int_rate*(borrowing_bar_vect[j-1]+(stocks_to_hold_optim[i,j-2]-trial)*mat_path_spot_fut[i,j-1]-abs(stocks_to_hold_optim[i,j-2]-trial)*mat_path_spot_fut[i,j-1]*0.5/100) - term1_exec - term2_exec\n",
    "                if mat_path_spot_fut[i,j] < 100 : \n",
    "                    borrowing_bar_toapp[trial] = nb_calls*(mat_call_price[i,j-1]-mat_call_price[i,j]) + trial*(mat_path_spot_fut[i,j]- mat_path_spot_fut[i,j-1])+ time_step*int_rate*(borrowing_bar_vect[j-1]+(stocks_to_hold_optim[i,j-2]-trial)*mat_path_spot_fut[i,j-1]-abs(stocks_to_hold_optim[i,j-2]-trial)*mat_path_spot_fut[i,j-1]*0.5/100) - trial*mat_path_spot_fut[i,j] \n",
    "                else :\n",
    "                    borrowing_bar_toapp[trial] = nb_calls*(mat_call_price[i,j-1]-mat_call_price[i,j]) + trial*(mat_path_spot_fut[i,j]- mat_path_spot_fut[i,j-1])+ time_step*int_rate*(borrowing_bar_vect[j-1]+(stocks_to_hold_optim[i,j-2]-trial)*mat_path_spot_fut[i,j-1]-abs(stocks_to_hold_optim[i,j-2]-trial)*mat_path_spot_fut[i,j-1]*0.5/100) - (nb_calls*100 + (nb_calls-trial)*mat_path_spot_fut[i,j]*(1+0.5/100))\n",
    "\n",
    "            else :\n",
    "                borrowing_bar_candidates[trial] = nb_calls*(mat_call_price[i,j-1]-exp_call) + trial*(exp_spot- mat_path_spot_fut[i,j-1])+ time_step*int_rate*(borrowing_bar_vect[j-1]+(stocks_to_hold_optim[i,j-2]-trial)*mat_path_spot_fut[i,j-1]-abs(stocks_to_hold_optim[i,j-2]-trial)*mat_path_spot_fut[i,j-1]*0.5/100)\n",
    "                borrowing_bar_toapp[trial] = nb_calls*(mat_call_price[i,j-1]-mat_call_price[i,j]) + trial*(mat_path_spot_fut[i,j]- mat_path_spot_fut[i,j-1])+ time_step*int_rate*(borrowing_bar_vect[j-1]+(stocks_to_hold_optim[i,j-2]-trial)*mat_path_spot_fut[i,j-1]-abs(stocks_to_hold_optim[i,j-2]-trial)*mat_path_spot_fut[i,j-1]*0.5/100)\n",
    "        if check == 1:\n",
    "            stocks_to_hold_optim[i,j-1] = np.argmax(borrowing_bar_candidates)\n",
    "            borrowing_bar_vect[j] = borrowing_bar_toapp[np.argmax(borrowing_bar_candidates)]\n",
    "        else:\n",
    "            stocks_to_hold_optim[i,j-1] = 1\n",
    "            borrowing_bar_vect[j] = nb_calls*(mat_call_price[i,j-1]-mat_call_price[i,j]) + (mat_path_spot_fut[i,j]- mat_path_spot_fut[i,j-1])+ time_step*int_rate*(borrowing_bar_vect[j-1]+(stocks_to_hold_optim[i,j-2]-1)*mat_path_spot_fut[i,j-1]-abs(stocks_to_hold_optim[i,j-2]-1)*mat_path_spot_fut[i,j-1]*0.5/100)"
   ]
  },
  {
   "cell_type": "code",
   "execution_count": 71,
   "metadata": {},
   "outputs": [
    {
     "data": {
      "text/html": [
       "<div>\n",
       "<style scoped>\n",
       "    .dataframe tbody tr th:only-of-type {\n",
       "        vertical-align: middle;\n",
       "    }\n",
       "\n",
       "    .dataframe tbody tr th {\n",
       "        vertical-align: top;\n",
       "    }\n",
       "\n",
       "    .dataframe thead th {\n",
       "        text-align: right;\n",
       "    }\n",
       "</style>\n",
       "<table border=\"1\" class=\"dataframe\">\n",
       "  <thead>\n",
       "    <tr style=\"text-align: right;\">\n",
       "      <th></th>\n",
       "      <th>0</th>\n",
       "      <th>1</th>\n",
       "      <th>2</th>\n",
       "      <th>3</th>\n",
       "      <th>4</th>\n",
       "      <th>5</th>\n",
       "      <th>6</th>\n",
       "      <th>7</th>\n",
       "      <th>8</th>\n",
       "      <th>9</th>\n",
       "      <th>10</th>\n",
       "      <th>11</th>\n",
       "    </tr>\n",
       "  </thead>\n",
       "  <tbody>\n",
       "    <tr>\n",
       "      <th>0</th>\n",
       "      <td>1.0</td>\n",
       "      <td>8535.0</td>\n",
       "      <td>7531.0</td>\n",
       "      <td>3007.0</td>\n",
       "      <td>6362.0</td>\n",
       "      <td>1.0</td>\n",
       "      <td>7594.0</td>\n",
       "      <td>8730.0</td>\n",
       "      <td>8280.0</td>\n",
       "      <td>9794.0</td>\n",
       "      <td>1.0</td>\n",
       "      <td>9999.0</td>\n",
       "    </tr>\n",
       "    <tr>\n",
       "      <th>1</th>\n",
       "      <td>1.0</td>\n",
       "      <td>9793.0</td>\n",
       "      <td>8371.0</td>\n",
       "      <td>4180.0</td>\n",
       "      <td>365.0</td>\n",
       "      <td>1.0</td>\n",
       "      <td>1.0</td>\n",
       "      <td>1.0</td>\n",
       "      <td>1.0</td>\n",
       "      <td>1.0</td>\n",
       "      <td>1.0</td>\n",
       "      <td>9999.0</td>\n",
       "    </tr>\n",
       "    <tr>\n",
       "      <th>2</th>\n",
       "      <td>1.0</td>\n",
       "      <td>1.0</td>\n",
       "      <td>5819.0</td>\n",
       "      <td>8321.0</td>\n",
       "      <td>4747.0</td>\n",
       "      <td>3816.0</td>\n",
       "      <td>5445.0</td>\n",
       "      <td>6963.0</td>\n",
       "      <td>8111.0</td>\n",
       "      <td>8664.0</td>\n",
       "      <td>8925.0</td>\n",
       "      <td>9999.0</td>\n",
       "    </tr>\n",
       "    <tr>\n",
       "      <th>3</th>\n",
       "      <td>1.0</td>\n",
       "      <td>5908.0</td>\n",
       "      <td>1.0</td>\n",
       "      <td>6196.0</td>\n",
       "      <td>1.0</td>\n",
       "      <td>8702.0</td>\n",
       "      <td>3101.0</td>\n",
       "      <td>9334.0</td>\n",
       "      <td>3185.0</td>\n",
       "      <td>1.0</td>\n",
       "      <td>1.0</td>\n",
       "      <td>9999.0</td>\n",
       "    </tr>\n",
       "    <tr>\n",
       "      <th>4</th>\n",
       "      <td>1.0</td>\n",
       "      <td>4893.0</td>\n",
       "      <td>282.0</td>\n",
       "      <td>1.0</td>\n",
       "      <td>1.0</td>\n",
       "      <td>1.0</td>\n",
       "      <td>1.0</td>\n",
       "      <td>1.0</td>\n",
       "      <td>1.0</td>\n",
       "      <td>1.0</td>\n",
       "      <td>1.0</td>\n",
       "      <td>9999.0</td>\n",
       "    </tr>\n",
       "    <tr>\n",
       "      <th>5</th>\n",
       "      <td>1.0</td>\n",
       "      <td>1.0</td>\n",
       "      <td>7936.0</td>\n",
       "      <td>9886.0</td>\n",
       "      <td>2422.0</td>\n",
       "      <td>1.0</td>\n",
       "      <td>1.0</td>\n",
       "      <td>1.0</td>\n",
       "      <td>1.0</td>\n",
       "      <td>1.0</td>\n",
       "      <td>1.0</td>\n",
       "      <td>9999.0</td>\n",
       "    </tr>\n",
       "    <tr>\n",
       "      <th>6</th>\n",
       "      <td>1.0</td>\n",
       "      <td>1.0</td>\n",
       "      <td>8035.0</td>\n",
       "      <td>1609.0</td>\n",
       "      <td>7980.0</td>\n",
       "      <td>7001.0</td>\n",
       "      <td>5847.0</td>\n",
       "      <td>8708.0</td>\n",
       "      <td>1.0</td>\n",
       "      <td>1.0</td>\n",
       "      <td>7734.0</td>\n",
       "      <td>9999.0</td>\n",
       "    </tr>\n",
       "    <tr>\n",
       "      <th>7</th>\n",
       "      <td>1.0</td>\n",
       "      <td>1.0</td>\n",
       "      <td>7112.0</td>\n",
       "      <td>6749.0</td>\n",
       "      <td>9506.0</td>\n",
       "      <td>1.0</td>\n",
       "      <td>7189.0</td>\n",
       "      <td>3446.0</td>\n",
       "      <td>5796.0</td>\n",
       "      <td>9095.0</td>\n",
       "      <td>3434.0</td>\n",
       "      <td>9999.0</td>\n",
       "    </tr>\n",
       "    <tr>\n",
       "      <th>8</th>\n",
       "      <td>1.0</td>\n",
       "      <td>5650.0</td>\n",
       "      <td>1.0</td>\n",
       "      <td>7236.0</td>\n",
       "      <td>5481.0</td>\n",
       "      <td>6125.0</td>\n",
       "      <td>1.0</td>\n",
       "      <td>7776.0</td>\n",
       "      <td>1841.0</td>\n",
       "      <td>1.0</td>\n",
       "      <td>1.0</td>\n",
       "      <td>1.0</td>\n",
       "    </tr>\n",
       "    <tr>\n",
       "      <th>9</th>\n",
       "      <td>1.0</td>\n",
       "      <td>7854.0</td>\n",
       "      <td>7881.0</td>\n",
       "      <td>9611.0</td>\n",
       "      <td>8696.0</td>\n",
       "      <td>8901.0</td>\n",
       "      <td>1.0</td>\n",
       "      <td>9702.0</td>\n",
       "      <td>7062.0</td>\n",
       "      <td>1.0</td>\n",
       "      <td>1.0</td>\n",
       "      <td>9999.0</td>\n",
       "    </tr>\n",
       "    <tr>\n",
       "      <th>10</th>\n",
       "      <td>1.0</td>\n",
       "      <td>6866.0</td>\n",
       "      <td>6205.0</td>\n",
       "      <td>2874.0</td>\n",
       "      <td>1575.0</td>\n",
       "      <td>3220.0</td>\n",
       "      <td>2276.0</td>\n",
       "      <td>1.0</td>\n",
       "      <td>1.0</td>\n",
       "      <td>1.0</td>\n",
       "      <td>1.0</td>\n",
       "      <td>1.0</td>\n",
       "    </tr>\n",
       "    <tr>\n",
       "      <th>11</th>\n",
       "      <td>1.0</td>\n",
       "      <td>9035.0</td>\n",
       "      <td>9339.0</td>\n",
       "      <td>4330.0</td>\n",
       "      <td>121.0</td>\n",
       "      <td>1.0</td>\n",
       "      <td>1.0</td>\n",
       "      <td>1.0</td>\n",
       "      <td>1.0</td>\n",
       "      <td>1.0</td>\n",
       "      <td>1.0</td>\n",
       "      <td>9999.0</td>\n",
       "    </tr>\n",
       "    <tr>\n",
       "      <th>12</th>\n",
       "      <td>1.0</td>\n",
       "      <td>8946.0</td>\n",
       "      <td>8837.0</td>\n",
       "      <td>7049.0</td>\n",
       "      <td>5582.0</td>\n",
       "      <td>3182.0</td>\n",
       "      <td>1.0</td>\n",
       "      <td>4558.0</td>\n",
       "      <td>8417.0</td>\n",
       "      <td>2533.0</td>\n",
       "      <td>1.0</td>\n",
       "      <td>1.0</td>\n",
       "    </tr>\n",
       "    <tr>\n",
       "      <th>13</th>\n",
       "      <td>1.0</td>\n",
       "      <td>7116.0</td>\n",
       "      <td>1.0</td>\n",
       "      <td>8483.0</td>\n",
       "      <td>9086.0</td>\n",
       "      <td>9486.0</td>\n",
       "      <td>1.0</td>\n",
       "      <td>6871.0</td>\n",
       "      <td>1054.0</td>\n",
       "      <td>1.0</td>\n",
       "      <td>1.0</td>\n",
       "      <td>9999.0</td>\n",
       "    </tr>\n",
       "    <tr>\n",
       "      <th>14</th>\n",
       "      <td>1.0</td>\n",
       "      <td>6828.0</td>\n",
       "      <td>1.0</td>\n",
       "      <td>1926.0</td>\n",
       "      <td>25.0</td>\n",
       "      <td>1.0</td>\n",
       "      <td>1.0</td>\n",
       "      <td>1.0</td>\n",
       "      <td>1.0</td>\n",
       "      <td>1.0</td>\n",
       "      <td>1.0</td>\n",
       "      <td>1.0</td>\n",
       "    </tr>\n",
       "    <tr>\n",
       "      <th>15</th>\n",
       "      <td>1.0</td>\n",
       "      <td>7566.0</td>\n",
       "      <td>4492.0</td>\n",
       "      <td>7877.0</td>\n",
       "      <td>6199.0</td>\n",
       "      <td>6859.0</td>\n",
       "      <td>7022.0</td>\n",
       "      <td>7767.0</td>\n",
       "      <td>8900.0</td>\n",
       "      <td>1.0</td>\n",
       "      <td>7092.0</td>\n",
       "      <td>9999.0</td>\n",
       "    </tr>\n",
       "    <tr>\n",
       "      <th>16</th>\n",
       "      <td>1.0</td>\n",
       "      <td>7568.0</td>\n",
       "      <td>8050.0</td>\n",
       "      <td>8830.0</td>\n",
       "      <td>1.0</td>\n",
       "      <td>1.0</td>\n",
       "      <td>1.0</td>\n",
       "      <td>8540.0</td>\n",
       "      <td>1.0</td>\n",
       "      <td>1.0</td>\n",
       "      <td>7634.0</td>\n",
       "      <td>9999.0</td>\n",
       "    </tr>\n",
       "    <tr>\n",
       "      <th>17</th>\n",
       "      <td>1.0</td>\n",
       "      <td>9765.0</td>\n",
       "      <td>8635.0</td>\n",
       "      <td>6414.0</td>\n",
       "      <td>1990.0</td>\n",
       "      <td>1496.0</td>\n",
       "      <td>3257.0</td>\n",
       "      <td>1.0</td>\n",
       "      <td>7438.0</td>\n",
       "      <td>1462.0</td>\n",
       "      <td>624.0</td>\n",
       "      <td>9999.0</td>\n",
       "    </tr>\n",
       "    <tr>\n",
       "      <th>18</th>\n",
       "      <td>1.0</td>\n",
       "      <td>6202.0</td>\n",
       "      <td>9980.0</td>\n",
       "      <td>9281.0</td>\n",
       "      <td>1.0</td>\n",
       "      <td>7977.0</td>\n",
       "      <td>8857.0</td>\n",
       "      <td>5725.0</td>\n",
       "      <td>1.0</td>\n",
       "      <td>7525.0</td>\n",
       "      <td>7513.0</td>\n",
       "      <td>9999.0</td>\n",
       "    </tr>\n",
       "    <tr>\n",
       "      <th>19</th>\n",
       "      <td>1.0</td>\n",
       "      <td>6698.0</td>\n",
       "      <td>1.0</td>\n",
       "      <td>7729.0</td>\n",
       "      <td>3941.0</td>\n",
       "      <td>332.0</td>\n",
       "      <td>1.0</td>\n",
       "      <td>1.0</td>\n",
       "      <td>6514.0</td>\n",
       "      <td>7303.0</td>\n",
       "      <td>8395.0</td>\n",
       "      <td>9999.0</td>\n",
       "    </tr>\n",
       "  </tbody>\n",
       "</table>\n",
       "</div>"
      ],
      "text/plain": [
       "      0       1       2       3       4       5       6       7       8  \\\n",
       "0   1.0  8535.0  7531.0  3007.0  6362.0     1.0  7594.0  8730.0  8280.0   \n",
       "1   1.0  9793.0  8371.0  4180.0   365.0     1.0     1.0     1.0     1.0   \n",
       "2   1.0     1.0  5819.0  8321.0  4747.0  3816.0  5445.0  6963.0  8111.0   \n",
       "3   1.0  5908.0     1.0  6196.0     1.0  8702.0  3101.0  9334.0  3185.0   \n",
       "4   1.0  4893.0   282.0     1.0     1.0     1.0     1.0     1.0     1.0   \n",
       "5   1.0     1.0  7936.0  9886.0  2422.0     1.0     1.0     1.0     1.0   \n",
       "6   1.0     1.0  8035.0  1609.0  7980.0  7001.0  5847.0  8708.0     1.0   \n",
       "7   1.0     1.0  7112.0  6749.0  9506.0     1.0  7189.0  3446.0  5796.0   \n",
       "8   1.0  5650.0     1.0  7236.0  5481.0  6125.0     1.0  7776.0  1841.0   \n",
       "9   1.0  7854.0  7881.0  9611.0  8696.0  8901.0     1.0  9702.0  7062.0   \n",
       "10  1.0  6866.0  6205.0  2874.0  1575.0  3220.0  2276.0     1.0     1.0   \n",
       "11  1.0  9035.0  9339.0  4330.0   121.0     1.0     1.0     1.0     1.0   \n",
       "12  1.0  8946.0  8837.0  7049.0  5582.0  3182.0     1.0  4558.0  8417.0   \n",
       "13  1.0  7116.0     1.0  8483.0  9086.0  9486.0     1.0  6871.0  1054.0   \n",
       "14  1.0  6828.0     1.0  1926.0    25.0     1.0     1.0     1.0     1.0   \n",
       "15  1.0  7566.0  4492.0  7877.0  6199.0  6859.0  7022.0  7767.0  8900.0   \n",
       "16  1.0  7568.0  8050.0  8830.0     1.0     1.0     1.0  8540.0     1.0   \n",
       "17  1.0  9765.0  8635.0  6414.0  1990.0  1496.0  3257.0     1.0  7438.0   \n",
       "18  1.0  6202.0  9980.0  9281.0     1.0  7977.0  8857.0  5725.0     1.0   \n",
       "19  1.0  6698.0     1.0  7729.0  3941.0   332.0     1.0     1.0  6514.0   \n",
       "\n",
       "         9      10      11  \n",
       "0   9794.0     1.0  9999.0  \n",
       "1      1.0     1.0  9999.0  \n",
       "2   8664.0  8925.0  9999.0  \n",
       "3      1.0     1.0  9999.0  \n",
       "4      1.0     1.0  9999.0  \n",
       "5      1.0     1.0  9999.0  \n",
       "6      1.0  7734.0  9999.0  \n",
       "7   9095.0  3434.0  9999.0  \n",
       "8      1.0     1.0     1.0  \n",
       "9      1.0     1.0  9999.0  \n",
       "10     1.0     1.0     1.0  \n",
       "11     1.0     1.0  9999.0  \n",
       "12  2533.0     1.0     1.0  \n",
       "13     1.0     1.0  9999.0  \n",
       "14     1.0     1.0     1.0  \n",
       "15     1.0  7092.0  9999.0  \n",
       "16     1.0  7634.0  9999.0  \n",
       "17  1462.0   624.0  9999.0  \n",
       "18  7525.0  7513.0  9999.0  \n",
       "19  7303.0  8395.0  9999.0  "
      ]
     },
     "execution_count": 71,
     "metadata": {},
     "output_type": "execute_result"
    }
   ],
   "source": [
    "pd.DataFrame(stocks_to_hold_optim)"
   ]
  },
  {
   "cell_type": "code",
   "execution_count": 72,
   "metadata": {},
   "outputs": [],
   "source": [
    "pnl_covered_optim = np.zeros(nb_path)\n",
    "nb_calls = 10000\n",
    "for i in range(nb_path):\n",
    "    borrowing_init = nb_calls*mat_call_price[i,0]*(1-0.2/100) - stocks_to_hold_optim[i,0]*mat_path_spot_fut[i,0]*(1+0.5/100)\n",
    "    borrowing = borrowing_init\n",
    "    adjustments = stocks_to_hold_optim[i,-1]*(mat_path_spot_fut[i,-1]-mat_path_spot_fut[i,nb_step-1])\n",
    "    for j in range(1,nb_step):\n",
    "        borrowing_bar = nb_calls*(mat_call_price[i,j-1]-mat_call_price[i,j]) + stocks_to_hold_optim[i,j-1]*(mat_path_spot_fut[i,j] - mat_path_spot_fut[i,j-1])+ time_step*int_rate*borrowing_init\n",
    "        borrowing_current = borrowing_bar + (stocks_to_hold_optim[i,j-1]-stocks_to_hold_optim[i,j])*mat_path_spot_fut[i,j]- abs(stocks_to_hold_optim[i,j-1]-stocks_to_hold_optim[i,j])*mat_path_spot_fut[i,j]*0.5/100\n",
    "        borrowing += borrowing_current\n",
    "        borrowing_init = borrowing_current\n",
    "        adjustments += stocks_to_hold_optim[i,j-1]*(mat_path_spot_fut[i,j]-mat_path_spot_fut[i,j-1])\n",
    "    pnl_covered_optim[i] =  round(nb_calls*(mat_call_price[i,0] - mat_call_price[i,-1]) + adjustments + time_step*int_rate*borrowing,2)\n",
    "    if 100 < mat_path_spot_fut[i,-1]:\n",
    "        pnl_covered_optim[i] -= round(nb_calls*100*0.5/100 + (nb_calls-stocks_to_hold_optim[i,-1])*mat_path_spot_fut[i,-1]*(1+0.5/100),2)\n",
    "    else:\n",
    "        pnl_covered_optim[i] -= round(stocks_to_hold_optim[i,-1]*mat_path_spot_fut[i,-1]*0.5/100,2)"
   ]
  },
  {
   "cell_type": "code",
   "execution_count": 73,
   "metadata": {},
   "outputs": [
    {
     "data": {
      "text/plain": [
       "Text(0.5, 1.0, 'Covered and non covered strategies pnl')"
      ]
     },
     "execution_count": 73,
     "metadata": {},
     "output_type": "execute_result"
    },
    {
     "data": {
      "image/png": "[encoded data removed]",
      "text/plain": [
       "<Figure size 720x720 with 1 Axes>"
      ]
     },
     "metadata": {
      "needs_background": "light"
     },
     "output_type": "display_data"
    }
   ],
   "source": [
    "plt.figure(figsize=(10,10))\n",
    "ax1 = plt.plot(pnl_covered,label=\"PnL covered\")\n",
    "ax2 = plt.plot(pnl_covered_optim,label=\"Pnl covered optimal\")\n",
    "ax3 = plt.plot(pnl_non_covered,label=\"PnL non covered\")\n",
    "plt.legend(loc=\"upper left\")\n",
    "plt.title(\"Covered and non covered strategies pnl\")"
   ]
  },
  {
   "cell_type": "code",
   "execution_count": null,
   "metadata": {},
   "outputs": [],
   "source": []
  }
 ],
 "metadata": {
  "kernelspec": {
   "display_name": "Python 3",
   "language": "python",
   "name": "python3"
  },
  "language_info": {
   "codemirror_mode": {
    "name": "ipython",
    "version": 3
   },
   "file_extension": ".py",
   "mimetype": "text/x-python",
   "name": "python",
   "nbconvert_exporter": "python",
   "pygments_lexer": "ipython3",
   "version": "3.8.3"
  },
  "latex_envs": {
   "LaTeX_envs_menu_present": true,
   "autoclose": false,
   "autocomplete": true,
   "bibliofile": "biblio.bib",
   "cite_by": "apalike",
   "current_citInitial": 1,
   "eqLabelWithNumbers": true,
   "eqNumInitial": 1,
   "hotkeys": {
    "equation": "Ctrl-E",
    "itemize": "Ctrl-I"
   },
   "labels_anchors": false,
   "latex_user_defs": false,
   "report_style_numbering": false,
   "user_envs_cfg": false
  },
  "varInspector": {
   "cols": {
    "lenName": 16,
    "lenType": 16,
    "lenVar": 40
   },
   "kernels_config": {
    "python": {
     "delete_cmd_postfix": "",
     "delete_cmd_prefix": "del ",
     "library": "var_list.py",
     "varRefreshCmd": "print(var_dic_list())"
    },
    "r": {
     "delete_cmd_postfix": ") ",
     "delete_cmd_prefix": "rm(",
     "library": "var_list.r",
     "varRefreshCmd": "cat(var_dic_list()) "
    }
   },
   "types_to_exclude": [
    "module",
    "function",
    "builtin_function_or_method",
    "instance",
    "_Feature"
   ],
   "window_display": false
  }
 },
 "nbformat": 4,
 "nbformat_minor": 4
}
