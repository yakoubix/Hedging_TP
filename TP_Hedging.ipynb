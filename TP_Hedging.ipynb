{
 "cells": [
  {
   "cell_type": "code",
   "execution_count": 1,
   "metadata": {},
   "outputs": [],
   "source": [
    "import numpy as np\n",
    "from scipy.stats import norm\n",
    "from matplotlib import pyplot as plt"
   ]
  },
  {
   "cell_type": "code",
   "execution_count": 2,
   "metadata": {},
   "outputs": [],
   "source": [
    "spot_init=100\n",
    "int_rate=2/100\n",
    "volatility=15/100\n",
    "maturity=1\n",
    "nb_step=12\n",
    "time_step= maturity/nb_step\n",
    "nb_path=20f\n",
    "\n",
    "nb_seed=20191008"
   ]
  },
  {
   "cell_type": "code",
   "execution_count": 3,
   "metadata": {},
   "outputs": [],
   "source": [
    "drift_mod= (int_rate-0.5*volatility**2)*time_step\n",
    "mat_drift= drift_mod*np.cumsum(np.ones((nb_path,nb_step)),axis=1)\n",
    "volat_mod= volatility*np.sqrt(time_step)\n",
    "np.random.seed(nb_seed)\n",
    "mat_shock= np.random.standard_normal((nb_path,nb_step))\n",
    "mat_shock_cum= np.cumsum(mat_shock,axis=1)\n",
    "mat_volatility= volat_mod*mat_shock_cum\n",
    "mat_log_spot= mat_drift+mat_volatility\n",
    "mat_spot_init= spot_init*np.ones((nb_path,nb_step))\n",
    "mat_spot_fut= mat_spot_init*np.exp(mat_log_spot)\n",
    "vec_spot_init= spot_init*np.ones((nb_path,1))\n",
    "mat_path_spot_fut= np.concatenate((vec_spot_init,np.round(mat_spot_fut,3)),axis=1)"
   ]
  },
  {
   "cell_type": "code",
   "execution_count": 4,
   "metadata": {},
   "outputs": [
    {
     "data": {
      "text/plain": [
       "array([[-3.92910799e-02, -5.48157371e-02, -7.50614585e-02,\n",
       "        -6.12270133e-02, -1.57732731e-03, -1.66171539e-02,\n",
       "         5.00588610e-02,  1.33090385e-01,  1.56536348e-01,\n",
       "         7.65473844e-02,  5.74231685e-02,  1.79151886e-03],\n",
       "       [ 1.82234231e-03, -1.30927062e-02, -3.86594593e-02,\n",
       "        -1.33741149e-01, -1.30667140e-01, -2.25105083e-01,\n",
       "        -2.33041364e-01, -3.22422568e-01, -3.57208148e-01,\n",
       "        -3.48475738e-01, -3.84047445e-01, -3.32611895e-01],\n",
       "       [-7.35450236e-02, -7.18789057e-02, -2.00105501e-02,\n",
       "        -3.90794091e-02, -1.07101381e-01, -3.89220421e-02,\n",
       "        -1.03787900e-02,  3.03016966e-02,  7.92186333e-02,\n",
       "         1.34546095e-01,  1.88908754e-01,  1.81571837e-01],\n",
       "       [ 3.20065446e-02,  4.37835288e-02,  2.75363735e-02,\n",
       "         3.74405621e-02,  3.89906163e-02, -2.19773146e-02,\n",
       "        -1.29939111e-02, -2.92471340e-02, -1.03338056e-01,\n",
       "        -1.36609303e-01, -8.74922862e-02, -2.18595149e-02],\n",
       "       [-3.02441963e-02, -1.35861324e-01, -1.63401937e-01,\n",
       "        -1.73820134e-01, -1.58247420e-01, -2.28362072e-01,\n",
       "        -1.65973579e-01, -2.01055478e-01, -1.68784118e-01,\n",
       "        -1.64733051e-01, -1.74661382e-01, -1.18441735e-01],\n",
       "       [ 1.07398000e-02, -8.94630231e-04, -5.47568963e-02,\n",
       "        -6.31457265e-02, -1.47314736e-01, -1.28616333e-01,\n",
       "        -1.43430670e-01, -1.54722383e-01, -1.61671057e-01,\n",
       "        -1.57253799e-01, -1.30497685e-01, -5.87417651e-02],\n",
       "       [-1.25957870e-02, -1.32385153e-02, -5.32173005e-02,\n",
       "        -4.17283342e-02, -5.49330674e-02,  3.57635320e-02,\n",
       "         4.86229733e-02,  1.28097645e-01,  9.89358521e-02,\n",
       "         6.28095245e-02,  9.65237563e-02,  1.47383802e-01],\n",
       "       [ 2.18081519e-02,  1.06108914e-02,  3.60441692e-02,\n",
       "         5.36450256e-02,  2.24898208e-02,  8.05446492e-03,\n",
       "        -6.81864048e-02, -4.04621747e-02, -6.70791027e-04,\n",
       "        -2.60088768e-02, -6.90508917e-02, -5.36887823e-03],\n",
       "       [-6.44561977e-02, -3.47169924e-02, -4.41611241e-02,\n",
       "        -7.18907303e-02, -8.69364665e-02,  1.95542573e-02,\n",
       "         1.10346397e-02, -5.09844944e-02, -1.15151331e-01,\n",
       "        -9.45104733e-02, -6.07543709e-02, -1.09008679e-01],\n",
       "       [-2.01665374e-02,  5.78704536e-02,  8.68554072e-02,\n",
       "         5.12267181e-02,  1.26622116e-01,  1.73699184e-01,\n",
       "         1.46554871e-01,  8.13970344e-02,  9.78352618e-02,\n",
       "         6.90047867e-02,  6.16322027e-02, -1.54566919e-02],\n",
       "       [-5.92015060e-02, -8.42676524e-02, -9.77636232e-02,\n",
       "        -1.12650563e-01, -8.95926134e-02, -5.93720761e-02,\n",
       "        -1.20012745e-01, -2.19454461e-01, -1.61605751e-01,\n",
       "        -2.17915734e-01, -2.50826051e-01, -2.51413424e-01],\n",
       "       [-8.58766929e-03, -3.12218424e-02, -4.57355875e-02,\n",
       "        -1.20923997e-01, -1.94077124e-01, -2.39935914e-01,\n",
       "        -2.48244276e-01, -2.82244606e-01, -2.12609005e-01,\n",
       "        -2.85683060e-01, -2.02565143e-01, -1.52699873e-01],\n",
       "       [-1.36528886e-03, -2.61013462e-02, -4.34509647e-02,\n",
       "        -7.44482974e-02, -8.67191008e-02, -6.13100129e-02,\n",
       "        -6.59248226e-02, -2.06696188e-02, -4.14492838e-02,\n",
       "        -8.35527273e-02, -1.48503619e-01, -1.44593513e-01],\n",
       "       [ 6.02888265e-02,  7.54978145e-02,  6.49853727e-02,\n",
       "         1.11859923e-01,  1.50207362e-02, -8.57952045e-03,\n",
       "        -1.11509552e-02, -6.93176334e-02, -1.02175342e-01,\n",
       "        -3.86915505e-02, -3.20565736e-02, -3.66507691e-02],\n",
       "       [-8.27858547e-03, -9.33073595e-02, -1.00565677e-01,\n",
       "        -1.33890705e-01, -1.79384923e-01, -1.91272499e-01,\n",
       "        -2.14200370e-01, -1.80806976e-01, -1.97376747e-01,\n",
       "        -1.78162690e-01, -2.24659616e-01, -2.46457465e-01],\n",
       "       [ 2.65134002e-04, -6.36437297e-02, -4.50861679e-02,\n",
       "        -6.37191075e-02, -9.34955868e-03,  2.42903508e-02,\n",
       "         4.73043897e-02,  7.77314318e-02,  1.59978638e-01,\n",
       "         1.45621409e-01,  1.59741623e-01,  1.70768048e-01],\n",
       "       [-1.80520181e-02,  3.78306506e-02,  7.69035730e-02,\n",
       "         1.47629425e-01,  1.39393381e-01,  1.28433997e-01,\n",
       "         1.09293421e-01,  1.48378467e-01,  1.19958363e-01,\n",
       "         7.20214495e-02,  1.04409710e-01,  1.20788663e-01],\n",
       "       [ 4.84809705e-02,  2.74321831e-02, -1.44566520e-02,\n",
       "        -9.09663830e-02, -1.25654301e-01, -8.19661791e-02,\n",
       "        -5.11237346e-02, -5.65804044e-02, -6.43315830e-02,\n",
       "        -4.81736327e-02, -2.97304771e-02,  1.32359085e-02],\n",
       "       [ 6.57750349e-02,  7.62227192e-02,  5.39035892e-02,\n",
       "         1.23284137e-02,  1.01436736e-02,  6.79952038e-02,\n",
       "        -1.80205828e-02,  6.15296628e-03,  3.57553072e-03,\n",
       "         4.81077264e-02,  8.15462160e-02,  4.62957634e-02],\n",
       "       [ 8.24666591e-03,  2.50071443e-02,  1.91456898e-02,\n",
       "        -5.52308879e-02, -1.13763496e-01, -1.35675041e-01,\n",
       "        -1.56035874e-01, -4.23852298e-02,  2.32759167e-02,\n",
       "         5.41395175e-02,  1.16752488e-01,  2.23630382e-01]])"
      ]
     },
     "execution_count": 4,
     "metadata": {},
     "output_type": "execute_result"
    }
   ],
   "source": [
    "mat_volatility"
   ]
  },
  {
   "cell_type": "code",
   "execution_count": 4,
   "metadata": {},
   "outputs": [
    {
     "data": {
      "text/plain": [
       "(20, 13)"
      ]
     },
     "execution_count": 4,
     "metadata": {},
     "output_type": "execute_result"
    }
   ],
   "source": [
    "np.shape(mat_path_spot_fut)"
   ]
  },
  {
   "cell_type": "code",
   "execution_count": 5,
   "metadata": {},
   "outputs": [],
   "source": [
    "def comp_price_call(spot,strike,tt_maturity,int_rate,volatility):\n",
    "    discount= np.exp(-int_rate*tt_maturity)\n",
    "    volat_mod= volatility*np.sqrt(tt_maturity)\n",
    "    moneyness= np.log(spot/strike)\n",
    "    term_vol= (int_rate+0.5*volatility**2)*tt_maturity\n",
    "    d1=(moneyness+term_vol)/volat_mod\n",
    "    d2=d1-volat_mod\n",
    "    prob_d1=norm.cdf(d1)\n",
    "    prob_d2=norm.cdf(d2)\n",
    "    price_call= spot*prob_d1-discount*strike*prob_d2\n",
    "    return(price_call)\n",
    "def comp_delta_call(spot,strike,tt_maturity,int_rate,volatility):\n",
    "    volat_mod= volatility*np.sqrt(tt_maturity)\n",
    "    moneyness= np.log(spot/strike)\n",
    "    term_vol= (int_rate+0.5*volatility**2)*tt_maturity\n",
    "    d1=(moneyness+term_vol)/volat_mod\n",
    "    prob_d1=norm.cdf(d1)\n",
    "    delta_call_BS=prob_d1\n",
    "    return(delta_call_BS)"
   ]
  },
  {
   "cell_type": "markdown",
   "metadata": {},
   "source": [
    "## Question 1 & 3"
   ]
  },
  {
   "cell_type": "code",
   "execution_count": 6,
   "metadata": {},
   "outputs": [],
   "source": [
    "mat_call_price = comp_price_call(mat_spot_fut,100,maturity,int_rate,volatility)\n",
    "mat_call_delta = comp_delta_call(mat_spot_fut,100,maturity,int_rate,volatility)"
   ]
  },
  {
   "cell_type": "code",
   "execution_count": 7,
   "metadata": {},
   "outputs": [],
   "source": [
    "for i in range(nb_path):\n",
    "    for j in range(nb_step):\n",
    "        mat_call_price[i,j] = round(mat_call_price[i,j],2)\n",
    "        mat_call_delta[i,j] = round(mat_call_delta[i,j],3)"
   ]
  },
  {
   "cell_type": "code",
   "execution_count": 8,
   "metadata": {},
   "outputs": [
    {
     "data": {
      "text/plain": [
       "(20, 12)"
      ]
     },
     "execution_count": 8,
     "metadata": {},
     "output_type": "execute_result"
    }
   ],
   "source": [
    "np.shape(mat_call_price)"
   ]
  },
  {
   "cell_type": "code",
   "execution_count": 9,
   "metadata": {},
   "outputs": [],
   "source": [
    "mat_call_delta;"
   ]
  },
  {
   "cell_type": "markdown",
   "metadata": {},
   "source": [
    "## Question 2"
   ]
  },
  {
   "cell_type": "code",
   "execution_count": 25,
   "metadata": {},
   "outputs": [],
   "source": [
    "pnl_non_covered = np.zeros(nb_path)\n",
    "nb_calls = 10000\n",
    "for i in range(nb_path):\n",
    "    borrowing_init = nb_calls*mat_call_price[i,0]*(1-0.2/100)\n",
    "    borrowing = 0\n",
    "    for j in range(1,nb_step):\n",
    "        borrowing += nb_calls*(mat_call_price[i,j-1]-mat_call_price[i,j]) + int_rate*borrowing_init\n",
    "        borrowing_init = borrowing\n",
    "    pnl_non_covered[i] =  round(nb_calls*(mat_call_price[i,0] - mat_call_price[i,nb_step-1]) + int_rate*borrowing,2)"
   ]
  },
  {
   "cell_type": "code",
   "execution_count": 26,
   "metadata": {},
   "outputs": [
    {
     "data": {
      "text/plain": [
       "array([ -27109.73,   71771.09, -204225.43,   28814.22,   30809.25,\n",
       "         32992.44, -138226.86,   12334.46,   12627.18,   -7389.79,\n",
       "         37742.99,   50529.56,   52887.04,   57817.8 ,   62476.24,\n",
       "       -156401.39, -114023.8 ,   19669.31,    9216.87, -213722.36])"
      ]
     },
     "execution_count": 26,
     "metadata": {},
     "output_type": "execute_result"
    }
   ],
   "source": [
    "pnl_non_covered"
   ]
  },
  {
   "cell_type": "markdown",
   "metadata": {},
   "source": [
    "## Question 4"
   ]
  },
  {
   "cell_type": "code",
   "execution_count": 12,
   "metadata": {},
   "outputs": [],
   "source": [
    "stocks_to_hold = np.zeros((nb_path,nb_step))\n",
    "\n",
    "for i in range(nb_path):\n",
    "    for j in range(nb_step):\n",
    "        '''if j == 0:\n",
    "            stocks_to_hold[i,j] = mat_call_price[i,j]/(mat_call_delta[i,j]*mat_spot_fut[i,j])\n",
    "        else:\n",
    "            stocks_to_hold[i,j] = round((mat_call_price[i,j] - mat_call_price[i,j-1])/(mat_call_delta[i,j]*(mat_spot_fut[i,j]-mat_spot_fut[i,j-1])))'''\n",
    "        stocks_to_hold[i,j] = round(nb_calls*mat_call_delta[i,j])"
   ]
  },
  {
   "cell_type": "code",
   "execution_count": 13,
   "metadata": {
    "scrolled": true
   },
   "outputs": [
    {
     "data": {
      "text/plain": [
       "array([[4810., 4410., 3910., 4280., 5880., 5500., 7180., 8720., 9020.,\n",
       "        7790., 7400., 6100.],\n",
       "       [5890., 5520., 4860., 2530., 2620., 1030.,  950.,  290.,  170.,\n",
       "         190.,  110.,  260.],\n",
       "       [3910., 3970., 5360., 4870., 3150., 4910., 5690., 6730., 7820.,\n",
       "        8760., 9360., 9300.],\n",
       "       [6650., 6950., 6580., 6830., 6890., 5360., 5620., 5210., 3310.,\n",
       "        2570., 3740., 5480.],\n",
       "       [5050., 2460., 1930., 1760., 2050.,  990., 1940., 1370., 1910.,\n",
       "        2000., 1830., 3010.],\n",
       "       [6120., 5840., 4430., 4230., 2270., 2680., 2380., 2160., 2040.,\n",
       "        2140., 2720., 4500.],\n",
       "       [5510., 5520., 4480., 4800., 4470., 6830., 7140., 8650., 8190.,\n",
       "        7500., 8170., 8940.],\n",
       "       [6400., 6140., 6780., 7210., 6490., 6150., 4160., 4910., 5980.,\n",
       "        5330., 4210., 5910.],\n",
       "       [4140., 4950., 4720., 4010., 3640., 6440., 6240., 4630., 3030.,\n",
       "        3550., 4430., 3230.],\n",
       "       [5310., 7270., 7890., 7150., 8590., 9190., 8890., 7850., 8170.,\n",
       "        7630., 7490., 5650.],\n",
       "       [4280., 3660., 3340., 3000., 3580., 4370., 2890., 1120., 2050.,\n",
       "        1160.,  790.,  790.],\n",
       "       [5620., 5040., 4670., 2820., 1440.,  870.,  790.,  510., 1220.,\n",
       "         500., 1380., 2260.],\n",
       "       [5810., 5180., 4730., 3940., 3650., 4320., 4220., 5440., 4900.,\n",
       "        3820., 2330., 2430.],\n",
       "       [7310., 7650., 7440., 8350., 6300., 5720., 5670., 4150., 3340.,\n",
       "        5000., 5190., 5090.],\n",
       "       [5630., 3430., 3270., 2530., 1680., 1500., 1180., 1690., 1440.,\n",
       "        1760., 1080.,  840.],\n",
       "       [5850., 4180., 4690., 4220., 5680., 6550., 7110., 7780., 9060.,\n",
       "        8900., 9080., 9200.],\n",
       "       [5370., 6810., 7690., 8870., 8770., 8630., 8340., 8920., 8540.,\n",
       "        7690., 8310., 8580.],\n",
       "       [7040., 6560., 5500., 3520., 2730., 3790., 4610., 4480., 4300.,\n",
       "        4740., 5250., 6390.],\n",
       "       [7430., 7660., 7200., 6220., 6180., 7550., 5490., 6130., 6090.,\n",
       "        7180., 7900., 7170.],\n",
       "       [6060., 6500., 6370., 4440., 3000., 2520., 2120., 4860., 6580.,\n",
       "        7320., 8510., 9610.]])"
      ]
     },
     "execution_count": 13,
     "metadata": {},
     "output_type": "execute_result"
    }
   ],
   "source": [
    "stocks_to_hold"
   ]
  },
  {
   "cell_type": "code",
   "execution_count": 30,
   "metadata": {},
   "outputs": [
    {
     "name": "stdout",
     "output_type": "stream",
     "text": [
      "4.95\n"
     ]
    }
   ],
   "source": [
    "print(mat_call_price[0,0])"
   ]
  },
  {
   "cell_type": "markdown",
   "metadata": {},
   "source": [
    "## Question 5"
   ]
  },
  {
   "cell_type": "code",
   "execution_count": 36,
   "metadata": {},
   "outputs": [],
   "source": [
    "pnl_covered = np.zeros(nb_path)\n",
    "nb_calls = 10000\n",
    "for i in range(nb_path):\n",
    "    borrowing_init = nb_calls*mat_call_price[i,0]*(1-0.2/100) - (stocks_to_hold[i,0]*mat_spot_fut[i,0]*(1+0.5/100))\n",
    "    borrowing = 0\n",
    "    for j in range(1,nb_step):\n",
    "        borrowing_bar = nb_calls*(mat_call_price[i,j-1]-mat_call_price[i,j]) + stocks_to_hold[i,j-1]*(mat_spot_fut[i,j] - mat_spot_fut[i,j-1])+ int_rate*borrowing_init\n",
    "        borrowing += borrowing_bar + (stocks_to_hold[i,j]-stocks_to_hold[i,j-1])*mat_spot_fut[i,j]*(1-0.5/100)\n",
    "    pnl_covered[i] =  round(nb_calls*(mat_call_price[i,0] - mat_call_price[i,nb_step-1]) + int_rate*borrowing,2)"
   ]
  },
  {
   "cell_type": "code",
   "execution_count": 55,
   "metadata": {},
   "outputs": [
    {
     "data": {
      "text/plain": [
       "Text(0.5, 1.0, 'Covered and non covered strategies pnl')"
      ]
     },
     "execution_count": 55,
     "metadata": {},
     "output_type": "execute_result"
    },
    {
     "data": {
      "image/png": "[encoded data removed]",
      "text/plain": [
       "<Figure size 720x720 with 1 Axes>"
      ]
     },
     "metadata": {
      "needs_background": "light"
     },
     "output_type": "display_data"
    }
   ],
   "source": [
    "plt.figure(figsize=(10,10))\n",
    "ax1 = plt.plot(pnl_covered,label=\"PnL covered\")\n",
    "ax2 = plt.plot(pnl_non_covered,label=\"PnL non covered\")\n",
    "plt.legend(loc=\"upper left\")\n",
    "plt.title(\"Covered and non covered strategies pnl\")"
   ]
  }
 ],
 "metadata": {
  "kernelspec": {
   "display_name": "Python 3",
   "language": "python",
   "name": "python3"
  },
  "language_info": {
   "codemirror_mode": {
    "name": "ipython",
    "version": 3
   },
   "file_extension": ".py",
   "mimetype": "text/x-python",
   "name": "python",
   "nbconvert_exporter": "python",
   "pygments_lexer": "ipython3",
   "version": "3.8.3"
  },
  "latex_envs": {
   "LaTeX_envs_menu_present": true,
   "autoclose": false,
   "autocomplete": true,
   "bibliofile": "biblio.bib",
   "cite_by": "apalike",
   "current_citInitial": 1,
   "eqLabelWithNumbers": true,
   "eqNumInitial": 1,
   "hotkeys": {
    "equation": "Ctrl-E",
    "itemize": "Ctrl-I"
   },
   "labels_anchors": false,
   "latex_user_defs": false,
   "report_style_numbering": false,
   "user_envs_cfg": false
  },
  "varInspector": {
   "cols": {
    "lenName": 16,
    "lenType": 16,
    "lenVar": 40
   },
   "kernels_config": {
    "python": {
     "delete_cmd_postfix": "",
     "delete_cmd_prefix": "del ",
     "library": "var_list.py",
     "varRefreshCmd": "print(var_dic_list())"
    },
    "r": {
     "delete_cmd_postfix": ") ",
     "delete_cmd_prefix": "rm(",
     "library": "var_list.r",
     "varRefreshCmd": "cat(var_dic_list()) "
    }
   },
   "types_to_exclude": [
    "module",
    "function",
    "builtin_function_or_method",
    "instance",
    "_Feature"
   ],
   "window_display": false
  }
 },
 "nbformat": 4,
 "nbformat_minor": 4
}
