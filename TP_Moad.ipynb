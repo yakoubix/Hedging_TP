{
 "cells": [
  {
   "cell_type": "code",
   "execution_count": 1,
   "metadata": {},
   "outputs": [],
   "source": [
    "import numpy as np\n",
    "from scipy.stats import norm\n",
    "from matplotlib import pyplot as plt"
   ]
  },
  {
   "cell_type": "code",
   "execution_count": 2,
   "metadata": {},
   "outputs": [],
   "source": [
    "spot_init=100\n",
    "int_rate=2/100\n",
    "volatility=15/100\n",
    "maturity=1\n",
    "nb_step=12\n",
    "time_step= maturity/nb_step\n",
    "nb_path=20\n",
    "nb_seed=20191008"
   ]
  },
  {
   "cell_type": "code",
   "execution_count": 3,
   "metadata": {},
   "outputs": [],
   "source": [
    "drift_mod= (int_rate-0.5*volatility**2)*time_step\n",
    "mat_drift= drift_mod*np.cumsum(np.ones((nb_path,nb_step)),axis=1)\n",
    "volat_mod= volatility*np.sqrt(time_step)\n",
    "np.random.seed(nb_seed)\n",
    "mat_shock= np.random.standard_normal((nb_path,nb_step))\n",
    "mat_shock_cum= np.cumsum(mat_shock,axis=1)\n",
    "mat_volatility= volat_mod*mat_shock_cum\n",
    "mat_log_spot= mat_drift+mat_volatility\n",
    "mat_spot_init= spot_init*np.ones((nb_path,nb_step))\n",
    "mat_spot_fut= mat_spot_init*np.exp(mat_log_spot)\n",
    "vec_spot_init= spot_init*np.ones((nb_path,1))\n",
    "mat_path_spot_fut= np.concatenate((vec_spot_init,np.round(mat_spot_fut,3)),axis=1)"
   ]
  },
  {
   "cell_type": "code",
   "execution_count": 4,
   "metadata": {},
   "outputs": [],
   "source": [
    "mat_path_spot_fut;"
   ]
  },
  {
   "cell_type": "code",
   "execution_count": 5,
   "metadata": {},
   "outputs": [],
   "source": [
    "def implied_malz_vol(spot,tt_maturity,strike,int_rate):\n",
    "    alpha_1 = 0.58\n",
    "    alpha_2 = -0.35\n",
    "    #vol = volatility + (alpha_1/np.sqrt(tt_maturity))*np.log(spot*np.exp(int_rate*tt_maturity)/strike) + alpha_2*((1/np.sqrt(tt_maturity))*np.log(spot*np.exp(int_rate*tt_maturity)/strike))**2\n",
    "    malz_vol = volatility + (alpha_1/np.sqrt(tt_maturity))*np.log(spot*np.exp(int_rate*tt_maturity)/strike) + alpha_2*((1/np.sqrt(tt_maturity))*np.log(spot*np.exp(int_rate*tt_maturity)/strike))**2\n",
    "    return max(5/100,malz_vol)"
   ]
  },
  {
   "cell_type": "code",
   "execution_count": 6,
   "metadata": {},
   "outputs": [],
   "source": [
    "def comp_price_call(mat_spot,strike,int_rate):\n",
    "    mat_price_call = np.zeros((nb_path,nb_step+1))\n",
    "    for i in range(nb_path):\n",
    "        for j in range(nb_step+1):\n",
    "            if j == 12:\n",
    "                mat_price_call[i,j] = max(mat_spot[i,j] - strike,0)\n",
    "            else:\n",
    "                discount= np.exp(-int_rate*(nb_step-j)/nb_step)\n",
    "                volatility = implied_malz_vol(mat_spot[i,j],(nb_step-j)/nb_step,strike,int_rate)\n",
    "                volat_mod = volatility*np.sqrt((nb_step-j)/nb_step)\n",
    "                moneyness= np.log(mat_spot[i,j]/strike)\n",
    "                term_vol= (int_rate+0.5*volatility**2)*(nb_step-j)/nb_step\n",
    "                d1=(moneyness+term_vol)/volat_mod\n",
    "                d2=d1-volat_mod\n",
    "                prob_d1=norm.cdf(d1)\n",
    "                prob_d2=norm.cdf(d2)\n",
    "                mat_price_call[i,j] = mat_spot[i,j]*prob_d1-discount*strike*prob_d2\n",
    "    return mat_price_call \n",
    "\n",
    "def comp_delta_call(mat_spot,strike,int_rate):\n",
    "    mat_delta_call = np.zeros((nb_path,nb_step))\n",
    "    for i in range(nb_path):\n",
    "        for j in range(nb_step):\n",
    "            if j == 12 :\n",
    "                if mat_spot[i,j] > strike :\n",
    "                    mat_delta_call[i,j] = 1\n",
    "                else :\n",
    "                    mat_delta_call[i,j] = 0\n",
    "            else : \n",
    "                volatility = implied_malz_vol(mat_spot[i,j],(nb_step-j)/nb_step,strike,int_rate)\n",
    "                volat_mod= volatility*np.sqrt((nb_step-j)/nb_step)\n",
    "                moneyness= np.log(mat_spot[i,j]/strike)\n",
    "                term_vol= (int_rate+0.5*volatility**2)*(nb_step-j)/nb_step\n",
    "                d1=(moneyness+term_vol)/volat_mod\n",
    "                prob_d1=norm.cdf(d1)\n",
    "                mat_delta_call[i,j] =prob_d1\n",
    "    return mat_delta_call"
   ]
  },
  {
   "cell_type": "markdown",
   "metadata": {},
   "source": [
    "## Question 1 & 3"
   ]
  },
  {
   "cell_type": "code",
   "execution_count": 7,
   "metadata": {},
   "outputs": [],
   "source": [
    "mat_call_price = comp_price_call(mat_path_spot_fut,100,int_rate)\n",
    "mat_call_delta = comp_delta_call(mat_path_spot_fut,100,int_rate)"
   ]
  },
  {
   "cell_type": "code",
   "execution_count": 8,
   "metadata": {},
   "outputs": [],
   "source": [
    "mat_call_delta;"
   ]
  },
  {
   "cell_type": "code",
   "execution_count": 9,
   "metadata": {},
   "outputs": [
    {
     "data": {
      "text/plain": [
       "(20, 13)"
      ]
     },
     "execution_count": 9,
     "metadata": {},
     "output_type": "execute_result"
    }
   ],
   "source": [
    "np.shape(mat_call_price)"
   ]
  },
  {
   "cell_type": "code",
   "execution_count": 11,
   "metadata": {},
   "outputs": [],
   "source": [
    "for i in range(nb_path):\n",
    "    for j in range(nb_step+1):\n",
    "        mat_call_price[i,j] = round(mat_call_price[i,j],2)\n"
   ]
  },
  {
   "cell_type": "code",
   "execution_count": 13,
   "metadata": {},
   "outputs": [
    {
     "data": {
      "text/plain": [
       "array([[7.410e+00, 4.180e+00, 2.880e+00, 1.510e+00, 1.910e+00, 5.570e+00,\n",
       "        4.020e+00, 9.230e+00, 1.720e+01, 1.934e+01, 1.033e+01, 7.760e+00,\n",
       "        1.060e+00],\n",
       "       [7.410e+00, 7.240e+00, 5.750e+00, 3.590e+00, 1.000e-02, 0.000e+00,\n",
       "        0.000e+00, 0.000e+00, 0.000e+00, 0.000e+00, 0.000e+00, 0.000e+00,\n",
       "        0.000e+00],\n",
       "       [7.410e+00, 2.120e+00, 1.940e+00, 4.890e+00, 3.220e+00, 1.300e-01,\n",
       "        2.500e+00, 4.060e+00, 6.970e+00, 1.113e+01, 1.644e+01, 2.211e+01,\n",
       "        2.096e+01],\n",
       "       [7.410e+00, 9.790e+00, 1.052e+01, 8.740e+00, 9.260e+00, 9.030e+00,\n",
       "        3.630e+00, 3.860e+00, 2.260e+00, 0.000e+00, 0.000e+00, 0.000e+00,\n",
       "        0.000e+00],\n",
       "       [7.410e+00, 4.810e+00, 7.000e-02, 0.000e+00, 0.000e+00, 0.000e+00,\n",
       "        0.000e+00, 0.000e+00, 0.000e+00, 0.000e+00, 0.000e+00, 0.000e+00,\n",
       "        0.000e+00],\n",
       "       [7.410e+00, 7.970e+00, 6.700e+00, 2.580e+00, 1.810e+00, 0.000e+00,\n",
       "        0.000e+00, 0.000e+00, 0.000e+00, 0.000e+00, 0.000e+00, 0.000e+00,\n",
       "        0.000e+00],\n",
       "       [7.410e+00, 6.110e+00, 5.740e+00, 2.670e+00, 3.050e+00, 1.920e+00,\n",
       "        8.340e+00, 9.100e+00, 1.666e+01, 1.314e+01, 8.960e+00, 1.177e+01,\n",
       "        1.690e+01],\n",
       "       [7.410e+00, 8.900e+00, 7.640e+00, 9.480e+00, 1.074e+01, 7.570e+00,\n",
       "        5.950e+00, 6.600e-01, 1.580e+00, 3.820e+00, 1.380e+00, 0.000e+00,\n",
       "        3.400e-01],\n",
       "       [7.410e+00, 2.620e+00, 4.180e+00, 3.230e+00, 1.380e+00, 5.500e-01,\n",
       "        6.920e+00, 5.770e+00, 1.030e+00, 0.000e+00, 0.000e+00, 0.000e+00,\n",
       "        0.000e+00],\n",
       "       [7.410e+00, 5.540e+00, 1.181e+01, 1.427e+01, 1.051e+01, 1.765e+01,\n",
       "        2.244e+01, 1.906e+01, 1.182e+01, 1.303e+01, 9.570e+00, 8.180e+00,\n",
       "        0.000e+00],\n",
       "       [7.410e+00, 2.920e+00, 1.360e+00, 6.300e-01, 1.600e-01, 4.700e-01,\n",
       "        1.350e+00, 0.000e+00, 0.000e+00, 0.000e+00, 0.000e+00, 0.000e+00,\n",
       "        0.000e+00],\n",
       "       [7.410e+00, 6.420e+00, 4.420e+00, 3.130e+00, 7.000e-02, 0.000e+00,\n",
       "        0.000e+00, 0.000e+00, 0.000e+00, 0.000e+00, 0.000e+00, 0.000e+00,\n",
       "        0.000e+00],\n",
       "       [7.410e+00, 6.990e+00, 4.780e+00, 3.270e+00, 1.260e+00, 5.500e-01,\n",
       "        1.260e+00, 7.400e-01, 2.840e+00, 1.060e+00, 0.000e+00, 0.000e+00,\n",
       "        0.000e+00],\n",
       "       [7.410e+00, 1.236e+01, 1.348e+01, 1.215e+01, 1.645e+01, 6.930e+00,\n",
       "        4.630e+00, 4.000e+00, 3.400e-01, 0.000e+00, 6.900e-01, 3.800e-01,\n",
       "        0.000e+00],\n",
       "       [7.410e+00, 6.440e+00, 9.900e-01, 5.500e-01, 1.000e-02, 0.000e+00,\n",
       "        0.000e+00, 0.000e+00, 0.000e+00, 0.000e+00, 0.000e+00, 0.000e+00,\n",
       "        0.000e+00],\n",
       "       [7.410e+00, 7.120e+00, 2.380e+00, 3.170e+00, 1.780e+00, 4.970e+00,\n",
       "        7.330e+00, 8.980e+00, 1.146e+01, 1.973e+01, 1.766e+01, 1.871e+01,\n",
       "        1.966e+01],\n",
       "       [7.410e+00, 5.700e+00, 9.980e+00, 1.329e+01, 2.024e+01, 1.901e+01,\n",
       "        1.748e+01, 1.509e+01, 1.887e+01, 1.535e+01, 9.880e+00, 1.260e+01,\n",
       "        1.383e+01],\n",
       "       [7.410e+00, 1.126e+01, 9.070e+00, 5.310e+00, 6.400e-01, 1.000e-02,\n",
       "        4.700e-01, 1.410e+00, 7.800e-01, 2.100e-01, 3.200e-01, 4.800e-01,\n",
       "        2.220e+00],\n",
       "       [7.410e+00, 1.287e+01, 1.355e+01, 1.111e+01, 7.080e+00, 6.520e+00,\n",
       "        1.135e+01, 3.490e+00, 4.890e+00, 4.160e+00, 7.540e+00, 1.020e+01,\n",
       "        5.660e+00],\n",
       "       [7.410e+00, 7.770e+00, 8.860e+00, 8.010e+00, 2.230e+00, 6.000e-02,\n",
       "        0.000e+00, 0.000e+00, 1.470e+00, 5.830e+00, 8.120e+00, 1.393e+01,\n",
       "        2.616e+01]])"
      ]
     },
     "execution_count": 13,
     "metadata": {},
     "output_type": "execute_result"
    }
   ],
   "source": [
    "mat_call_price"
   ]
  },
  {
   "cell_type": "code",
   "execution_count": 12,
   "metadata": {},
   "outputs": [],
   "source": [
    "for i in range(nb_path):\n",
    "    for j in range(nb_step):\n",
    "        mat_call_delta[i,j] = round(mat_call_delta[i,j],3)"
   ]
  },
  {
   "cell_type": "code",
   "execution_count": 14,
   "metadata": {},
   "outputs": [
    {
     "data": {
      "text/plain": [
       "array([[0.581, 0.465, 0.397, 0.287, 0.336, 0.569, 0.512, 0.708, 0.841,\n",
       "        0.88 , 0.811, 0.819],\n",
       "       [0.581, 0.584, 0.542, 0.45 , 0.008, 0.003, 0.   , 0.   , 0.   ,\n",
       "        0.   , 0.   , 0.   ],\n",
       "       [0.581, 0.332, 0.322, 0.517, 0.438, 0.058, 0.412, 0.532, 0.671,\n",
       "        0.79 , 0.886, 0.968],\n",
       "       [0.581, 0.649, 0.673, 0.643, 0.666, 0.673, 0.49 , 0.521, 0.429,\n",
       "        0.   , 0.   , 0.   ],\n",
       "       [0.581, 0.495, 0.034, 0.   , 0.   , 0.   , 0.   , 0.   , 0.   ,\n",
       "        0.   , 0.   , 0.   ],\n",
       "       [0.581, 0.605, 0.576, 0.384, 0.326, 0.   , 0.001, 0.   , 0.   ,\n",
       "        0.   , 0.   , 0.   ],\n",
       "       [0.581, 0.547, 0.542, 0.391, 0.427, 0.348, 0.671, 0.705, 0.836,\n",
       "        0.819, 0.785, 0.887],\n",
       "       [0.581, 0.629, 0.604, 0.66 , 0.697, 0.635, 0.598, 0.203, 0.358,\n",
       "        0.569, 0.394, 0.   ],\n",
       "       [0.581, 0.37 , 0.473, 0.429, 0.28 , 0.164, 0.631, 0.609, 0.282,\n",
       "        0.   , 0.   , 0.   ],\n",
       "       [0.581, 0.525, 0.697, 0.743, 0.692, 0.802, 0.853, 0.841, 0.776,\n",
       "        0.818, 0.797, 0.828],\n",
       "       [0.581, 0.392, 0.263, 0.169, 0.066, 0.149, 0.298, 0.001, 0.   ,\n",
       "        0.   , 0.   , 0.   ],\n",
       "       [0.581, 0.558, 0.485, 0.422, 0.035, 0.   , 0.   , 0.   , 0.   ,\n",
       "        0.   , 0.   , 0.   ],\n",
       "       [0.581, 0.576, 0.502, 0.432, 0.267, 0.165, 0.286, 0.219, 0.476,\n",
       "        0.31 , 0.   , 0.   ],\n",
       "       [0.581, 0.698, 0.723, 0.711, 0.779, 0.616, 0.543, 0.529, 0.142,\n",
       "        0.   , 0.27 , 0.23 ],\n",
       "       [0.581, 0.558, 0.218, 0.154, 0.008, 0.   , 0.   , 0.   , 0.   ,\n",
       "        0.   , 0.   , 0.   ],\n",
       "       [0.581, 0.58 , 0.359, 0.425, 0.323, 0.544, 0.643, 0.703, 0.77 ,\n",
       "        0.883, 0.896, 0.95 ],\n",
       "       [0.581, 0.532, 0.662, 0.729, 0.816, 0.815, 0.813, 0.802, 0.856,\n",
       "        0.845, 0.803, 0.897],\n",
       "       [0.581, 0.678, 0.641, 0.534, 0.175, 0.008, 0.155, 0.319, 0.24 ,\n",
       "        0.111, 0.168, 0.265],\n",
       "       [0.581, 0.706, 0.724, 0.693, 0.608, 0.603, 0.733, 0.499, 0.595,\n",
       "        0.588, 0.752, 0.865],\n",
       "       [0.581, 0.599, 0.636, 0.624, 0.366, 0.034, 0.   , 0.   , 0.344,\n",
       "        0.661, 0.767, 0.911]])"
      ]
     },
     "execution_count": 14,
     "metadata": {},
     "output_type": "execute_result"
    }
   ],
   "source": [
    "mat_call_delta"
   ]
  },
  {
   "cell_type": "markdown",
   "metadata": {},
   "source": [
    "## Question 2"
   ]
  },
  {
   "cell_type": "code",
   "execution_count": 15,
   "metadata": {},
   "outputs": [],
   "source": [
    "pnl_non_covered = np.zeros(nb_path)\n",
    "nb_calls = 10000\n",
    "for i in range(nb_path):\n",
    "    if 100 < mat_path_spot_fut[i,-1]:\n",
    "        pnl_non_covered[i] = round(nb_calls*mat_call_price[i,0]*(1-0.2/100) - nb_calls*(mat_path_spot_fut[i,-1] - 100) - nb_calls*mat_path_spot_fut[i,-1]*0.5/100 - nb_calls*100*0.5/100,2)\n",
    "    else:\n",
    "        pnl_non_covered[i] =  round(nb_calls*mat_call_price[i,0]*(1-0.2/100),2)"
   ]
  },
  {
   "cell_type": "code",
   "execution_count": 16,
   "metadata": {},
   "outputs": [
    {
     "data": {
      "text/plain": [
       "array([  53298.8 ,   73951.8 , -146736.4 ,   73951.8 ,   73951.8 ,\n",
       "         73951.8 , -105873.1 ,   60544.85,   73951.8 ,   73951.8 ,\n",
       "         73951.8 ,   73951.8 ,   73951.8 ,   73951.8 ,   73951.8 ,\n",
       "       -133671.4 ,  -75039.7 ,   41610.65,    7078.85, -198956.2 ])"
      ]
     },
     "execution_count": 16,
     "metadata": {},
     "output_type": "execute_result"
    }
   ],
   "source": [
    "pnl_non_covered"
   ]
  },
  {
   "cell_type": "markdown",
   "metadata": {},
   "source": [
    "## Question 4"
   ]
  },
  {
   "cell_type": "code",
   "execution_count": 17,
   "metadata": {},
   "outputs": [],
   "source": [
    "stocks_to_hold = np.zeros((nb_path,nb_step))\n",
    "\n",
    "for i in range(nb_path):\n",
    "    for j in range(nb_step):\n",
    "        '''if j == 0:\n",
    "            stocks_to_hold[i,j] = mat_call_price[i,j]/(mat_call_delta[i,j]*mat_spot_fut[i,j])\n",
    "        else:\n",
    "            stocks_to_hold[i,j] = round((mat_call_price[i,j] - mat_call_price[i,j-1])/(mat_call_delta[i,j]*(mat_spot_fut[i,j]-mat_spot_fut[i,j-1])))'''\n",
    "        stocks_to_hold[i,j] = round(nb_calls*mat_call_delta[i,j])"
   ]
  },
  {
   "cell_type": "code",
   "execution_count": 18,
   "metadata": {
    "scrolled": true
   },
   "outputs": [
    {
     "data": {
      "text/plain": [
       "array([[5810., 4650., 3970., 2870., 3360., 5690., 5120., 7080., 8410.,\n",
       "        8800., 8110., 8190.],\n",
       "       [5810., 5840., 5420., 4500.,   80.,   30.,    0.,    0.,    0.,\n",
       "           0.,    0.,    0.],\n",
       "       [5810., 3320., 3220., 5170., 4380.,  580., 4120., 5320., 6710.,\n",
       "        7900., 8860., 9680.],\n",
       "       [5810., 6490., 6730., 6430., 6660., 6730., 4900., 5210., 4290.,\n",
       "           0.,    0.,    0.],\n",
       "       [5810., 4950.,  340.,    0.,    0.,    0.,    0.,    0.,    0.,\n",
       "           0.,    0.,    0.],\n",
       "       [5810., 6050., 5760., 3840., 3260.,    0.,   10.,    0.,    0.,\n",
       "           0.,    0.,    0.],\n",
       "       [5810., 5470., 5420., 3910., 4270., 3480., 6710., 7050., 8360.,\n",
       "        8190., 7850., 8870.],\n",
       "       [5810., 6290., 6040., 6600., 6970., 6350., 5980., 2030., 3580.,\n",
       "        5690., 3940.,    0.],\n",
       "       [5810., 3700., 4730., 4290., 2800., 1640., 6310., 6090., 2820.,\n",
       "           0.,    0.,    0.],\n",
       "       [5810., 5250., 6970., 7430., 6920., 8020., 8530., 8410., 7760.,\n",
       "        8180., 7970., 8280.],\n",
       "       [5810., 3920., 2630., 1690.,  660., 1490., 2980.,   10.,    0.,\n",
       "           0.,    0.,    0.],\n",
       "       [5810., 5580., 4850., 4220.,  350.,    0.,    0.,    0.,    0.,\n",
       "           0.,    0.,    0.],\n",
       "       [5810., 5760., 5020., 4320., 2670., 1650., 2860., 2190., 4760.,\n",
       "        3100.,    0.,    0.],\n",
       "       [5810., 6980., 7230., 7110., 7790., 6160., 5430., 5290., 1420.,\n",
       "           0., 2700., 2300.],\n",
       "       [5810., 5580., 2180., 1540.,   80.,    0.,    0.,    0.,    0.,\n",
       "           0.,    0.,    0.],\n",
       "       [5810., 5800., 3590., 4250., 3230., 5440., 6430., 7030., 7700.,\n",
       "        8830., 8960., 9500.],\n",
       "       [5810., 5320., 6620., 7290., 8160., 8150., 8130., 8020., 8560.,\n",
       "        8450., 8030., 8970.],\n",
       "       [5810., 6780., 6410., 5340., 1750.,   80., 1550., 3190., 2400.,\n",
       "        1110., 1680., 2650.],\n",
       "       [5810., 7060., 7240., 6930., 6080., 6030., 7330., 4990., 5950.,\n",
       "        5880., 7520., 8650.],\n",
       "       [5810., 5990., 6360., 6240., 3660.,  340.,    0.,    0., 3440.,\n",
       "        6610., 7670., 9110.]])"
      ]
     },
     "execution_count": 18,
     "metadata": {},
     "output_type": "execute_result"
    }
   ],
   "source": [
    "stocks_to_hold"
   ]
  },
  {
   "cell_type": "markdown",
   "metadata": {},
   "source": [
    "## Question 5"
   ]
  },
  {
   "cell_type": "code",
   "execution_count": 19,
   "metadata": {},
   "outputs": [],
   "source": [
    "pnl_covered = np.zeros(nb_path)\n",
    "nb_calls = 10000\n",
    "for i in range(nb_path):\n",
    "    borrowing_init = nb_calls*mat_call_price[i,0]*(1-0.2/100) - stocks_to_hold[i,0]*mat_path_spot_fut[i,0]*(1+0.5/100)\n",
    "    borrowing = borrowing_init\n",
    "    adjustments = stocks_to_hold[i,-1]*(mat_path_spot_fut[i,-1]-mat_path_spot_fut[i,nb_step-1])\n",
    "    for j in range(1,nb_step):\n",
    "        borrowing_bar = nb_calls*(mat_call_price[i,j-1]-mat_call_price[i,j]) + stocks_to_hold[i,j-1]*(mat_path_spot_fut[i,j] - mat_path_spot_fut[i,j-1])+ time_step*int_rate*borrowing_init\n",
    "        borrowing_current = borrowing_bar + (stocks_to_hold[i,j-1]-stocks_to_hold[i,j])*mat_path_spot_fut[i,j]- abs(stocks_to_hold[i,j-1]-stocks_to_hold[i,j])*mat_path_spot_fut[i,j]*0.5/100\n",
    "        borrowing += borrowing_current\n",
    "        borrowing_init = borrowing_current\n",
    "        adjustments += stocks_to_hold[i,j-1]*(mat_path_spot_fut[i,j]-mat_path_spot_fut[i,j-1])\n",
    "    pnl_covered[i] =  round(nb_calls*(mat_call_price[i,0] - mat_call_price[i,-1]) + adjustments + time_step*int_rate*borrowing,2)\n",
    "    if 100 < mat_path_spot_fut[i,-1]:\n",
    "        pnl_covered[i] -= round(nb_calls*100*0.5/100 + (nb_calls-stocks_to_hold[i,-1])*mat_path_spot_fut[i,-1]*(1+0.5/100),2)\n",
    "    else:\n",
    "        pnl_covered[i] -= round(stocks_to_hold[i,-1]*mat_path_spot_fut[i,-1]*0.5/100,2)"
   ]
  },
  {
   "cell_type": "code",
   "execution_count": 20,
   "metadata": {},
   "outputs": [
    {
     "data": {
      "text/plain": [
       "array([-164384.32,   14959.08,  -68651.03,   25803.49,    8580.69,\n",
       "         17022.95, -135528.79, -992356.1 ,  -11031.16,   27570.12,\n",
       "         16258.51,   20006.26,   28095.34,   22864.8 ,   18933.79,\n",
       "        -62144.19, -103566.  , -745658.67, -123944.95, -144557.16])"
      ]
     },
     "execution_count": 20,
     "metadata": {},
     "output_type": "execute_result"
    }
   ],
   "source": [
    "pnl_covered"
   ]
  },
  {
   "cell_type": "code",
   "execution_count": 21,
   "metadata": {},
   "outputs": [
    {
     "data": {
      "text/plain": [
       "Text(0.5, 1.0, 'Covered and non covered strategies pnl')"
      ]
     },
     "execution_count": 21,
     "metadata": {},
     "output_type": "execute_result"
    },
    {
     "data": {
      "image/png": "[encoded data removed]",
      "text/plain": [
       "<Figure size 720x720 with 1 Axes>"
      ]
     },
     "metadata": {
      "needs_background": "light"
     },
     "output_type": "display_data"
    }
   ],
   "source": [
    "plt.figure(figsize=(10,10))\n",
    "ax1 = plt.plot(pnl_covered,label=\"PnL covered\")\n",
    "ax2 = plt.plot(pnl_non_covered,label=\"PnL non covered\")\n",
    "plt.legend(loc=\"upper left\")\n",
    "plt.title(\"Covered and non covered strategies pnl\")"
   ]
  },
  {
   "cell_type": "markdown",
   "metadata": {},
   "source": [
    "## Question 6"
   ]
  },
  {
   "cell_type": "code",
   "execution_count": 25,
   "metadata": {},
   "outputs": [],
   "source": [
    "nb_calls = 10000\n",
    "stocks_to_hold_optim = np.zeros((nb_path,nb_step))\n",
    "exp_call_zero = np.sum(mat_call_price[:,1])/20\n",
    "exp_spot_zero = np.sum(mat_path_spot_fut[:,1])/20\n",
    "\n",
    "for i in range(nb_path):\n",
    "    borrowing_bar_vect = np.zeros((nb_step+1))\n",
    "    \n",
    "    for j in range(1,nb_step+1):\n",
    "        borrowing_bar_candidates = np.zeros((nb_calls))\n",
    "        borrowing_bar_toapp = np.zeros((nb_calls))\n",
    "        borrowing_bar_candidates = [-np.inf for i in range(nb_calls)]\n",
    "        proba = [np.exp(-1*abs(mat_path_spot_fut[l,j]-mat_path_spot_fut[i,j])) for l in range(nb_path)]\n",
    "        proba /= np.sum(proba)\n",
    "        exp_call = np.sum(mat_call_price[:,j]*proba)\n",
    "        exp_spot = np.sum(mat_path_spot_fut[:,j]*proba)\n",
    "        check = 0\n",
    "        for trial in range(1,nb_calls):\n",
    "            if exp_spot - mat_path_spot_fut[i,j-1] == 0:\n",
    "                if j == 1 or j == nb_step:\n",
    "                    check = 1\n",
    "                    pass\n",
    "                else:\n",
    "                    if abs(borrowing_bar_vect[j-1] + (stocks_to_hold_optim[i,j-2] - trial)*mat_path_spot_fut[i,j-1] - abs(stocks_to_hold_optim[i,j-2] - trial)*mat_path_spot_fut[i,j-1]*0.5/100) <= mat_path_spot_fut[i,j-1]*stocks_to_hold_optim[i,j-2]*0.01 :\n",
    "                        check = 1\n",
    "                        pass\n",
    "                    else:\n",
    "                        continue\n",
    "            else : \n",
    "                if j == 1 or j == nb_step:\n",
    "                    check = 1\n",
    "                    pass\n",
    "                else:\n",
    "                    if np.abs(time_step*int_rate*borrowing_bar_vect[j-1] - nb_calls*(exp_call-mat_call_price[i,j-1]) + trial*(exp_spot-mat_path_spot_fut[i,j-1])) <= nb_calls*mat_call_price[i,j-1]*0.01 :\n",
    "                        check = 1\n",
    "                        pass\n",
    "                    else:\n",
    "                        continue\n",
    "            if j == 1:\n",
    "                borrowing_bar_candidates[trial] = nb_calls*(mat_call_price[i,j-1]-exp_call_zero) + trial*(exp_spot_zero- mat_path_spot_fut[i,j-1])+ time_step*int_rate*(nb_calls*mat_call_price[i,j-1]*(1-0.2/100)-trial*mat_path_spot_fut[i,j-1]*(1+0.5/100))\n",
    "                borrowing_bar_toapp[trial] = nb_calls*(mat_call_price[i,j-1]-mat_call_price[i,j]) + trial*(mat_path_spot_fut[i,j]- mat_path_spot_fut[i,j-1])+ time_step*int_rate*(nb_calls*mat_call_price[i,j-1]*(1-0.2/100)-trial*mat_path_spot_fut[i,j-1]*(1+0.5/100))\n",
    "\n",
    "            elif j == nb_step:\n",
    "                term1_exec = np.sum(trial*mat_path_spot_fut[:,j].T*proba*0.5/100 if mat_path_spot_fut[i,j] < 100 else 0)\n",
    "                term2_exec = np.sum((nb_calls*100 + (nb_calls-trial)*(1+0.5/100)*mat_path_spot_fut[:,j].T)*proba if mat_path_spot_fut[i,j] < 100 else 0 )*(1+0.5/100)\n",
    "                borrowing_bar_candidates[trial] = nb_calls*(mat_call_price[i,j-1]-exp_call) + trial*(exp_spot- mat_path_spot_fut[i,j-1])+ time_step*int_rate*(borrowing_bar_vect[j-1]+(stocks_to_hold_optim[i,j-2]-trial)*mat_path_spot_fut[i,j-1]-abs(stocks_to_hold_optim[i,j-2]-trial)*mat_path_spot_fut[i,j-1]*0.5/100) - term1_exec - term2_exec\n",
    "                if mat_path_spot_fut[i,j] < 100 : \n",
    "                    borrowing_bar_toapp[trial] = nb_calls*(mat_call_price[i,j-1]-mat_call_price[i,j]) + trial*(mat_path_spot_fut[i,j]- mat_path_spot_fut[i,j-1])+ time_step*int_rate*(borrowing_bar_vect[j-1]+(stocks_to_hold_optim[i,j-2]-trial)*mat_path_spot_fut[i,j-1]-abs(stocks_to_hold_optim[i,j-2]-trial)*mat_path_spot_fut[i,j-1]*0.5/100) - trial*mat_path_spot_fut[i,j] - (nb_calls*100 + (nb_calls-trial)*mat_path_spot_fut[i,j]*(1+0.5/100))\n",
    "                else :\n",
    "                    borrowing_bar_toapp[trial] = nb_calls*(mat_call_price[i,j-1]-mat_call_price[i,j]) + trial*(mat_path_spot_fut[i,j]- mat_path_spot_fut[i,j-1])+ time_step*int_rate*(borrowing_bar_vect[j-1]+(stocks_to_hold_optim[i,j-2]-trial)*mat_path_spot_fut[i,j-1]-abs(stocks_to_hold_optim[i,j-2]-trial)*mat_path_spot_fut[i,j-1]*0.5/100)\n",
    "\n",
    "            else :\n",
    "                borrowing_bar_candidates[trial] = nb_calls*(mat_call_price[i,j-1]-exp_call) + trial*(exp_spot- mat_path_spot_fut[i,j-1])+ time_step*int_rate*(borrowing_bar_vect[j-1]+(stocks_to_hold_optim[i,j-2]-trial)*mat_path_spot_fut[i,j-1]-abs(stocks_to_hold_optim[i,j-2]-trial)*mat_path_spot_fut[i,j-1]*0.5/100)\n",
    "                borrowing_bar_toapp[trial] = nb_calls*(mat_call_price[i,j-1]-mat_call_price[i,j]) + trial*(mat_path_spot_fut[i,j]- mat_path_spot_fut[i,j-1])+ time_step*int_rate*(borrowing_bar_vect[j-1]+(stocks_to_hold_optim[i,j-2]-trial)*mat_path_spot_fut[i,j-1]-abs(stocks_to_hold_optim[i,j-2]-trial)*mat_path_spot_fut[i,j-1]*0.5/100)\n",
    "        if check == 1:\n",
    "            stocks_to_hold_optim[i,j-1] = np.argmax(borrowing_bar_candidates)\n",
    "        else:\n",
    "            stocks_to_hold_optim[i,j-1] = 1\n",
    "        borrowing_bar_vect[j] = borrowing_bar_toapp[np.argmax(borrowing_bar_candidates)]"
   ]
  },
  {
   "cell_type": "code",
   "execution_count": 29,
   "metadata": {},
   "outputs": [],
   "source": [
    "import pandas as pd"
   ]
  },
  {
   "cell_type": "code",
   "execution_count": 30,
   "metadata": {},
   "outputs": [
    {
     "data": {
      "text/html": [
       "<div>\n",
       "<style scoped>\n",
       "    .dataframe tbody tr th:only-of-type {\n",
       "        vertical-align: middle;\n",
       "    }\n",
       "\n",
       "    .dataframe tbody tr th {\n",
       "        vertical-align: top;\n",
       "    }\n",
       "\n",
       "    .dataframe thead th {\n",
       "        text-align: right;\n",
       "    }\n",
       "</style>\n",
       "<table border=\"1\" class=\"dataframe\">\n",
       "  <thead>\n",
       "    <tr style=\"text-align: right;\">\n",
       "      <th></th>\n",
       "      <th>0</th>\n",
       "      <th>1</th>\n",
       "      <th>2</th>\n",
       "      <th>3</th>\n",
       "      <th>4</th>\n",
       "      <th>5</th>\n",
       "      <th>6</th>\n",
       "      <th>7</th>\n",
       "      <th>8</th>\n",
       "      <th>9</th>\n",
       "      <th>10</th>\n",
       "      <th>11</th>\n",
       "    </tr>\n",
       "  </thead>\n",
       "  <tbody>\n",
       "    <tr>\n",
       "      <th>0</th>\n",
       "      <td>1.0</td>\n",
       "      <td>8535.0</td>\n",
       "      <td>7531.0</td>\n",
       "      <td>3007.0</td>\n",
       "      <td>6362.0</td>\n",
       "      <td>1.0</td>\n",
       "      <td>7598.0</td>\n",
       "      <td>8730.0</td>\n",
       "      <td>8280.0</td>\n",
       "      <td>9794.0</td>\n",
       "      <td>1.0</td>\n",
       "      <td>1.0</td>\n",
       "    </tr>\n",
       "    <tr>\n",
       "      <th>1</th>\n",
       "      <td>1.0</td>\n",
       "      <td>9793.0</td>\n",
       "      <td>8371.0</td>\n",
       "      <td>4180.0</td>\n",
       "      <td>365.0</td>\n",
       "      <td>1.0</td>\n",
       "      <td>1.0</td>\n",
       "      <td>1.0</td>\n",
       "      <td>1.0</td>\n",
       "      <td>1.0</td>\n",
       "      <td>1.0</td>\n",
       "      <td>9999.0</td>\n",
       "    </tr>\n",
       "    <tr>\n",
       "      <th>2</th>\n",
       "      <td>1.0</td>\n",
       "      <td>1.0</td>\n",
       "      <td>5819.0</td>\n",
       "      <td>8321.0</td>\n",
       "      <td>4747.0</td>\n",
       "      <td>3816.0</td>\n",
       "      <td>5445.0</td>\n",
       "      <td>6963.0</td>\n",
       "      <td>8111.0</td>\n",
       "      <td>8664.0</td>\n",
       "      <td>8925.0</td>\n",
       "      <td>1.0</td>\n",
       "    </tr>\n",
       "    <tr>\n",
       "      <th>3</th>\n",
       "      <td>1.0</td>\n",
       "      <td>5908.0</td>\n",
       "      <td>1.0</td>\n",
       "      <td>6218.0</td>\n",
       "      <td>1.0</td>\n",
       "      <td>8701.0</td>\n",
       "      <td>3101.0</td>\n",
       "      <td>9334.0</td>\n",
       "      <td>3185.0</td>\n",
       "      <td>1.0</td>\n",
       "      <td>1.0</td>\n",
       "      <td>9999.0</td>\n",
       "    </tr>\n",
       "    <tr>\n",
       "      <th>4</th>\n",
       "      <td>1.0</td>\n",
       "      <td>4893.0</td>\n",
       "      <td>282.0</td>\n",
       "      <td>1.0</td>\n",
       "      <td>1.0</td>\n",
       "      <td>1.0</td>\n",
       "      <td>1.0</td>\n",
       "      <td>1.0</td>\n",
       "      <td>1.0</td>\n",
       "      <td>1.0</td>\n",
       "      <td>1.0</td>\n",
       "      <td>9999.0</td>\n",
       "    </tr>\n",
       "    <tr>\n",
       "      <th>5</th>\n",
       "      <td>1.0</td>\n",
       "      <td>1.0</td>\n",
       "      <td>7932.0</td>\n",
       "      <td>9886.0</td>\n",
       "      <td>2422.0</td>\n",
       "      <td>1.0</td>\n",
       "      <td>1.0</td>\n",
       "      <td>1.0</td>\n",
       "      <td>1.0</td>\n",
       "      <td>1.0</td>\n",
       "      <td>1.0</td>\n",
       "      <td>9999.0</td>\n",
       "    </tr>\n",
       "    <tr>\n",
       "      <th>6</th>\n",
       "      <td>1.0</td>\n",
       "      <td>1.0</td>\n",
       "      <td>8033.0</td>\n",
       "      <td>1609.0</td>\n",
       "      <td>7980.0</td>\n",
       "      <td>7001.0</td>\n",
       "      <td>5847.0</td>\n",
       "      <td>8708.0</td>\n",
       "      <td>1.0</td>\n",
       "      <td>1.0</td>\n",
       "      <td>7752.0</td>\n",
       "      <td>9999.0</td>\n",
       "    </tr>\n",
       "    <tr>\n",
       "      <th>7</th>\n",
       "      <td>1.0</td>\n",
       "      <td>1.0</td>\n",
       "      <td>7120.0</td>\n",
       "      <td>6749.0</td>\n",
       "      <td>9506.0</td>\n",
       "      <td>1.0</td>\n",
       "      <td>7184.0</td>\n",
       "      <td>3446.0</td>\n",
       "      <td>5796.0</td>\n",
       "      <td>9095.0</td>\n",
       "      <td>3434.0</td>\n",
       "      <td>9999.0</td>\n",
       "    </tr>\n",
       "    <tr>\n",
       "      <th>8</th>\n",
       "      <td>1.0</td>\n",
       "      <td>5650.0</td>\n",
       "      <td>1.0</td>\n",
       "      <td>7228.0</td>\n",
       "      <td>5481.0</td>\n",
       "      <td>6125.0</td>\n",
       "      <td>1.0</td>\n",
       "      <td>7773.0</td>\n",
       "      <td>1841.0</td>\n",
       "      <td>1.0</td>\n",
       "      <td>1.0</td>\n",
       "      <td>9999.0</td>\n",
       "    </tr>\n",
       "    <tr>\n",
       "      <th>9</th>\n",
       "      <td>1.0</td>\n",
       "      <td>7854.0</td>\n",
       "      <td>7881.0</td>\n",
       "      <td>9611.0</td>\n",
       "      <td>8696.0</td>\n",
       "      <td>8901.0</td>\n",
       "      <td>1.0</td>\n",
       "      <td>9694.0</td>\n",
       "      <td>7062.0</td>\n",
       "      <td>1.0</td>\n",
       "      <td>1.0</td>\n",
       "      <td>9999.0</td>\n",
       "    </tr>\n",
       "    <tr>\n",
       "      <th>10</th>\n",
       "      <td>1.0</td>\n",
       "      <td>6866.0</td>\n",
       "      <td>6205.0</td>\n",
       "      <td>2874.0</td>\n",
       "      <td>1575.0</td>\n",
       "      <td>3220.0</td>\n",
       "      <td>2276.0</td>\n",
       "      <td>1.0</td>\n",
       "      <td>1.0</td>\n",
       "      <td>1.0</td>\n",
       "      <td>1.0</td>\n",
       "      <td>9999.0</td>\n",
       "    </tr>\n",
       "    <tr>\n",
       "      <th>11</th>\n",
       "      <td>1.0</td>\n",
       "      <td>9035.0</td>\n",
       "      <td>9339.0</td>\n",
       "      <td>4330.0</td>\n",
       "      <td>121.0</td>\n",
       "      <td>1.0</td>\n",
       "      <td>1.0</td>\n",
       "      <td>1.0</td>\n",
       "      <td>1.0</td>\n",
       "      <td>1.0</td>\n",
       "      <td>1.0</td>\n",
       "      <td>9999.0</td>\n",
       "    </tr>\n",
       "    <tr>\n",
       "      <th>12</th>\n",
       "      <td>1.0</td>\n",
       "      <td>8946.0</td>\n",
       "      <td>8837.0</td>\n",
       "      <td>7049.0</td>\n",
       "      <td>5582.0</td>\n",
       "      <td>3182.0</td>\n",
       "      <td>1.0</td>\n",
       "      <td>4560.0</td>\n",
       "      <td>8417.0</td>\n",
       "      <td>2533.0</td>\n",
       "      <td>1.0</td>\n",
       "      <td>9999.0</td>\n",
       "    </tr>\n",
       "    <tr>\n",
       "      <th>13</th>\n",
       "      <td>1.0</td>\n",
       "      <td>7116.0</td>\n",
       "      <td>1.0</td>\n",
       "      <td>8488.0</td>\n",
       "      <td>9086.0</td>\n",
       "      <td>9486.0</td>\n",
       "      <td>1.0</td>\n",
       "      <td>6869.0</td>\n",
       "      <td>1054.0</td>\n",
       "      <td>1.0</td>\n",
       "      <td>1.0</td>\n",
       "      <td>9999.0</td>\n",
       "    </tr>\n",
       "    <tr>\n",
       "      <th>14</th>\n",
       "      <td>1.0</td>\n",
       "      <td>6828.0</td>\n",
       "      <td>1.0</td>\n",
       "      <td>1922.0</td>\n",
       "      <td>25.0</td>\n",
       "      <td>1.0</td>\n",
       "      <td>1.0</td>\n",
       "      <td>1.0</td>\n",
       "      <td>1.0</td>\n",
       "      <td>1.0</td>\n",
       "      <td>1.0</td>\n",
       "      <td>9999.0</td>\n",
       "    </tr>\n",
       "    <tr>\n",
       "      <th>15</th>\n",
       "      <td>1.0</td>\n",
       "      <td>7566.0</td>\n",
       "      <td>4492.0</td>\n",
       "      <td>7877.0</td>\n",
       "      <td>6199.0</td>\n",
       "      <td>6859.0</td>\n",
       "      <td>7022.0</td>\n",
       "      <td>7767.0</td>\n",
       "      <td>8900.0</td>\n",
       "      <td>1.0</td>\n",
       "      <td>7113.0</td>\n",
       "      <td>9999.0</td>\n",
       "    </tr>\n",
       "    <tr>\n",
       "      <th>16</th>\n",
       "      <td>1.0</td>\n",
       "      <td>7568.0</td>\n",
       "      <td>8050.0</td>\n",
       "      <td>8830.0</td>\n",
       "      <td>1.0</td>\n",
       "      <td>1.0</td>\n",
       "      <td>1.0</td>\n",
       "      <td>8550.0</td>\n",
       "      <td>1.0</td>\n",
       "      <td>1.0</td>\n",
       "      <td>7660.0</td>\n",
       "      <td>9999.0</td>\n",
       "    </tr>\n",
       "    <tr>\n",
       "      <th>17</th>\n",
       "      <td>1.0</td>\n",
       "      <td>9765.0</td>\n",
       "      <td>8635.0</td>\n",
       "      <td>6414.0</td>\n",
       "      <td>1990.0</td>\n",
       "      <td>1496.0</td>\n",
       "      <td>3257.0</td>\n",
       "      <td>1.0</td>\n",
       "      <td>7420.0</td>\n",
       "      <td>1462.0</td>\n",
       "      <td>624.0</td>\n",
       "      <td>9999.0</td>\n",
       "    </tr>\n",
       "    <tr>\n",
       "      <th>18</th>\n",
       "      <td>1.0</td>\n",
       "      <td>6202.0</td>\n",
       "      <td>9980.0</td>\n",
       "      <td>9281.0</td>\n",
       "      <td>1.0</td>\n",
       "      <td>7979.0</td>\n",
       "      <td>8857.0</td>\n",
       "      <td>5725.0</td>\n",
       "      <td>1.0</td>\n",
       "      <td>7527.0</td>\n",
       "      <td>7513.0</td>\n",
       "      <td>1.0</td>\n",
       "    </tr>\n",
       "    <tr>\n",
       "      <th>19</th>\n",
       "      <td>1.0</td>\n",
       "      <td>6698.0</td>\n",
       "      <td>1.0</td>\n",
       "      <td>7726.0</td>\n",
       "      <td>3941.0</td>\n",
       "      <td>332.0</td>\n",
       "      <td>1.0</td>\n",
       "      <td>1.0</td>\n",
       "      <td>6510.0</td>\n",
       "      <td>7303.0</td>\n",
       "      <td>8395.0</td>\n",
       "      <td>9999.0</td>\n",
       "    </tr>\n",
       "  </tbody>\n",
       "</table>\n",
       "</div>"
      ],
      "text/plain": [
       "      0       1       2       3       4       5       6       7       8  \\\n",
       "0   1.0  8535.0  7531.0  3007.0  6362.0     1.0  7598.0  8730.0  8280.0   \n",
       "1   1.0  9793.0  8371.0  4180.0   365.0     1.0     1.0     1.0     1.0   \n",
       "2   1.0     1.0  5819.0  8321.0  4747.0  3816.0  5445.0  6963.0  8111.0   \n",
       "3   1.0  5908.0     1.0  6218.0     1.0  8701.0  3101.0  9334.0  3185.0   \n",
       "4   1.0  4893.0   282.0     1.0     1.0     1.0     1.0     1.0     1.0   \n",
       "5   1.0     1.0  7932.0  9886.0  2422.0     1.0     1.0     1.0     1.0   \n",
       "6   1.0     1.0  8033.0  1609.0  7980.0  7001.0  5847.0  8708.0     1.0   \n",
       "7   1.0     1.0  7120.0  6749.0  9506.0     1.0  7184.0  3446.0  5796.0   \n",
       "8   1.0  5650.0     1.0  7228.0  5481.0  6125.0     1.0  7773.0  1841.0   \n",
       "9   1.0  7854.0  7881.0  9611.0  8696.0  8901.0     1.0  9694.0  7062.0   \n",
       "10  1.0  6866.0  6205.0  2874.0  1575.0  3220.0  2276.0     1.0     1.0   \n",
       "11  1.0  9035.0  9339.0  4330.0   121.0     1.0     1.0     1.0     1.0   \n",
       "12  1.0  8946.0  8837.0  7049.0  5582.0  3182.0     1.0  4560.0  8417.0   \n",
       "13  1.0  7116.0     1.0  8488.0  9086.0  9486.0     1.0  6869.0  1054.0   \n",
       "14  1.0  6828.0     1.0  1922.0    25.0     1.0     1.0     1.0     1.0   \n",
       "15  1.0  7566.0  4492.0  7877.0  6199.0  6859.0  7022.0  7767.0  8900.0   \n",
       "16  1.0  7568.0  8050.0  8830.0     1.0     1.0     1.0  8550.0     1.0   \n",
       "17  1.0  9765.0  8635.0  6414.0  1990.0  1496.0  3257.0     1.0  7420.0   \n",
       "18  1.0  6202.0  9980.0  9281.0     1.0  7979.0  8857.0  5725.0     1.0   \n",
       "19  1.0  6698.0     1.0  7726.0  3941.0   332.0     1.0     1.0  6510.0   \n",
       "\n",
       "         9      10      11  \n",
       "0   9794.0     1.0     1.0  \n",
       "1      1.0     1.0  9999.0  \n",
       "2   8664.0  8925.0     1.0  \n",
       "3      1.0     1.0  9999.0  \n",
       "4      1.0     1.0  9999.0  \n",
       "5      1.0     1.0  9999.0  \n",
       "6      1.0  7752.0  9999.0  \n",
       "7   9095.0  3434.0  9999.0  \n",
       "8      1.0     1.0  9999.0  \n",
       "9      1.0     1.0  9999.0  \n",
       "10     1.0     1.0  9999.0  \n",
       "11     1.0     1.0  9999.0  \n",
       "12  2533.0     1.0  9999.0  \n",
       "13     1.0     1.0  9999.0  \n",
       "14     1.0     1.0  9999.0  \n",
       "15     1.0  7113.0  9999.0  \n",
       "16     1.0  7660.0  9999.0  \n",
       "17  1462.0   624.0  9999.0  \n",
       "18  7527.0  7513.0     1.0  \n",
       "19  7303.0  8395.0  9999.0  "
      ]
     },
     "execution_count": 30,
     "metadata": {},
     "output_type": "execute_result"
    }
   ],
   "source": [
    "pd.DataFrame(stocks_to_hold_optim)"
   ]
  },
  {
   "cell_type": "code",
   "execution_count": 207,
   "metadata": {},
   "outputs": [],
   "source": [
    "pnl_covered_optim = np.zeros(nb_path)\n",
    "nb_calls = 10000\n",
    "for i in range(nb_path):\n",
    "    borrowing_init = nb_calls*mat_call_price[i,0]*(1-0.2/100) - stocks_to_hold_optim[i,0]*mat_path_spot_fut[i,0]*(1+0.5/100)\n",
    "    borrowing = borrowing_init\n",
    "    adjustments = stocks_to_hold_optim[i,-1]*(mat_path_spot_fut[i,-1]-mat_path_spot_fut[i,nb_step-1])\n",
    "    for j in range(1,nb_step):\n",
    "        borrowing_bar = nb_calls*(mat_call_price[i,j-1]-mat_call_price[i,j]) + stocks_to_hold_optim[i,j-1]*(mat_path_spot_fut[i,j] - mat_path_spot_fut[i,j-1])+ time_step*int_rate*borrowing_init\n",
    "        borrowing_current = borrowing_bar + (stocks_to_hold_optim[i,j-1]-stocks_to_hold_optim[i,j])*mat_path_spot_fut[i,j]- abs(stocks_to_hold_optim[i,j-1]-stocks_to_hold_optim[i,j])*mat_path_spot_fut[i,j]*0.5/100\n",
    "        borrowing += borrowing_current\n",
    "        borrowing_init = borrowing_current\n",
    "        adjustments += stocks_to_hold_optim[i,j-1]*(mat_path_spot_fut[i,j]-mat_path_spot_fut[i,j-1])\n",
    "    pnl_covered_optim[i] =  round(nb_calls*(mat_call_price[i,0] - mat_call_price[i,-1]) + adjustments + time_step*int_rate*borrowing,2)\n",
    "    if 100 < mat_path_spot_fut[i,-1]:\n",
    "        pnl_covered_optim[i] -= round(nb_calls*100*0.5/100 + (nb_calls-stocks_to_hold_optim[i,-1])*mat_path_spot_fut[i,-1]*(1+0.5/100),2)\n",
    "    else:\n",
    "        pnl_covered_optim[i] -= round(stocks_to_hold_optim[i,-1]*mat_path_spot_fut[i,-1]*0.5/100,2)"
   ]
  },
  {
   "cell_type": "code",
   "execution_count": 208,
   "metadata": {},
   "outputs": [
    {
     "data": {
      "text/plain": [
       "Text(0.5, 1.0, 'Covered and non covered strategies pnl')"
      ]
     },
     "execution_count": 208,
     "metadata": {},
     "output_type": "execute_result"
    },
    {
     "data": {
      "image/png": "[encoded data removed]",
      "text/plain": [
       "<Figure size 720x720 with 1 Axes>"
      ]
     },
     "metadata": {
      "needs_background": "light"
     },
     "output_type": "display_data"
    }
   ],
   "source": [
    "plt.figure(figsize=(10,10))\n",
    "ax1 = plt.plot(pnl_covered,label=\"PnL covered\")\n",
    "ax2 = plt.plot(pnl_covered_optim,label=\"Pnl covered optimal\")\n",
    "ax3 = plt.plot(pnl_non_covered,label=\"PnL non covered\")\n",
    "plt.legend(loc=\"upper left\")\n",
    "plt.title(\"Covered and non covered strategies pnl\")"
   ]
  }
 ],
 "metadata": {
  "kernelspec": {
   "display_name": "Python 3",
   "language": "python",
   "name": "python3"
  },
  "language_info": {
   "codemirror_mode": {
    "name": "ipython",
    "version": 3
   },
   "file_extension": ".py",
   "mimetype": "text/x-python",
   "name": "python",
   "nbconvert_exporter": "python",
   "pygments_lexer": "ipython3",
   "version": "3.8.3"
  },
  "latex_envs": {
   "LaTeX_envs_menu_present": true,
   "autoclose": false,
   "autocomplete": true,
   "bibliofile": "biblio.bib",
   "cite_by": "apalike",
   "current_citInitial": 1,
   "eqLabelWithNumbers": true,
   "eqNumInitial": 1,
   "hotkeys": {
    "equation": "Ctrl-E",
    "itemize": "Ctrl-I"
   },
   "labels_anchors": false,
   "latex_user_defs": false,
   "report_style_numbering": false,
   "user_envs_cfg": false
  },
  "varInspector": {
   "cols": {
    "lenName": 16,
    "lenType": 16,
    "lenVar": 40
   },
   "kernels_config": {
    "python": {
     "delete_cmd_postfix": "",
     "delete_cmd_prefix": "del ",
     "library": "var_list.py",
     "varRefreshCmd": "print(var_dic_list())"
    },
    "r": {
     "delete_cmd_postfix": ") ",
     "delete_cmd_prefix": "rm(",
     "library": "var_list.r",
     "varRefreshCmd": "cat(var_dic_list()) "
    }
   },
   "types_to_exclude": [
    "module",
    "function",
    "builtin_function_or_method",
    "instance",
    "_Feature"
   ],
   "window_display": false
  }
 },
 "nbformat": 4,
 "nbformat_minor": 4
}
