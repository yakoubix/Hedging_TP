{
 "cells": [
  {
   "cell_type": "code",
   "execution_count": 96,
   "metadata": {},
   "outputs": [],
   "source": [
    "import numpy as np\n",
    "from scipy.stats import norm\n",
    "from matplotlib import pyplot as plt"
   ]
  },
  {
   "cell_type": "code",
   "execution_count": 97,
   "metadata": {},
   "outputs": [],
   "source": [
    "spot_init=100\n",
    "int_rate=2/100\n",
    "volatility=15/100\n",
    "maturity=1\n",
    "nb_step=12\n",
    "time_step= maturity/nb_step\n",
    "nb_path=20\n",
    "nb_seed=20191008"
   ]
  },
  {
   "cell_type": "code",
   "execution_count": 98,
   "metadata": {},
   "outputs": [],
   "source": [
    "drift_mod= (int_rate-0.5*volatility**2)*time_step\n",
    "mat_drift= drift_mod*np.cumsum(np.ones((nb_path,nb_step)),axis=1)\n",
    "volat_mod= volatility*np.sqrt(time_step)\n",
    "np.random.seed(nb_seed)\n",
    "mat_shock= np.random.standard_normal((nb_path,nb_step))\n",
    "mat_shock_cum= np.cumsum(mat_shock,axis=1)\n",
    "mat_volatility= volat_mod*mat_shock_cum\n",
    "mat_log_spot= mat_drift+mat_volatility\n",
    "mat_spot_init= spot_init*np.ones((nb_path,nb_step))\n",
    "mat_spot_fut= mat_spot_init*np.exp(mat_log_spot)\n",
    "vec_spot_init= spot_init*np.ones((nb_path,1))\n",
    "mat_path_spot_fut= np.concatenate((vec_spot_init,np.round(mat_spot_fut,3)),axis=1)"
   ]
  },
  {
   "cell_type": "code",
   "execution_count": 99,
   "metadata": {},
   "outputs": [],
   "source": [
    "mat_path_spot_fut;"
   ]
  },
  {
   "cell_type": "code",
   "execution_count": 100,
   "metadata": {},
   "outputs": [],
   "source": [
    "def implied_malz_vol(spot,tt_maturity,strike,int_rate):\n",
    "    alpha_1 = 0.58\n",
    "    alpha_2 = -0.35\n",
    "    #vol = volatility + (alpha_1/np.sqrt(tt_maturity))*np.log(spot*np.exp(int_rate*tt_maturity)/strike) + alpha_2*((1/np.sqrt(tt_maturity))*np.log(spot*np.exp(int_rate*tt_maturity)/strike))**2\n",
    "    malz_vol = volatility + (alpha_1/np.sqrt(tt_maturity))*np.log(spot*np.exp(int_rate*tt_maturity)/strike) + alpha_2*((1/np.sqrt(tt_maturity))*np.log(spot*np.exp(int_rate*tt_maturity)/strike))**2\n",
    "    return max(5/100,malz_vol)"
   ]
  },
  {
   "cell_type": "code",
   "execution_count": 101,
   "metadata": {},
   "outputs": [],
   "source": [
    "def comp_price_call(mat_spot,strike,int_rate):\n",
    "    mat_price_call = np.zeros((nb_path,nb_step+1))\n",
    "    for i in range(nb_path):\n",
    "        for j in range(nb_step+1):\n",
    "            if j == 12:\n",
    "                mat_price_call[i,j] = max(mat_spot[i,j] - strike,0)\n",
    "            else:\n",
    "                discount= np.exp(-int_rate*(nb_step-j))\n",
    "                volatility = implied_malz_vol(mat_spot[i,j],nb_step-j,strike,int_rate)\n",
    "                volat_mod = volatility*np.sqrt(nb_step-j)\n",
    "                moneyness= np.log(mat_spot[i,j]/strike)\n",
    "                term_vol= (int_rate+0.5*volatility**2)*(nb_step-j)\n",
    "                d1=(moneyness+term_vol)/volat_mod\n",
    "                d2=d1-volat_mod\n",
    "                prob_d1=norm.cdf(d1)\n",
    "                prob_d2=norm.cdf(d2)\n",
    "                mat_price_call[i,j] = mat_spot[i,j]*prob_d1-discount*strike*prob_d2\n",
    "    return mat_price_call \n",
    "\n",
    "def comp_delta_call(mat_spot,strike,int_rate):\n",
    "    mat_delta_call = np.zeros((nb_path,nb_step+1))\n",
    "    for i in range(nb_path):\n",
    "        for j in range(nb_step+1):\n",
    "            if j == 12 :\n",
    "                if mat_spot[i,j] > strike :\n",
    "                    mat_delta_call[i,j] = 1\n",
    "                else :\n",
    "                    mat_delta_call[i,j] = 0\n",
    "            else : \n",
    "                volatility = implied_malz_vol(mat_spot[i,j],nb_step-j,strike,int_rate)\n",
    "                volat_mod= volatility*np.sqrt(nb_step-j)\n",
    "                moneyness= np.log(mat_spot[i,j]/strike)\n",
    "                term_vol= (int_rate+0.5*volatility**2)*(nb_step-j)\n",
    "                d1=(moneyness+term_vol)/volat_mod\n",
    "                prob_d1=norm.cdf(d1)\n",
    "                mat_delta_call[i,j] =prob_d1\n",
    "    return mat_delta_call"
   ]
  },
  {
   "cell_type": "markdown",
   "metadata": {},
   "source": [
    "## Question 1 & 3"
   ]
  },
  {
   "cell_type": "code",
   "execution_count": 102,
   "metadata": {},
   "outputs": [],
   "source": [
    "mat_call_price = comp_price_call(mat_path_spot_fut,100,int_rate)\n",
    "mat_call_delta = comp_delta_call(mat_path_spot_fut,100,int_rate)"
   ]
  },
  {
   "cell_type": "code",
   "execution_count": 103,
   "metadata": {},
   "outputs": [],
   "source": [
    "mat_call_delta;"
   ]
  },
  {
   "cell_type": "code",
   "execution_count": 104,
   "metadata": {},
   "outputs": [
    {
     "data": {
      "text/plain": [
       "(20, 13)"
      ]
     },
     "execution_count": 104,
     "metadata": {},
     "output_type": "execute_result"
    }
   ],
   "source": [
    "np.shape(mat_call_price)"
   ]
  },
  {
   "cell_type": "code",
   "execution_count": 105,
   "metadata": {},
   "outputs": [],
   "source": [
    "for i in range(nb_path):\n",
    "    for j in range(nb_step+1):\n",
    "        mat_call_price[i,j] = round(mat_call_price[i,j],2)\n",
    "        mat_call_delta[i,j] = round(mat_call_delta[i,j],3)"
   ]
  },
  {
   "cell_type": "markdown",
   "metadata": {},
   "source": [
    "## Question 2"
   ]
  },
  {
   "cell_type": "code",
   "execution_count": 107,
   "metadata": {},
   "outputs": [],
   "source": [
    "pnl_non_covered = np.zeros(nb_path)\n",
    "nb_calls = 10000\n",
    "for i in range(nb_path):\n",
    "    borrowing_init = nb_calls*mat_call_price[i,0]*(1-0.2/100)\n",
    "    borrowing = 0\n",
    "    for j in range(1,nb_step+1):\n",
    "        borrowing += nb_calls*(mat_call_price[i,j-1]-mat_call_price[i,j]) + time_step*int_rate*borrowing_init\n",
    "        borrowing_init = borrowing\n",
    "    pnl_non_covered[i] =  round(nb_calls*(mat_call_price[i,0] - mat_call_price[i,nb_step-1]) + time_step*int_rate*borrowing,2)"
   ]
  },
  {
   "cell_type": "code",
   "execution_count": 108,
   "metadata": {},
   "outputs": [],
   "source": [
    "pnl_non_covered;"
   ]
  },
  {
   "cell_type": "markdown",
   "metadata": {},
   "source": [
    "## Question 4"
   ]
  },
  {
   "cell_type": "code",
   "execution_count": 109,
   "metadata": {},
   "outputs": [],
   "source": [
    "stocks_to_hold = np.zeros((nb_path,nb_step+1))\n",
    "\n",
    "for i in range(nb_path):\n",
    "    for j in range(nb_step+1):\n",
    "        '''if j == 0:\n",
    "            stocks_to_hold[i,j] = mat_call_price[i,j]/(mat_call_delta[i,j]*mat_spot_fut[i,j])\n",
    "        else:\n",
    "            stocks_to_hold[i,j] = round((mat_call_price[i,j] - mat_call_price[i,j-1])/(mat_call_delta[i,j]*(mat_spot_fut[i,j]-mat_spot_fut[i,j-1])))'''\n",
    "        stocks_to_hold[i,j] = round(nb_calls*mat_call_delta[i,j])"
   ]
  },
  {
   "cell_type": "code",
   "execution_count": 114,
   "metadata": {
    "scrolled": true
   },
   "outputs": [],
   "source": [
    "stocks_to_hold;"
   ]
  },
  {
   "cell_type": "markdown",
   "metadata": {},
   "source": [
    "## Question 5"
   ]
  },
  {
   "cell_type": "code",
   "execution_count": 111,
   "metadata": {},
   "outputs": [],
   "source": [
    "pnl_covered = np.zeros(nb_path)\n",
    "nb_calls = 10000\n",
    "for i in range(nb_path):\n",
    "    borrowing_init = nb_calls*mat_call_price[i,0]*(1-0.2/100) - (stocks_to_hold[i,0]*mat_path_spot_fut[i,0]*(1+0.5/100))\n",
    "    borrowing = 0\n",
    "    for j in range(1,nb_step+1):\n",
    "        borrowing_bar = nb_calls*(mat_call_price[i,j-1]-mat_call_price[i,j]) + stocks_to_hold[i,j-1]*(mat_path_spot_fut[i,j] - mat_path_spot_fut[i,j-1])+ time_step*int_rate*borrowing_init\n",
    "        borrowing += borrowing_bar + (stocks_to_hold[i,j]-stocks_to_hold[i,j-1])*mat_path_spot_fut[i,j]*(1-0.5/100)\n",
    "    pnl_covered[i] =  round(nb_calls*(mat_call_price[i,0] - mat_call_price[i,nb_step-1]) + time_step*int_rate*borrowing,2)"
   ]
  },
  {
   "cell_type": "code",
   "execution_count": 112,
   "metadata": {},
   "outputs": [
    {
     "data": {
      "text/plain": [
       "Text(0.5, 1.0, 'Covered and non covered strategies pnl')"
      ]
     },
     "execution_count": 112,
     "metadata": {},
     "output_type": "execute_result"
    },
    {
     "data": {
      "image/png": "[encoded data removed]",
      "text/plain": [
       "<Figure size 720x720 with 1 Axes>"
      ]
     },
     "metadata": {
      "needs_background": "light"
     },
     "output_type": "display_data"
    }
   ],
   "source": [
    "plt.figure(figsize=(10,10))\n",
    "ax1 = plt.plot(pnl_covered,label=\"PnL covered\")\n",
    "ax2 = plt.plot(pnl_non_covered,label=\"PnL non covered\")\n",
    "plt.legend(loc=\"upper left\")\n",
    "plt.title(\"Covered and non covered strategies pnl\")"
   ]
  },
  {
   "cell_type": "code",
   "execution_count": null,
   "metadata": {},
   "outputs": [],
   "source": []
  }
 ],
 "metadata": {
  "kernelspec": {
   "display_name": "Python 3",
   "language": "python",
   "name": "python3"
  },
  "language_info": {
   "codemirror_mode": {
    "name": "ipython",
    "version": 3
   },
   "file_extension": ".py",
   "mimetype": "text/x-python",
   "name": "python",
   "nbconvert_exporter": "python",
   "pygments_lexer": "ipython3",
   "version": "3.8.3"
  },
  "latex_envs": {
   "LaTeX_envs_menu_present": true,
   "autoclose": false,
   "autocomplete": true,
   "bibliofile": "biblio.bib",
   "cite_by": "apalike",
   "current_citInitial": 1,
   "eqLabelWithNumbers": true,
   "eqNumInitial": 1,
   "hotkeys": {
    "equation": "Ctrl-E",
    "itemize": "Ctrl-I"
   },
   "labels_anchors": false,
   "latex_user_defs": false,
   "report_style_numbering": false,
   "user_envs_cfg": false
  },
  "varInspector": {
   "cols": {
    "lenName": 16,
    "lenType": 16,
    "lenVar": 40
   },
   "kernels_config": {
    "python": {
     "delete_cmd_postfix": "",
     "delete_cmd_prefix": "del ",
     "library": "var_list.py",
     "varRefreshCmd": "print(var_dic_list())"
    },
    "r": {
     "delete_cmd_postfix": ") ",
     "delete_cmd_prefix": "rm(",
     "library": "var_list.r",
     "varRefreshCmd": "cat(var_dic_list()) "
    }
   },
   "types_to_exclude": [
    "module",
    "function",
    "builtin_function_or_method",
    "instance",
    "_Feature"
   ],
   "window_display": false
  }
 },
 "nbformat": 4,
 "nbformat_minor": 4
}
